{
 "cells": [
  {
   "cell_type": "markdown",
   "metadata": {},
   "source": [
    "# Lab: Simulation, 1/14,000,605\n",
    "\n",
    "As you learned in the lecture, **simulation** is an extremely powerful tool to estimate probabilities by replicating the reality and determining the successful observations.\n",
    "\n",
    "In this lab, we will try some increasingly interesting simulations and explore the possibilities with this tool.\n",
    "\n",
    "(Wonder why the title is 1/14,000,605? See Avengers: Infinity War at [https://www.youtube.com/watch?v=eGKPfZTXHsc](https://www.youtube.com/watch?v=eGKPfZTXHsc))\n",
    "\n",
    "## Group\n",
    "\n",
    "Edit the next Python cell to add information about who you're working within your lab section:"
   ]
  },
  {
   "cell_type": "code",
   "execution_count": null,
   "metadata": {},
   "outputs": [],
   "source": [
    "# First, meet your CAs and TA if you haven't already!\n",
    "# ...first name is enough, we'll know who they are! :)\n",
    "ta_name = \"Daniel\"\n",
    "ca1_name = \"Tanvi\"\n",
    "ca2_name = \"Kaitlyn\"\n",
    "ca3_name = \"\"\n",
    "\n",
    "\n",
    "# Also, make sure to meet your team for this lab! Find out their name, what major they're in,\n",
    "# and learn something new about them that you never knew before!\n",
    "partner1_name = \"\"\n",
    "partner1_netid = \"\"\n",
    "partner1_major = \"\"\n",
    "\n",
    "partner2_name = \"\"\n",
    "partner2_netid = \"\"\n",
    "partner2_major = \"\"\n",
    "\n",
    "partner3_name = \"\"\n",
    "partner3_netid = \"\"\n",
    "partner3_major = \"\""
   ]
  },
  {
   "cell_type": "markdown",
   "metadata": {},
   "source": [
    "## Table of Contents <a id='toc'></a>\n",
    "\n",
    "**Use the Outline view (View > Command Palette > Type \"outline\") for navigation.**\n",
    "\n",
    "* Examples\n",
    "* Puzzle 1\n",
    "    * Puzzle 1.1\n",
    "    * Puzzle 1.2\n",
    "* Puzzle 2\n",
    "    * Puzzle 2.1\n",
    "    * Puzzle 2.2\n",
    "    * Puzzle 2.3 \n",
    "* Puzzle 3\n",
    "    * Puzzle 3.1\n",
    "    * Puzzle 3.2\n",
    "    * Puzzle 3.3\n",
    "    * Puzzle 3.4\n",
    "* Puzzle 4\n",
    "    * Puzzle 4.1\n",
    "    * Puzzle 4.2\n",
    "    * Puzzle 4.3\n",
    "* Extra Credit\n",
    "* Finale"
   ]
  },
  {
   "cell_type": "markdown",
   "metadata": {},
   "source": [
    "## Example 1: Random Seed **(IMPORTANT: PLEASE READ AND RUN THIS EXAMPLE)**\n",
    "\n",
    "A random seed is a number used to initialize a pseudorandom number generator. If we use the same seed, we will get the same random number sequence.\n",
    "\n",
    "In this lab, we will use the random seed to help you check the simulations' output. \n",
    "\n",
    "**Do NOT delete the line that set the seed to 107 in any puzzles.**\n",
    "\n",
    "You will get a different random number sequence and will lose points as a result."
   ]
  },
  {
   "cell_type": "code",
   "execution_count": 1,
   "metadata": {},
   "outputs": [
    {
     "name": "stdout",
     "output_type": "stream",
     "text": [
      "0.24648195966935815\n",
      "0.5812899303907797\n",
      "0.9722810069256511\n",
      "0.24648195966935815\n",
      "0.5812899303907797\n"
     ]
    }
   ],
   "source": [
    "import pandas as pd\n",
    "import random as rd\n",
    "rd.seed(107)\n",
    "print(rd.random())\n",
    "print(rd.random())\n",
    "print(rd.random())\n",
    "rd.seed(107)\n",
    "print(rd.random())\n",
    "print(rd.random())"
   ]
  },
  {
   "cell_type": "markdown",
   "metadata": {},
   "source": [
    "## Example 2: Simulation of Two Dice (You can go to part 1 directly if you are confident.)\n",
    "\n",
    "Suppose we roll two different **fair six-sided dice** at the same time.  One die is colored **blue** while the other is colored **red**.\n",
    "\n",
    "Simulate the above situation **1,000** times and store the observations of the value of the blue die and the red die in `df0`."
   ]
  },
  {
   "cell_type": "code",
   "execution_count": 2,
   "metadata": {
    "nbgrader": {
     "grade": false,
     "grade_id": "cell-c93866d5164aa8aa",
     "locked": false,
     "schema_version": 3,
     "solution": true,
     "task": false
    }
   },
   "outputs": [
    {
     "data": {
      "text/html": [
       "<div>\n",
       "<style scoped>\n",
       "    .dataframe tbody tr th:only-of-type {\n",
       "        vertical-align: middle;\n",
       "    }\n",
       "\n",
       "    .dataframe tbody tr th {\n",
       "        vertical-align: top;\n",
       "    }\n",
       "\n",
       "    .dataframe thead th {\n",
       "        text-align: right;\n",
       "    }\n",
       "</style>\n",
       "<table border=\"1\" class=\"dataframe\">\n",
       "  <thead>\n",
       "    <tr style=\"text-align: right;\">\n",
       "      <th></th>\n",
       "      <th>blue</th>\n",
       "      <th>red</th>\n",
       "    </tr>\n",
       "  </thead>\n",
       "  <tbody>\n",
       "    <tr>\n",
       "      <th>740</th>\n",
       "      <td>5</td>\n",
       "      <td>5</td>\n",
       "    </tr>\n",
       "    <tr>\n",
       "      <th>169</th>\n",
       "      <td>3</td>\n",
       "      <td>4</td>\n",
       "    </tr>\n",
       "    <tr>\n",
       "      <th>21</th>\n",
       "      <td>4</td>\n",
       "      <td>4</td>\n",
       "    </tr>\n",
       "    <tr>\n",
       "      <th>461</th>\n",
       "      <td>1</td>\n",
       "      <td>3</td>\n",
       "    </tr>\n",
       "    <tr>\n",
       "      <th>699</th>\n",
       "      <td>1</td>\n",
       "      <td>6</td>\n",
       "    </tr>\n",
       "  </tbody>\n",
       "</table>\n",
       "</div>"
      ],
      "text/plain": [
       "     blue  red\n",
       "740     5    5\n",
       "169     3    4\n",
       "21      4    4\n",
       "461     1    3\n",
       "699     1    6"
      ]
     },
     "execution_count": 2,
     "metadata": {},
     "output_type": "execute_result"
    }
   ],
   "source": [
    "# Step 0: Set the random seed for replicability\n",
    "rd.seed(107)\n",
    "# Step 1: Start with an empty list to store the simulated data\n",
    "data = []\n",
    "# Step 2: Implement the simulation with a for-loop\n",
    "for i in range(1000):\n",
    "    blue = rd.randint(1, 6)\n",
    "    red = rd.randint(1, 6)\n",
    "    d = {\"blue\": blue, \"red\": red}\n",
    "    data.append(d)    \n",
    "# Step 3: Convert the list of simulated data to a dataframe\n",
    "df0 = pd.DataFrame(data)\n",
    "# Sanity check: Show a few random rows\n",
    "df0.sample(5)"
   ]
  },
  {
   "cell_type": "markdown",
   "metadata": {},
   "source": [
    "## Example 3: Probability Estimation of a Two-Dice Event\n",
    "\n",
    "Using the above simulated data, we can estimate the probability that **the blue die lands on 4 or the red die lands on 2**."
   ]
  },
  {
   "cell_type": "code",
   "execution_count": 3,
   "metadata": {
    "nbgrader": {
     "grade": false,
     "grade_id": "cell-5144eadebe059446",
     "locked": false,
     "schema_version": 3,
     "solution": true,
     "task": false
    }
   },
   "outputs": [
    {
     "name": "stdout",
     "output_type": "stream",
     "text": [
      "0.318\n",
      "0.318\n"
     ]
    }
   ],
   "source": [
    "# Numerator:    sum only counts the number of TRUEs.\n",
    "# Denominator:  len counts both TRUEs and FALSEs.\n",
    "#               You can try len((df0['blue'] == 4) | (df0['red'] == 2)).\n",
    "p03 = sum((df0['blue'] == 4) | (df0['red'] == 2))/len(df0)\n",
    "print(p03)\n",
    "# An alternative approach is to subset the success dataframe and find its length.\n",
    "df0_success = df0[(df0['blue'] == 4) | (df0['red'] == 2)]\n",
    "p03_alt = len(df0_success)/len(df0)\n",
    "print(p03_alt)"
   ]
  },
  {
   "cell_type": "markdown",
   "metadata": {},
   "source": [
    "## Example 4: Exact Probability of a Two-Dice Event\n",
    "\n",
    "We can also calculate the exact probability that **the blue die lands on 4 or the red die lands on 2**, which is not far from our estimate in Example 3."
   ]
  },
  {
   "cell_type": "code",
   "execution_count": 4,
   "metadata": {
    "nbgrader": {
     "grade": false,
     "grade_id": "cell-a28ce929e8600774",
     "locked": false,
     "schema_version": 3,
     "solution": true,
     "task": false
    }
   },
   "outputs": [
    {
     "data": {
      "text/plain": [
       "0.3055555555555555"
      ]
     },
     "execution_count": 4,
     "metadata": {},
     "output_type": "execute_result"
    }
   ],
   "source": [
    "p03_exact = 1/6 + 1/6 - 1/36\n",
    "p03_exact"
   ]
  },
  {
   "cell_type": "markdown",
   "metadata": {},
   "source": [
    "# Puzzle 1: Rolling Three Dice\n",
    "\n",
    "## Puzzle 1.1: Simulation of Three Dice\n",
    "\n",
    "Suppose we roll three different **fair six-sided dice**: a **white**, a **red**, and a **blue**.\n",
    "\n",
    "Simulate the above situation **1,000** times and store the observations in `df1`.\n",
    "\n",
    "Hint (double-click this cell to see it): <span style=\"color:#ffffff00\">see Example 2. Try not to copy and paste so that you can learn line by line.</span>"
   ]
  },
  {
   "cell_type": "code",
   "execution_count": 5,
   "metadata": {
    "nbgrader": {
     "grade": false,
     "grade_id": "cell-c42efbf1ba47dcab",
     "locked": false,
     "schema_version": 3,
     "solution": true,
     "task": false
    }
   },
   "outputs": [
    {
     "data": {
      "text/html": [
       "<div>\n",
       "<style scoped>\n",
       "    .dataframe tbody tr th:only-of-type {\n",
       "        vertical-align: middle;\n",
       "    }\n",
       "\n",
       "    .dataframe tbody tr th {\n",
       "        vertical-align: top;\n",
       "    }\n",
       "\n",
       "    .dataframe thead th {\n",
       "        text-align: right;\n",
       "    }\n",
       "</style>\n",
       "<table border=\"1\" class=\"dataframe\">\n",
       "  <thead>\n",
       "    <tr style=\"text-align: right;\">\n",
       "      <th></th>\n",
       "      <th>white</th>\n",
       "      <th>blue</th>\n",
       "      <th>red</th>\n",
       "    </tr>\n",
       "  </thead>\n",
       "  <tbody>\n",
       "    <tr>\n",
       "      <th>779</th>\n",
       "      <td>1</td>\n",
       "      <td>6</td>\n",
       "      <td>2</td>\n",
       "    </tr>\n",
       "    <tr>\n",
       "      <th>286</th>\n",
       "      <td>3</td>\n",
       "      <td>3</td>\n",
       "      <td>3</td>\n",
       "    </tr>\n",
       "    <tr>\n",
       "      <th>961</th>\n",
       "      <td>6</td>\n",
       "      <td>2</td>\n",
       "      <td>3</td>\n",
       "    </tr>\n",
       "    <tr>\n",
       "      <th>413</th>\n",
       "      <td>2</td>\n",
       "      <td>5</td>\n",
       "      <td>5</td>\n",
       "    </tr>\n",
       "    <tr>\n",
       "      <th>650</th>\n",
       "      <td>4</td>\n",
       "      <td>6</td>\n",
       "      <td>1</td>\n",
       "    </tr>\n",
       "  </tbody>\n",
       "</table>\n",
       "</div>"
      ],
      "text/plain": [
       "     white  blue  red\n",
       "779      1     6    2\n",
       "286      3     3    3\n",
       "961      6     2    3\n",
       "413      2     5    5\n",
       "650      4     6    1"
      ]
     },
     "execution_count": 5,
     "metadata": {},
     "output_type": "execute_result"
    }
   ],
   "source": [
    "rd.seed(107)\n",
    "...\n",
    "data = []\n",
    "for i in range(1000):\n",
    "    white = rd.randint(1, 6)\n",
    "    blue = rd.randint(1, 6)\n",
    "    red = rd.randint(1, 6)\n",
    "    d = {\"white\":white, \"blue\": blue, \"red\": red}\n",
    "    data.append(d)    \n",
    "df1 = pd.DataFrame(data)\n",
    "df1.sample(5)"
   ]
  },
  {
   "cell_type": "markdown",
   "metadata": {},
   "source": [
    "## Puzzle 1.2: Probability Estimation of a Three-Dice Event\n",
    "\n",
    "Estimate the probability that the **sum of all three dice is exactly 9**. Store the result in `p12`.\n",
    "\n",
    "Hint (double-click this cell to see it): <span style=\"color:#ffffff00\">see Example 3. You can use .sum(axis=1) to obtain the sum of all three dice row by row.</span>"
   ]
  },
  {
   "cell_type": "code",
   "execution_count": 7,
   "metadata": {
    "nbgrader": {
     "grade": false,
     "grade_id": "cell-b16fd8d9c98834ef",
     "locked": false,
     "schema_version": 3,
     "solution": true,
     "task": false
    }
   },
   "outputs": [
    {
     "data": {
      "text/plain": [
       "0.127"
      ]
     },
     "execution_count": 7,
     "metadata": {},
     "output_type": "execute_result"
    }
   ],
   "source": [
    "p12 = sum(((df1[\"white\"] +df1[\"blue\"] + df1[\"red\"])==9))/len(df0)\n",
    "p12"
   ]
  },
  {
   "cell_type": "code",
   "execution_count": 9,
   "metadata": {
    "nbgrader": {
     "grade": true,
     "grade_id": "cell-571231fcdfa9de08",
     "locked": true,
     "points": 1,
     "schema_version": 3,
     "solution": false,
     "task": false
    }
   },
   "outputs": [
    {
     "name": "stdout",
     "output_type": "stream",
     "text": [
      "🎉 All tests passed! 🎉\n"
     ]
    }
   ],
   "source": [
    "## == TEST CASES for Part 1 ==\n",
    "# - This read-only cell contains test cases for your previous cell(s).\n",
    "# - If this cell runs without any error, you PASSED all test cases!\n",
    "# - If this cell results in any errors, check your previous cell(s), make changes, and RE-RUN your code and then this cell.\n",
    "import math\n",
    "assert(len(df1) == 1000), \"Make sure your df1 has exactly 1,000 observations\"\n",
    "assert(math.isclose(p12, 127/1000)), \"Make sure you set the seed to 107 and estimate the correct probability in p12\"\n",
    "\n",
    "## == SUCCESS MESSAGE ==\n",
    "# You will only see this message (with the emoji showing) if you passed all test cases:\n",
    "tada = \"\\N{PARTY POPPER}\"\n",
    "print(f\"{tada} All tests passed! {tada}\")"
   ]
  },
  {
   "cell_type": "markdown",
   "metadata": {},
   "source": [
    "# Puzzle 2: Fliping Four Coins\n",
    "\n",
    "## Puzzle 2.1: Simulation of Four Coins\n",
    "\n",
    "Suppose we flip **four fair coins**, one coin at a time and one after another. Each coin has two sides: **\"head\" (defined as `1`)** and **\"tail\" (defined as `0`)**.\n",
    "\n",
    "Simulate the above situation **50,000** times and store the observations in `df2`.\n",
    "\n",
    "Hint (double-click this cell to see it): <span style=\"color:#ffffff00\">see Example 2. Try not to copy and paste so that you can learn line by line.</span>"
   ]
  },
  {
   "cell_type": "code",
   "execution_count": 10,
   "metadata": {
    "nbgrader": {
     "grade": false,
     "grade_id": "cell-da32a7ecb4863a7f",
     "locked": false,
     "schema_version": 3,
     "solution": true,
     "task": false
    }
   },
   "outputs": [
    {
     "data": {
      "text/html": [
       "<div>\n",
       "<style scoped>\n",
       "    .dataframe tbody tr th:only-of-type {\n",
       "        vertical-align: middle;\n",
       "    }\n",
       "\n",
       "    .dataframe tbody tr th {\n",
       "        vertical-align: top;\n",
       "    }\n",
       "\n",
       "    .dataframe thead th {\n",
       "        text-align: right;\n",
       "    }\n",
       "</style>\n",
       "<table border=\"1\" class=\"dataframe\">\n",
       "  <thead>\n",
       "    <tr style=\"text-align: right;\">\n",
       "      <th></th>\n",
       "      <th>coin1</th>\n",
       "      <th>coin2</th>\n",
       "      <th>coin3</th>\n",
       "      <th>coin4</th>\n",
       "    </tr>\n",
       "  </thead>\n",
       "  <tbody>\n",
       "    <tr>\n",
       "      <th>21063</th>\n",
       "      <td>0</td>\n",
       "      <td>0</td>\n",
       "      <td>0</td>\n",
       "      <td>0</td>\n",
       "    </tr>\n",
       "    <tr>\n",
       "      <th>7228</th>\n",
       "      <td>1</td>\n",
       "      <td>0</td>\n",
       "      <td>0</td>\n",
       "      <td>0</td>\n",
       "    </tr>\n",
       "    <tr>\n",
       "      <th>32793</th>\n",
       "      <td>1</td>\n",
       "      <td>1</td>\n",
       "      <td>1</td>\n",
       "      <td>0</td>\n",
       "    </tr>\n",
       "    <tr>\n",
       "      <th>33588</th>\n",
       "      <td>1</td>\n",
       "      <td>0</td>\n",
       "      <td>0</td>\n",
       "      <td>1</td>\n",
       "    </tr>\n",
       "    <tr>\n",
       "      <th>20291</th>\n",
       "      <td>0</td>\n",
       "      <td>0</td>\n",
       "      <td>0</td>\n",
       "      <td>0</td>\n",
       "    </tr>\n",
       "  </tbody>\n",
       "</table>\n",
       "</div>"
      ],
      "text/plain": [
       "       coin1  coin2  coin3  coin4\n",
       "21063      0      0      0      0\n",
       "7228       1      0      0      0\n",
       "32793      1      1      1      0\n",
       "33588      1      0      0      1\n",
       "20291      0      0      0      0"
      ]
     },
     "execution_count": 10,
     "metadata": {},
     "output_type": "execute_result"
    }
   ],
   "source": [
    "rd.seed(107)\n",
    "data2 = []\n",
    "for i in range(50000):\n",
    "    c1 = rd.randint(0,1) \n",
    "    c2 = rd.randint(0,1) \n",
    "    c3 = rd.randint(0,1) \n",
    "    c4 = rd.randint(0,1)\n",
    "    x = {\"coin1\": c1, \"coin2\": c2, \"coin3\":c3, \"coin4\": c4}\n",
    "    data2.append(x)    \n",
    "df2 = pd.DataFrame(data2)\n",
    "df2.sample(5)"
   ]
  },
  {
   "cell_type": "markdown",
   "metadata": {},
   "source": [
    "## Puzzle 2.2: Probability Estimation of a Four-Coins Event\n",
    "\n",
    "Estimate the probability that **the first two coin flips are both heads and last two coin flips are both tails**. Store the result in `p22`.\n",
    "\n",
    "Hint (double-click this cell to see it): <span style=\"color:#ffffff00\">see Example 3.</span>"
   ]
  },
  {
   "cell_type": "code",
   "execution_count": 11,
   "metadata": {
    "nbgrader": {
     "grade": false,
     "grade_id": "cell-500cf95087dcb6db",
     "locked": false,
     "schema_version": 3,
     "solution": true,
     "task": false
    }
   },
   "outputs": [
    {
     "data": {
      "text/plain": [
       "0.06382"
      ]
     },
     "execution_count": 11,
     "metadata": {},
     "output_type": "execute_result"
    }
   ],
   "source": [
    "p22 = sum((df2[\"coin1\"] == 1)&(df2[\"coin2\"] == 1)&(df2[\"coin3\"] == 0)&(df2[\"coin4\"] == 0))/len(df2)\n",
    "p22"
   ]
  },
  {
   "cell_type": "markdown",
   "metadata": {},
   "source": [
    "## Puzzle 2.3: Probability Estimation of Another Four-Coins Event\n",
    "\n",
    "Estimate the probability that **at most two coin flips are heads**. Store the result in `p23`.\n",
    "\n",
    "Hint (double-click this cell to see it): <span style=\"color:#ffffff00\">see Example 3. You can use .sum(axis=1) to obtain the \"sum\" of four coins row by row.</span>"
   ]
  },
  {
   "cell_type": "code",
   "execution_count": 12,
   "metadata": {
    "nbgrader": {
     "grade": false,
     "grade_id": "cell-500cf95087dcb6db",
     "locked": false,
     "schema_version": 3,
     "solution": true,
     "task": false
    }
   },
   "outputs": [
    {
     "data": {
      "text/plain": [
       "0.68536"
      ]
     },
     "execution_count": 12,
     "metadata": {},
     "output_type": "execute_result"
    }
   ],
   "source": [
    "p23 = sum(df2.sum(axis=1) <= 2) / len(df2)\n",
    "p23"
   ]
  },
  {
   "cell_type": "code",
   "execution_count": 14,
   "metadata": {
    "nbgrader": {
     "grade": true,
     "grade_id": "cell-ee8226d0066bb603",
     "locked": true,
     "points": 1,
     "schema_version": 3,
     "solution": false,
     "task": false
    }
   },
   "outputs": [
    {
     "name": "stdout",
     "output_type": "stream",
     "text": [
      "🎉 All tests passed! 🎉\n"
     ]
    }
   ],
   "source": [
    "## == TEST CASES for Part 2 ==\n",
    "# - This read-only cell contains test cases for your previous cell(s).\n",
    "# - If this cell runs without any error, you PASSED all test cases!\n",
    "# - If this cell results in any errors, check your previous cell(s), make changes, and RE-RUN your code and then this cell.\n",
    "import math\n",
    "assert(len(df2) == 50000), \"Make sure your df2 has exactly 50,000 observations\"\n",
    "assert(math.isclose(p22, 3191/50000)), \"Make sure you set the seed to 107 and estimate the correct probability in p22\"\n",
    "assert(math.isclose(p23, 34268/50000)), \"Make sure you set the seed to 107 and estimate the correct probability in p23\"\n",
    "\n",
    "## == SUCCESS MESSAGE ==\n",
    "# You will only see this message (with the emoji showing) if you passed all test cases:\n",
    "tada = \"\\N{PARTY POPPER}\"\n",
    "print(f\"{tada} All tests passed! {tada}\")"
   ]
  },
  {
   "cell_type": "markdown",
   "metadata": {},
   "source": [
    "# Puzzle 3: Avengers: Infinity War\n",
    "\n",
    "## Puzzle 3.1: Simulation of the Battle on Titan\n",
    "\n",
    "Suppose the **power level** of the characters engaged in the battle on Titan can be modelled as follows:\n",
    "\n",
    "1. Thanos:  a random integer between 80 to 120.\n",
    "2. Strange: a random integer between 10 to 20.\n",
    "3. Stark:   a random integer between 10 to 16.\n",
    "4. Parker:  a random integer between 6 to 12.\n",
    "5. Mantis:  a random real number between 0.8 to 1 (inclusive). The code for Mantis is given.\n",
    "6. Drax:    a random integer between 8 to 16.\n",
    "7. Nebula:  a random integer between 8 to 16.\n",
    "8. Quill:   a random integer between -10 to 10.\n",
    "\n",
    "Simulate the power levels **100,000** times **in the order listed above** and store the observations in `df3`.\n",
    "\n",
    "Hint (double-click this cell to see it): <span style=\"color:#ffffff00\">see Example 2. Try not to copy and paste so that you can learn line by line.</span>"
   ]
  },
  {
   "cell_type": "code",
   "execution_count": 15,
   "metadata": {
    "nbgrader": {
     "grade": false,
     "grade_id": "cell-da32a7ecb4863a7f",
     "locked": false,
     "schema_version": 3,
     "solution": true,
     "task": false
    }
   },
   "outputs": [
    {
     "data": {
      "text/html": [
       "<div>\n",
       "<style scoped>\n",
       "    .dataframe tbody tr th:only-of-type {\n",
       "        vertical-align: middle;\n",
       "    }\n",
       "\n",
       "    .dataframe tbody tr th {\n",
       "        vertical-align: top;\n",
       "    }\n",
       "\n",
       "    .dataframe thead th {\n",
       "        text-align: right;\n",
       "    }\n",
       "</style>\n",
       "<table border=\"1\" class=\"dataframe\">\n",
       "  <thead>\n",
       "    <tr style=\"text-align: right;\">\n",
       "      <th></th>\n",
       "      <th>thanos</th>\n",
       "      <th>strange</th>\n",
       "      <th>stark</th>\n",
       "      <th>parker</th>\n",
       "      <th>mantis</th>\n",
       "      <th>drax</th>\n",
       "      <th>nebula</th>\n",
       "      <th>quill</th>\n",
       "    </tr>\n",
       "  </thead>\n",
       "  <tbody>\n",
       "    <tr>\n",
       "      <th>38057</th>\n",
       "      <td>117</td>\n",
       "      <td>18</td>\n",
       "      <td>15</td>\n",
       "      <td>6</td>\n",
       "      <td>0.866619</td>\n",
       "      <td>16</td>\n",
       "      <td>10</td>\n",
       "      <td>0</td>\n",
       "    </tr>\n",
       "    <tr>\n",
       "      <th>15310</th>\n",
       "      <td>88</td>\n",
       "      <td>15</td>\n",
       "      <td>12</td>\n",
       "      <td>9</td>\n",
       "      <td>0.927012</td>\n",
       "      <td>11</td>\n",
       "      <td>10</td>\n",
       "      <td>6</td>\n",
       "    </tr>\n",
       "    <tr>\n",
       "      <th>98468</th>\n",
       "      <td>81</td>\n",
       "      <td>11</td>\n",
       "      <td>14</td>\n",
       "      <td>11</td>\n",
       "      <td>0.975058</td>\n",
       "      <td>10</td>\n",
       "      <td>12</td>\n",
       "      <td>-10</td>\n",
       "    </tr>\n",
       "    <tr>\n",
       "      <th>69985</th>\n",
       "      <td>118</td>\n",
       "      <td>15</td>\n",
       "      <td>11</td>\n",
       "      <td>8</td>\n",
       "      <td>0.928773</td>\n",
       "      <td>14</td>\n",
       "      <td>11</td>\n",
       "      <td>0</td>\n",
       "    </tr>\n",
       "    <tr>\n",
       "      <th>72602</th>\n",
       "      <td>103</td>\n",
       "      <td>16</td>\n",
       "      <td>12</td>\n",
       "      <td>12</td>\n",
       "      <td>0.900660</td>\n",
       "      <td>15</td>\n",
       "      <td>15</td>\n",
       "      <td>6</td>\n",
       "    </tr>\n",
       "  </tbody>\n",
       "</table>\n",
       "</div>"
      ],
      "text/plain": [
       "       thanos  strange  stark  parker    mantis  drax  nebula  quill\n",
       "38057     117       18     15       6  0.866619    16      10      0\n",
       "15310      88       15     12       9  0.927012    11      10      6\n",
       "98468      81       11     14      11  0.975058    10      12    -10\n",
       "69985     118       15     11       8  0.928773    14      11      0\n",
       "72602     103       16     12      12  0.900660    15      15      6"
      ]
     },
     "execution_count": 15,
     "metadata": {},
     "output_type": "execute_result"
    }
   ],
   "source": [
    "rd.seed(107)\n",
    "data = []\n",
    "for i in range(100000):\n",
    "    thanos = rd.randint(80, 120)\n",
    "    strange = rd.randint(10, 20)\n",
    "    stark = rd.randint(10,16)\n",
    "    parker = rd.randint(6,12)\n",
    "    mantis = rd.uniform(0.8, 1)\n",
    "    drax = rd.randint(8,16)\n",
    "    nebula = rd.randint(8, 16)\n",
    "    quill = rd.randint(-10, 10)\n",
    "    d = {\"thanos\": thanos, \"strange\": strange, \"stark\":stark, \"parker\": parker, \"mantis\": mantis, \"drax\": drax, \"nebula\": nebula, \"quill\": quill}\n",
    "    data.append(d)\n",
    "df3 = pd.DataFrame(data)\n",
    "df3.sample(5)"
   ]
  },
  {
   "cell_type": "markdown",
   "metadata": {},
   "source": [
    "## Puzzle 3.2: Probability Estimation of Winning the Battle\n",
    "\n",
    "Suppose the superheroes win when\n",
    "$$\n",
    "\\mathrm{Strange} +\\mathrm{Stark} +\\mathrm{Parker} +\\mathrm{Drax} +\\mathrm{Nebula} +\\mathrm{Quill} \\ge \\mathrm{Mantis} \\times \\mathrm{Thanos}.\n",
    "$$\n",
    "Estimate the probability that **the superheroes win**. Store the result in `p32`.\n",
    "\n",
    "Hint (double-click this cell to see it): <span style=\"color:#ffffff00\">see Example 3. You can use df[list].sum(axis=1) to obtain the row sum of columns with name in list.</span>"
   ]
  },
  {
   "cell_type": "code",
   "execution_count": 16,
   "metadata": {
    "nbgrader": {
     "grade": false,
     "grade_id": "cell-500cf95087dcb6db",
     "locked": false,
     "schema_version": 3,
     "solution": true,
     "task": false
    }
   },
   "outputs": [
    {
     "data": {
      "text/plain": [
       "0.01717"
      ]
     },
     "execution_count": 16,
     "metadata": {},
     "output_type": "execute_result"
    }
   ],
   "source": [
    "hero = [\"strange\", \"stark\", \"parker\", \"drax\", \"nebula\", \"quill\"]\n",
    "p32 = sum((df3[hero].sum(axis=1)) >= (df3[\"mantis\"]*df3[\"thanos\"])) / len(df3)\n",
    "p32"
   ]
  },
  {
   "cell_type": "markdown",
   "metadata": {},
   "source": [
    "## Puzzle 3.3: Conditional Probability Estimation of Winning the Battle\n",
    "\n",
    "Recall the superheroes win when\n",
    "$$\n",
    "\\mathrm{Strange} +\\mathrm{Stark} +\\mathrm{Parker} +\\mathrm{Drax} +\\mathrm{Nebula} +\\mathrm{Quill} \\ge \\mathrm{Mantis} \\times \\mathrm{Thanos}.\n",
    "$$\n",
    "Estimate the probability that **the superheroes win given that $\\mathrm{Mantis} < 0.9$**. Store the result in `p33`.\n",
    "\n",
    "Hint (double-click this cell to see it): <span style=\"color:#ffffff00\">use Bayes' rule (or definition of conditional probability) on top of the code in Puzzle 3.2.</span>"
   ]
  },
  {
   "cell_type": "code",
   "execution_count": 17,
   "metadata": {
    "nbgrader": {
     "grade": false,
     "grade_id": "cell-500cf95087dcb6db",
     "locked": false,
     "schema_version": 3,
     "solution": true,
     "task": false
    }
   },
   "outputs": [
    {
     "data": {
      "text/plain": [
       "0.03127697588982796"
      ]
     },
     "execution_count": 17,
     "metadata": {},
     "output_type": "execute_result"
    }
   ],
   "source": [
    "dfmantis = df3[df3[\"mantis\"] < .9]\n",
    "p33 = sum((dfmantis[hero].sum(axis=1)) >= (dfmantis[\"mantis\"]*dfmantis[\"thanos\"])) /  len(dfmantis)\n",
    "p33"
   ]
  },
  {
   "cell_type": "code",
   "execution_count": 18,
   "metadata": {
    "nbgrader": {
     "grade": true,
     "grade_id": "cell-ee8226d0066bb603",
     "locked": true,
     "points": 1,
     "schema_version": 3,
     "solution": false,
     "task": false
    }
   },
   "outputs": [
    {
     "name": "stdout",
     "output_type": "stream",
     "text": [
      "🎉 All tests passed! 🎉\n"
     ]
    }
   ],
   "source": [
    "## == TEST CASES for Part 3 ==\n",
    "# - This read-only cell contains test cases for your previous cell(s).\n",
    "# - If this cell runs without any error, you PASSED all test cases!\n",
    "# - If this cell results in any errors, check your previous cell(s), make changes, and RE-RUN your code and then this cell.\n",
    "import math\n",
    "assert(len(df3) == 100000), \"Make sure your df3 has exactly 100,000 observations\"\n",
    "assert(math.isclose(p32, 1717/100000)), \"Make sure you follow the instruction in Puzzle 3.1 and estimate the correct probability in p32\"\n",
    "assert(math.isclose(p33, 1558/49813)), \"Make sure you follow the instruction in Puzzle 3.1 and estimate the correct probability in p33\"\n",
    "\n",
    "## == SUCCESS MESSAGE ==\n",
    "# You will only see this message (with the emoji showing) if you passed all test cases:\n",
    "tada = \"\\N{PARTY POPPER}\"\n",
    "print(f\"{tada} All tests passed! {tada}\")"
   ]
  },
  {
   "cell_type": "markdown",
   "metadata": {},
   "source": [
    "## Puzzle 3.4: ❓ Usefulness of Simulation ❓ \n",
    "\n",
    "Can you find the exact probabilities in Puzzle 3.2/3.3? What are the advantage(s) of simulation?"
   ]
  },
  {
   "cell_type": "markdown",
   "metadata": {},
   "source": [
    "Yes. It allows you to find the exact chance for winning"
   ]
  },
  {
   "cell_type": "markdown",
   "metadata": {},
   "source": [
    "# Puzzle 4: Beyond Probability Estimation\n",
    "\n",
    "## Puzzle 4.1: Simulation of Points on a Unit Square\n",
    "\n",
    "Imagine we have a **unit square** with the corners at $(0,0)$, $(0,1)$, $(1,1)$ and $(1,0)$, respectively.\n",
    "\n",
    "Simulate **100,000** random points on this square and store the observations in `df4`.\n",
    "\n",
    "Hint (double-click this cell to see it): <span style=\"color:#ffffff00\">see Example 2. The x-coordinate and y-coordiante of a random point can be generated by rd.random().</span>"
   ]
  },
  {
   "cell_type": "code",
   "execution_count": 19,
   "metadata": {
    "nbgrader": {
     "grade": false,
     "grade_id": "cell-da32a7ecb4863a7f",
     "locked": false,
     "schema_version": 3,
     "solution": true,
     "task": false
    }
   },
   "outputs": [
    {
     "data": {
      "text/html": [
       "<div>\n",
       "<style scoped>\n",
       "    .dataframe tbody tr th:only-of-type {\n",
       "        vertical-align: middle;\n",
       "    }\n",
       "\n",
       "    .dataframe tbody tr th {\n",
       "        vertical-align: top;\n",
       "    }\n",
       "\n",
       "    .dataframe thead th {\n",
       "        text-align: right;\n",
       "    }\n",
       "</style>\n",
       "<table border=\"1\" class=\"dataframe\">\n",
       "  <thead>\n",
       "    <tr style=\"text-align: right;\">\n",
       "      <th></th>\n",
       "      <th>pointx</th>\n",
       "      <th>pointy</th>\n",
       "    </tr>\n",
       "  </thead>\n",
       "  <tbody>\n",
       "    <tr>\n",
       "      <th>41447</th>\n",
       "      <td>0.567084</td>\n",
       "      <td>0.454338</td>\n",
       "    </tr>\n",
       "    <tr>\n",
       "      <th>91046</th>\n",
       "      <td>0.632605</td>\n",
       "      <td>0.988883</td>\n",
       "    </tr>\n",
       "    <tr>\n",
       "      <th>99915</th>\n",
       "      <td>0.148244</td>\n",
       "      <td>0.010268</td>\n",
       "    </tr>\n",
       "    <tr>\n",
       "      <th>73173</th>\n",
       "      <td>0.662290</td>\n",
       "      <td>0.302326</td>\n",
       "    </tr>\n",
       "    <tr>\n",
       "      <th>12989</th>\n",
       "      <td>0.308543</td>\n",
       "      <td>0.668327</td>\n",
       "    </tr>\n",
       "  </tbody>\n",
       "</table>\n",
       "</div>"
      ],
      "text/plain": [
       "         pointx    pointy\n",
       "41447  0.567084  0.454338\n",
       "91046  0.632605  0.988883\n",
       "99915  0.148244  0.010268\n",
       "73173  0.662290  0.302326\n",
       "12989  0.308543  0.668327"
      ]
     },
     "execution_count": 19,
     "metadata": {},
     "output_type": "execute_result"
    }
   ],
   "source": [
    "rd.seed(107)\n",
    "data4 = []\n",
    "for i in range(100000):\n",
    "    px = rd.uniform(0,1)\n",
    "    py = rd.uniform(0,1)\n",
    "    d = {\"pointx\": px, \"pointy\": py}\n",
    "    data4.append(d)\n",
    "df4 = pd.DataFrame(data4)\n",
    "df4.sample(5)"
   ]
  },
  {
   "cell_type": "markdown",
   "metadata": {},
   "source": [
    "## Puzzle 4.2: Estimation of $\\pi$\n",
    "\n",
    "Now, we incribe a **circle** (with radius $0.5$) in the previous square. The circumcenter is $(0.5, 0.5)$. Clearly, a point would fall inside the circle if\n",
    "$$\n",
    "(x-0.5)^2 +(y-0.5)^2 \\le 0.5^2.\n",
    "$$\n",
    "On the other hand, we have the following relationship:\n",
    "$$\n",
    "\\frac{\\text{no. of pts inside the circle}}{\\text{no. of pts inside the square}}\n",
    "\\approx \\frac{\\text{area of the circle}}{\\text{area of the square}}\n",
    "= \\frac{0.5^2 \\pi}{1} = \\frac{\\pi}{4}.\n",
    "$$\n",
    "Rearranging the equation, we can estimate $\\pi$ by\n",
    "$$\n",
    "\\pi \\approx \\frac{4 \\times \\text{no. of pts inside the circle}}{\\text{no. of pts inside the square}}.\n",
    "$$\n",
    "\n",
    "Estimate $\\pi$ using the above relationship. Store the result in `pie`.\n",
    "\n",
    "Hint (double-click this cell to see it): <span style=\"color:#ffffff00\">see Example 3. \n",
    "The number of points inside the circle can be found by checking the equation (x-0.5)^2 +(y-0.5)^2 <= 0.5^2.</span>"
   ]
  },
  {
   "cell_type": "code",
   "execution_count": 20,
   "metadata": {
    "nbgrader": {
     "grade": false,
     "grade_id": "cell-500cf95087dcb6db",
     "locked": false,
     "schema_version": 3,
     "solution": true,
     "task": false
    }
   },
   "outputs": [
    {
     "data": {
      "text/plain": [
       "3.14192"
      ]
     },
     "execution_count": 20,
     "metadata": {},
     "output_type": "execute_result"
    }
   ],
   "source": [
    "df_circle = df4[((df4[\"pointx\"] - .5)**2) + ((df4[\"pointy\"] - .5)**2) <= (.5**2)]\n",
    "\n",
    "pie = 4*len(df_circle)/len(df4)\n",
    "pie"
   ]
  },
  {
   "cell_type": "code",
   "execution_count": 21,
   "metadata": {
    "nbgrader": {
     "grade": true,
     "grade_id": "cell-ee8226d0066bb603",
     "locked": true,
     "points": 1,
     "schema_version": 3,
     "solution": false,
     "task": false
    }
   },
   "outputs": [
    {
     "name": "stdout",
     "output_type": "stream",
     "text": [
      "🎉 All tests passed! 🎉\n"
     ]
    }
   ],
   "source": [
    "## == TEST CASES for Part 4 ==\n",
    "# - This read-only cell contains test cases for your previous cell(s).\n",
    "# - If this cell runs without any error, you PASSED all test cases!\n",
    "# - If this cell results in any errors, check your previous cell(s), make changes, and RE-RUN your code and then this cell.\n",
    "import math\n",
    "assert(len(df4) == 100000), \"Make sure your df4 has exactly 100,000 observations\"\n",
    "assert(math.isclose(pie, 314192/100000)), \"Make sure you use the correct equation(s) in Puzzle 4.2\"\n",
    "\n",
    "## == SUCCESS MESSAGE ==\n",
    "# You will only see this message (with the emoji showing) if you passed all test cases:\n",
    "tada = \"\\N{PARTY POPPER}\"\n",
    "print(f\"{tada} All tests passed! {tada}\")"
   ]
  },
  {
   "cell_type": "markdown",
   "metadata": {},
   "source": [
    "## Puzzle 4.3: ❓ Beyond Probability Estimation ❓\n",
    "\n",
    " Puzzle 4.2 presents an example where we use simulation for estimating quantity other than probability. Can you name other application(s) of simulation?\n",
    "\n",
    "Hint (double-click this cell to see it): <span style=\"color:#ffffff00\">check https://en.wikipedia.org/wiki/Monte_Carlo_method#Applications if you have no clues at all.</span>"
   ]
  },
  {
   "cell_type": "markdown",
   "metadata": {},
   "source": [
    "For wind energy analysis to help predict the amount energy a wind farm can provide"
   ]
  },
  {
   "cell_type": "markdown",
   "metadata": {},
   "source": [
    "## Extra Credit: Animation of the Estimation of $\\pi$\n",
    "\n",
    "Try to replicate simulation_pi.gif in the directory! A working example can be found at https://commons.wikimedia.org/wiki/File:Pi_30K.gif. Here are a few things you may want to change in the working example:\n",
    "\n",
    "1. Delete the lines with `rcParams` and `ani.save()`. Saving the animation needs extra software, which is not required for extra credit.\n",
    "2. Add an extra argument `repeat=False` to `animation.FuncAnimation()`. This avoids infinite loop of your animation when you debug;  \n",
    "see https://matplotlib.org/3.5.1/api/_as_gen/matplotlib.animation.FuncAnimation.html.\n",
    "3. After `animation.FuncAnimation()`, add two lines: `from IPython.display import HTML` and `HTML(ani.to_jshtml())`.  \n",
    "This display your animation when you run the code; see https://stackoverflow.com/questions/25333732/matplotlib-animation-not-working-in-ipython-notebook-blank-plot.\n",
    "4. Change `pts = np.random.uniform(low=0, high=1, size=(2, n))` to `pts = df4.iloc[:n].transpose().to_numpy()`.  \n",
    "It is a bad idea to simulate the points again for every frame in the animation.\n",
    "5. Change the conditions in `circ` and `out_circ`, which correspond to the points inside and outside the circle respectively.  \n",
    "You need to change them because the working example is for 1/4 of a unit circle only.\n",
    "6. Delete `circle = mpatches.Wedge((0, 0), 1, 0, 90,  color=gray)` and `ax.add_artist(circle)`.  \n",
    "We do not require the boundary of the circle for extra credit. However, you may modify them instead if you want.\n",
    "7. Change the argument `markersize` in `plt.plot()` if you want larger dots in the animation.\n",
    "8. Change `nvec`. simulation_pi.gif uses $n=400, 800, \\ldots, 10000$.\n"
   ]
  },
  {
   "cell_type": "code",
   "execution_count": null,
   "metadata": {},
   "outputs": [],
   "source": []
  },
  {
   "cell_type": "markdown",
   "metadata": {},
   "source": [
    "# Finale!\n",
    "\n",
    "You're almost done -- congratulations!\n",
    "\n",
    "You need to do two more things:\n",
    "\n",
    "1.  Save your work. To do this, go to File -> Save All\n",
    "\n",
    "2.  After you have saved, exit this notebook and follow the webpage instructions to commit this lab to your Git repository!"
   ]
  }
 ],
 "metadata": {
  "celltoolbar": "Create Assignment",
  "interpreter": {
   "hash": "aee8b7b246df8f9039afb4144a1f6fd8d2ca17a180786b69acc140d282b71a49"
  },
  "kernelspec": {
   "display_name": "Python 3 (ipykernel)",
   "language": "python",
   "name": "python3"
  },
  "language_info": {
   "codemirror_mode": {
    "name": "ipython",
    "version": 3
   },
   "file_extension": ".py",
   "mimetype": "text/x-python",
   "name": "python",
   "nbconvert_exporter": "python",
   "pygments_lexer": "ipython3",
   "version": "3.10.2"
  }
 },
 "nbformat": 4,
 "nbformat_minor": 4
}
