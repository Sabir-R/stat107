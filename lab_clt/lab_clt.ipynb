{
 "cells": [
  {
   "cell_type": "markdown",
   "metadata": {
    "nbgrader": {
     "grade": false,
     "grade_id": "cell-817393b4b625d714",
     "locked": true,
     "schema_version": 3,
     "solution": false,
     "task": false
    }
   },
   "source": [
    "# Lab: Central Limit Theorem (CLT)\n",
    "\n",
    "Welcome! In this lab, we will be exploring the Central Limit Theorem (CLT). Although this concept was first developed by Abraham de Moivre in 1733, it wasn’t formally named until 1930, when noted Hungarian mathematician George Polya officially dubbed it the Central Limit Theorem.\n",
    "\n",
    "## Review: What is the Central Limit Theorem?\n",
    "Basically, the Central Limit Theorem says:  \n",
    "\n",
    "If we repeatedly take independent random samples of size n from any population, then when n is large, the distribution of the sample means will approach a normal distribution.\n",
    "\n",
    "Wow! This works for any population, even non-normal populations.  The CLT is a very useful theorem that is the foundation for many data science procedures. We'll see a lot of these procedures in the upcoming weeks in Data Science DISCOVERY!\n",
    "\n",
    "Today, we will be working with a \"song_data\" dataset that has around 19,000 songs which have multiple attributes. This lab will help demonstrate how the Central Limit Theorem works! Below are the 15 attributes of the \"song\" dataset. \n",
    "\n",
    "The Attributes:\n",
    "\n",
    "- `song_name`: contains the name of the song\n",
    "- `song_popularity`: how popular a song is\n",
    "- `song_duration_ms`: length of the song\n",
    "- `acousticness`: the higher the value, the more acoustic the song is\n",
    "- `danceability`: the higher the value, the easier it is to dance to this song\n",
    "- `energy`: the energy of a song, the higher the value, the more energetic\n",
    "- `instrumentalness`: the higher the value, the less vocals there are\n",
    "- `key`: key the track is in\n",
    "- `liveness`: the higher the value, the more of an audience presence there is\n",
    "- `loudness`: the higher the value, the louder the song (in dB)\n",
    "- `audiomode`: represents the modality of the track: major is represented by 1 and minor is represented by 0\n",
    "- `speechiness`: the higher the value, the more presence of spoken words\n",
    "- `tempo`: the overall estimated tempo of the song\n",
    "- `time_signature`: an estimated overall time signature of a track\n",
    "- `audio_valence`: the higher the value, the more positive it is\n",
    "\n",
    "## Group\n",
    "\n",
    "Edit the next Python cell to add information about who you're working within your lab section:"
   ]
  },
  {
   "cell_type": "code",
   "execution_count": null,
   "metadata": {},
   "outputs": [],
   "source": [
    "# First, meet your CAs and TA if you haven't already!\n",
    "# ...first name is enough, we'll know who they are! :)\n",
    "ta_name = \"Daniel\"\n",
    "ca1_name = \"Tanvi\"\n",
    "ca2_name = \"Kaitlyn\"\n",
    "ca3_name = \"\"\n",
    "\n",
    "# Also, make sure to meet your team for this lab! Find out their name, what major they're in,\n",
    "# and learn something new about them that you never knew before!\n",
    "partner1_name = \"\"\n",
    "partner1_netid = \"\"\n",
    "partner1_major = \"\"\n",
    "\n",
    "partner2_name = \"\"\n",
    "partner2_netid = \"\"\n",
    "partner2_major = \"\"\n",
    "\n",
    "partner3_name = \"\"\n",
    "partner3_netid = \"\"\n",
    "partner3_major = \"\""
   ]
  },
  {
   "cell_type": "markdown",
   "metadata": {},
   "source": [
    "## Table of Contents <a id='toc'></a>\n",
    "\n",
    "**Use the Outline view (View > Command Palette > Type \"outline\") for navigation.**\n",
    "\n",
    "* Puzzle 1\n",
    "    * Puzzle 1.1\n",
    "    * Puzzle 1.2\n",
    "* Puzzle 2\n",
    "    * Puzzle 2.1\n",
    "    * Puzzle 2.2\n",
    "    * Puzzle 2.3 \n",
    "* Puzzle 3\n",
    "    * Puzzle 3.1\n",
    "    * Puzzle 3.2\n",
    "    * Puzzle 3.3\n",
    "* Extra Credits"
   ]
  },
  {
   "cell_type": "markdown",
   "metadata": {
    "nbgrader": {
     "grade": false,
     "grade_id": "cell-f61c85aa4792f9f0",
     "locked": true,
     "schema_version": 3,
     "solution": false,
     "task": false
    }
   },
   "source": [
    "# Puzzle 1: Exploratory Data Analysis\n",
    "\n",
    "## Puzzle 1.1: Import the dataset\n",
    "In the same folder as this notebook find the dataset `song_data.csv` that is provided. You know what to do to import the libraries and read the data."
   ]
  },
  {
   "cell_type": "code",
   "execution_count": 1,
   "metadata": {
    "nbgrader": {
     "grade": false,
     "grade_id": "cell-615783f5a93483b3",
     "locked": false,
     "schema_version": 3,
     "solution": true,
     "task": false
    }
   },
   "outputs": [
    {
     "data": {
      "text/html": [
       "<div>\n",
       "<style scoped>\n",
       "    .dataframe tbody tr th:only-of-type {\n",
       "        vertical-align: middle;\n",
       "    }\n",
       "\n",
       "    .dataframe tbody tr th {\n",
       "        vertical-align: top;\n",
       "    }\n",
       "\n",
       "    .dataframe thead th {\n",
       "        text-align: right;\n",
       "    }\n",
       "</style>\n",
       "<table border=\"1\" class=\"dataframe\">\n",
       "  <thead>\n",
       "    <tr style=\"text-align: right;\">\n",
       "      <th></th>\n",
       "      <th>song_name</th>\n",
       "      <th>song_popularity</th>\n",
       "      <th>song_duration_ms</th>\n",
       "      <th>acousticness</th>\n",
       "      <th>danceability</th>\n",
       "      <th>energy</th>\n",
       "      <th>instrumentalness</th>\n",
       "      <th>key</th>\n",
       "      <th>liveness</th>\n",
       "      <th>loudness</th>\n",
       "      <th>audio_mode</th>\n",
       "      <th>speechiness</th>\n",
       "      <th>tempo</th>\n",
       "      <th>time_signature</th>\n",
       "      <th>audio_valence</th>\n",
       "    </tr>\n",
       "  </thead>\n",
       "  <tbody>\n",
       "    <tr>\n",
       "      <th>0</th>\n",
       "      <td>Boulevard of Broken Dreams</td>\n",
       "      <td>73</td>\n",
       "      <td>262333</td>\n",
       "      <td>0.005520</td>\n",
       "      <td>0.496</td>\n",
       "      <td>0.682</td>\n",
       "      <td>0.000029</td>\n",
       "      <td>8</td>\n",
       "      <td>0.0589</td>\n",
       "      <td>-4.095</td>\n",
       "      <td>1</td>\n",
       "      <td>0.0294</td>\n",
       "      <td>167.060</td>\n",
       "      <td>4</td>\n",
       "      <td>0.474</td>\n",
       "    </tr>\n",
       "    <tr>\n",
       "      <th>1</th>\n",
       "      <td>In The End</td>\n",
       "      <td>66</td>\n",
       "      <td>216933</td>\n",
       "      <td>0.010300</td>\n",
       "      <td>0.542</td>\n",
       "      <td>0.853</td>\n",
       "      <td>0.000000</td>\n",
       "      <td>3</td>\n",
       "      <td>0.1080</td>\n",
       "      <td>-6.407</td>\n",
       "      <td>0</td>\n",
       "      <td>0.0498</td>\n",
       "      <td>105.256</td>\n",
       "      <td>4</td>\n",
       "      <td>0.370</td>\n",
       "    </tr>\n",
       "    <tr>\n",
       "      <th>2</th>\n",
       "      <td>Seven Nation Army</td>\n",
       "      <td>76</td>\n",
       "      <td>231733</td>\n",
       "      <td>0.008170</td>\n",
       "      <td>0.737</td>\n",
       "      <td>0.463</td>\n",
       "      <td>0.447000</td>\n",
       "      <td>0</td>\n",
       "      <td>0.2550</td>\n",
       "      <td>-7.828</td>\n",
       "      <td>1</td>\n",
       "      <td>0.0792</td>\n",
       "      <td>123.881</td>\n",
       "      <td>4</td>\n",
       "      <td>0.324</td>\n",
       "    </tr>\n",
       "    <tr>\n",
       "      <th>3</th>\n",
       "      <td>By The Way</td>\n",
       "      <td>74</td>\n",
       "      <td>216933</td>\n",
       "      <td>0.026400</td>\n",
       "      <td>0.451</td>\n",
       "      <td>0.970</td>\n",
       "      <td>0.003550</td>\n",
       "      <td>0</td>\n",
       "      <td>0.1020</td>\n",
       "      <td>-4.938</td>\n",
       "      <td>1</td>\n",
       "      <td>0.1070</td>\n",
       "      <td>122.444</td>\n",
       "      <td>4</td>\n",
       "      <td>0.198</td>\n",
       "    </tr>\n",
       "    <tr>\n",
       "      <th>4</th>\n",
       "      <td>How You Remind Me</td>\n",
       "      <td>56</td>\n",
       "      <td>223826</td>\n",
       "      <td>0.000954</td>\n",
       "      <td>0.447</td>\n",
       "      <td>0.766</td>\n",
       "      <td>0.000000</td>\n",
       "      <td>10</td>\n",
       "      <td>0.1130</td>\n",
       "      <td>-5.065</td>\n",
       "      <td>1</td>\n",
       "      <td>0.0313</td>\n",
       "      <td>172.011</td>\n",
       "      <td>4</td>\n",
       "      <td>0.574</td>\n",
       "    </tr>\n",
       "    <tr>\n",
       "      <th>...</th>\n",
       "      <td>...</td>\n",
       "      <td>...</td>\n",
       "      <td>...</td>\n",
       "      <td>...</td>\n",
       "      <td>...</td>\n",
       "      <td>...</td>\n",
       "      <td>...</td>\n",
       "      <td>...</td>\n",
       "      <td>...</td>\n",
       "      <td>...</td>\n",
       "      <td>...</td>\n",
       "      <td>...</td>\n",
       "      <td>...</td>\n",
       "      <td>...</td>\n",
       "      <td>...</td>\n",
       "    </tr>\n",
       "    <tr>\n",
       "      <th>18830</th>\n",
       "      <td>Let It Breathe</td>\n",
       "      <td>60</td>\n",
       "      <td>159645</td>\n",
       "      <td>0.893000</td>\n",
       "      <td>0.500</td>\n",
       "      <td>0.151</td>\n",
       "      <td>0.000065</td>\n",
       "      <td>11</td>\n",
       "      <td>0.1110</td>\n",
       "      <td>-16.107</td>\n",
       "      <td>1</td>\n",
       "      <td>0.0348</td>\n",
       "      <td>113.969</td>\n",
       "      <td>4</td>\n",
       "      <td>0.300</td>\n",
       "    </tr>\n",
       "    <tr>\n",
       "      <th>18831</th>\n",
       "      <td>Answers</td>\n",
       "      <td>60</td>\n",
       "      <td>205666</td>\n",
       "      <td>0.765000</td>\n",
       "      <td>0.495</td>\n",
       "      <td>0.161</td>\n",
       "      <td>0.000001</td>\n",
       "      <td>11</td>\n",
       "      <td>0.1050</td>\n",
       "      <td>-14.078</td>\n",
       "      <td>0</td>\n",
       "      <td>0.0301</td>\n",
       "      <td>94.286</td>\n",
       "      <td>4</td>\n",
       "      <td>0.265</td>\n",
       "    </tr>\n",
       "    <tr>\n",
       "      <th>18832</th>\n",
       "      <td>Sudden Love (Acoustic)</td>\n",
       "      <td>23</td>\n",
       "      <td>182211</td>\n",
       "      <td>0.847000</td>\n",
       "      <td>0.719</td>\n",
       "      <td>0.325</td>\n",
       "      <td>0.000000</td>\n",
       "      <td>0</td>\n",
       "      <td>0.1250</td>\n",
       "      <td>-12.222</td>\n",
       "      <td>1</td>\n",
       "      <td>0.0355</td>\n",
       "      <td>130.534</td>\n",
       "      <td>4</td>\n",
       "      <td>0.286</td>\n",
       "    </tr>\n",
       "    <tr>\n",
       "      <th>18833</th>\n",
       "      <td>Gentle on My Mind</td>\n",
       "      <td>55</td>\n",
       "      <td>352280</td>\n",
       "      <td>0.945000</td>\n",
       "      <td>0.488</td>\n",
       "      <td>0.326</td>\n",
       "      <td>0.015700</td>\n",
       "      <td>3</td>\n",
       "      <td>0.1190</td>\n",
       "      <td>-12.020</td>\n",
       "      <td>1</td>\n",
       "      <td>0.0328</td>\n",
       "      <td>106.063</td>\n",
       "      <td>4</td>\n",
       "      <td>0.323</td>\n",
       "    </tr>\n",
       "    <tr>\n",
       "      <th>18834</th>\n",
       "      <td>Up to Me</td>\n",
       "      <td>60</td>\n",
       "      <td>193533</td>\n",
       "      <td>0.911000</td>\n",
       "      <td>0.640</td>\n",
       "      <td>0.381</td>\n",
       "      <td>0.000254</td>\n",
       "      <td>4</td>\n",
       "      <td>0.1040</td>\n",
       "      <td>-11.790</td>\n",
       "      <td>1</td>\n",
       "      <td>0.0302</td>\n",
       "      <td>91.490</td>\n",
       "      <td>4</td>\n",
       "      <td>0.581</td>\n",
       "    </tr>\n",
       "  </tbody>\n",
       "</table>\n",
       "<p>18835 rows × 15 columns</p>\n",
       "</div>"
      ],
      "text/plain": [
       "                        song_name  song_popularity  song_duration_ms  \\\n",
       "0      Boulevard of Broken Dreams               73            262333   \n",
       "1                      In The End               66            216933   \n",
       "2               Seven Nation Army               76            231733   \n",
       "3                      By The Way               74            216933   \n",
       "4               How You Remind Me               56            223826   \n",
       "...                           ...              ...               ...   \n",
       "18830              Let It Breathe               60            159645   \n",
       "18831                     Answers               60            205666   \n",
       "18832      Sudden Love (Acoustic)               23            182211   \n",
       "18833           Gentle on My Mind               55            352280   \n",
       "18834                    Up to Me               60            193533   \n",
       "\n",
       "       acousticness  danceability  energy  instrumentalness  key  liveness  \\\n",
       "0          0.005520         0.496   0.682          0.000029    8    0.0589   \n",
       "1          0.010300         0.542   0.853          0.000000    3    0.1080   \n",
       "2          0.008170         0.737   0.463          0.447000    0    0.2550   \n",
       "3          0.026400         0.451   0.970          0.003550    0    0.1020   \n",
       "4          0.000954         0.447   0.766          0.000000   10    0.1130   \n",
       "...             ...           ...     ...               ...  ...       ...   \n",
       "18830      0.893000         0.500   0.151          0.000065   11    0.1110   \n",
       "18831      0.765000         0.495   0.161          0.000001   11    0.1050   \n",
       "18832      0.847000         0.719   0.325          0.000000    0    0.1250   \n",
       "18833      0.945000         0.488   0.326          0.015700    3    0.1190   \n",
       "18834      0.911000         0.640   0.381          0.000254    4    0.1040   \n",
       "\n",
       "       loudness  audio_mode  speechiness    tempo  time_signature  \\\n",
       "0        -4.095           1       0.0294  167.060               4   \n",
       "1        -6.407           0       0.0498  105.256               4   \n",
       "2        -7.828           1       0.0792  123.881               4   \n",
       "3        -4.938           1       0.1070  122.444               4   \n",
       "4        -5.065           1       0.0313  172.011               4   \n",
       "...         ...         ...          ...      ...             ...   \n",
       "18830   -16.107           1       0.0348  113.969               4   \n",
       "18831   -14.078           0       0.0301   94.286               4   \n",
       "18832   -12.222           1       0.0355  130.534               4   \n",
       "18833   -12.020           1       0.0328  106.063               4   \n",
       "18834   -11.790           1       0.0302   91.490               4   \n",
       "\n",
       "       audio_valence  \n",
       "0              0.474  \n",
       "1              0.370  \n",
       "2              0.324  \n",
       "3              0.198  \n",
       "4              0.574  \n",
       "...              ...  \n",
       "18830          0.300  \n",
       "18831          0.265  \n",
       "18832          0.286  \n",
       "18833          0.323  \n",
       "18834          0.581  \n",
       "\n",
       "[18835 rows x 15 columns]"
      ]
     },
     "execution_count": 1,
     "metadata": {},
     "output_type": "execute_result"
    }
   ],
   "source": [
    "import pandas as pd\n",
    "df = pd.read_csv(\"/Users/saber/Desktop/stat107/srahm3/lab_clt/song_data.csv\")\n",
    "df"
   ]
  },
  {
   "cell_type": "markdown",
   "metadata": {
    "nbgrader": {
     "grade": false,
     "grade_id": "cell-442fb4aa41937816",
     "locked": true,
     "schema_version": 3,
     "solution": false,
     "task": false
    }
   },
   "source": [
    "## Puzzle 1.2: Find Descriptive Statistics\n",
    "Let's do some basic EDA to start. Find the mean, median, standard deviation, first quartile, and third quartile for each of the attributes. Quantiles are the same thing as quartiles that we talked about in class."
   ]
  },
  {
   "cell_type": "code",
   "execution_count": 2,
   "metadata": {
    "nbgrader": {
     "grade": false,
     "grade_id": "cell-1a9ba098db01bfaa",
     "locked": false,
     "schema_version": 3,
     "solution": true,
     "task": false
    }
   },
   "outputs": [
    {
     "name": "stderr",
     "output_type": "stream",
     "text": [
      "/var/folders/cq/6tc94x2n2sv3_73k9hymp3fm0000gn/T/ipykernel_14818/972226432.py:1: FutureWarning: Dropping of nuisance columns in DataFrame reductions (with 'numeric_only=None') is deprecated; in a future version this will raise TypeError.  Select only valid columns before calling the reduction.\n",
      "  df_mean = df.mean()\n",
      "/var/folders/cq/6tc94x2n2sv3_73k9hymp3fm0000gn/T/ipykernel_14818/972226432.py:2: FutureWarning: Dropping of nuisance columns in DataFrame reductions (with 'numeric_only=None') is deprecated; in a future version this will raise TypeError.  Select only valid columns before calling the reduction.\n",
      "  df_median = df.median()\n",
      "/var/folders/cq/6tc94x2n2sv3_73k9hymp3fm0000gn/T/ipykernel_14818/972226432.py:3: FutureWarning: Dropping of nuisance columns in DataFrame reductions (with 'numeric_only=None') is deprecated; in a future version this will raise TypeError.  Select only valid columns before calling the reduction.\n",
      "  df_sd = df.std()\n"
     ]
    }
   ],
   "source": [
    "df_mean = df.mean()\n",
    "df_median = df.median()\n",
    "df_sd = df.std()\n",
    "df_quartile1st = df.quantile(.25)\n",
    "df_quartile3rd = df.quantile(.75)"
   ]
  },
  {
   "cell_type": "code",
   "execution_count": 4,
   "metadata": {
    "nbgrader": {
     "grade": true,
     "grade_id": "cell-496495a67929f448",
     "locked": true,
     "points": 1,
     "schema_version": 3,
     "solution": false,
     "task": false
    }
   },
   "outputs": [
    {
     "name": "stdout",
     "output_type": "stream",
     "text": [
      "🎉 All tests passed! 🎉\n"
     ]
    }
   ],
   "source": [
    "## == TEST CASES for Puzzle 1.2 ==\n",
    "# - This read-only cell contains test cases for your previous cell.\n",
    "# - If this cell runs without any error our output, you PASSED all test cases!\n",
    "# - If this cell results in any errors, check you previous cell, make changes, and RE-RUN your code and then this cell.\n",
    "\n",
    "assert(round(df_mean[0],0) == 53), \"The mean value is not correct!\"\n",
    "assert(round(df_median[0],0) == 56), \"The median value is not correct!\"\n",
    "assert(round(df_sd[0],0) == 22), \"The standard deviation value is not correct!\"\n",
    "assert(round(df_quartile1st[0],0) == 40), \"The first quantile value is not correct!\"\n",
    "assert(round(df_quartile3rd[0],0) == 69), \"The third quantiile value is not correct!\"\n",
    "tada = \"\\N{PARTY POPPER}\"\n",
    "print(f\"{tada} All tests passed! {tada}\")"
   ]
  },
  {
   "cell_type": "markdown",
   "metadata": {
    "nbgrader": {
     "grade": false,
     "grade_id": "cell-885cec22da463dbb",
     "locked": true,
     "schema_version": 3,
     "solution": false,
     "task": false
    }
   },
   "source": [
    "# Puzzle 2: Simulating Song Data Set\n",
    "\n",
    "## Puzzle 2.1: Creating a Simulation Function\n",
    "Now, we will see the beauty of the Central Limit Theorem.  \n",
    "\n",
    "Define a funciton called `simulate_average` that will simulate playing `n` random songs and return the average value of these `n` songs for a given column. For example, the column may be `loundness` and your function should return the average `loudness` for the `n` songs."
   ]
  },
  {
   "cell_type": "code",
   "execution_count": 5,
   "metadata": {
    "nbgrader": {
     "grade": false,
     "grade_id": "cell-6c5408ef21a469e8",
     "locked": false,
     "schema_version": 3,
     "solution": true,
     "task": false
    }
   },
   "outputs": [],
   "source": [
    "def simulate_average(column, n):\n",
    "    df2 = df.sample(n)\n",
    "    return df2[column].mean()"
   ]
  },
  {
   "cell_type": "markdown",
   "metadata": {
    "nbgrader": {
     "grade": false,
     "grade_id": "cell-bb599a9f9672e3f1",
     "locked": true,
     "schema_version": 3,
     "solution": false,
     "task": false
    }
   },
   "source": [
    "## Puzzle 2.2: Approximating The Normal Distribution\n",
    "\n",
    "First, plot the histogram for the column `loudness`."
   ]
  },
  {
   "cell_type": "code",
   "execution_count": 6,
   "metadata": {},
   "outputs": [
    {
     "data": {
      "text/plain": [
       "<AxesSubplot:>"
      ]
     },
     "execution_count": 6,
     "metadata": {},
     "output_type": "execute_result"
    },
    {
     "data": {
      "image/png": "[encoded data removed]",
      "text/plain": [
       "<Figure size 432x288 with 1 Axes>"
      ]
     },
     "metadata": {
      "needs_background": "light"
     },
     "output_type": "display_data"
    }
   ],
   "source": [
    "df[\"loudness\"].hist()"
   ]
  },
  {
   "cell_type": "markdown",
   "metadata": {},
   "source": [
    "Obviously, it does not look close to the Normal distribution. Now, using the `simulate_average` function we defined before on the column `loudness`:\n",
    "\n",
    "1. Simulate $r=100$ (number of relications) sample means of size $n=1000$ (number in `simulate_average`).  Store the results in `df_loud_100` and plot a historgram.\n",
    "2. Simulate $r=1000$ sample means of size $n=1000$.  Store the results in `df_loud_1000` and plot a historgram.\n",
    "3. Simulate $r=10000$ sample means of size $n=1000$.  Store the results in `df_loud_10000` and plot a historgram."
   ]
  },
  {
   "cell_type": "code",
   "execution_count": 11,
   "metadata": {
    "nbgrader": {
     "grade": false,
     "grade_id": "cell-de2def1a23d85b1a",
     "locked": false,
     "schema_version": 3,
     "solution": true,
     "task": false
    }
   },
   "outputs": [
    {
     "data": {
      "text/plain": [
       "array([[<AxesSubplot:title={'center':'mean'}>]], dtype=object)"
      ]
     },
     "execution_count": 11,
     "metadata": {},
     "output_type": "execute_result"
    },
    {
     "data": {
      "image/png": "[encoded data removed]",
      "text/plain": [
       "<Figure size 432x288 with 1 Axes>"
      ]
     },
     "metadata": {
      "needs_background": "light"
     },
     "output_type": "display_data"
    }
   ],
   "source": [
    "# do the first simulation here\n",
    "data = []\n",
    "for i in range(100):\n",
    "    x = simulate_average(\"loudness\", 1000)\n",
    "    y = {\"mean\" : x}\n",
    "    data.append(y)\n",
    "...\n",
    "df_loudness_100 = pd.DataFrame(data)\n",
    "# do the plot here\n",
    "df_loudness_100.hist()"
   ]
  },
  {
   "cell_type": "code",
   "execution_count": 12,
   "metadata": {},
   "outputs": [
    {
     "data": {
      "text/plain": [
       "array([[<AxesSubplot:title={'center':'mean'}>]], dtype=object)"
      ]
     },
     "execution_count": 12,
     "metadata": {},
     "output_type": "execute_result"
    },
    {
     "data": {
      "image/png": "[encoded data removed]",
      "text/plain": [
       "<Figure size 432x288 with 1 Axes>"
      ]
     },
     "metadata": {
      "needs_background": "light"
     },
     "output_type": "display_data"
    }
   ],
   "source": [
    "# do the second simulation here\n",
    "data2 = []\n",
    "for i in range(1000):\n",
    "    x = simulate_average(\"loudness\", 1000)\n",
    "    y = {\"mean\" : x}\n",
    "    data2.append(y)\n",
    "...\n",
    "df_loudness_1000 = pd.DataFrame(data2)\n",
    "# do the plot here\n",
    "df_loudness_1000.hist()"
   ]
  },
  {
   "cell_type": "code",
   "execution_count": 13,
   "metadata": {},
   "outputs": [
    {
     "data": {
      "text/plain": [
       "array([[<AxesSubplot:title={'center':'mean'}>]], dtype=object)"
      ]
     },
     "execution_count": 13,
     "metadata": {},
     "output_type": "execute_result"
    },
    {
     "data": {
      "image/png": "[encoded data removed]",
      "text/plain": [
       "<Figure size 432x288 with 1 Axes>"
      ]
     },
     "metadata": {
      "needs_background": "light"
     },
     "output_type": "display_data"
    }
   ],
   "source": [
    "# do the third simulation here\n",
    "data3 = []\n",
    "for i in range(10000):\n",
    "    x = simulate_average(\"loudness\", 1000)\n",
    "    y = {\"mean\" : x}\n",
    "    data3.append(y)\n",
    "...\n",
    "df_loudness_10000 = pd.DataFrame(data3)\n",
    "# do the plot here\n",
    "df_loudness_10000.hist()"
   ]
  },
  {
   "cell_type": "code",
   "execution_count": 10,
   "metadata": {
    "nbgrader": {
     "grade": true,
     "grade_id": "cell-6c05ae16f0c00254",
     "locked": true,
     "points": 0,
     "schema_version": 3,
     "solution": false,
     "task": false
    }
   },
   "outputs": [
    {
     "name": "stdout",
     "output_type": "stream",
     "text": [
      "🎉 All tests passed! 🎉\n"
     ]
    }
   ],
   "source": [
    "## == TEST CASES for Puzzle 2.2 ==\n",
    "# - This read-only cell contains test cases for your previous cell.\n",
    "# - If this cell runs without any error our output, you PASSED all test cases!\n",
    "# - If this cell results in any errors, check you previous cell, make changes, and RE-RUN your code and then this cell.\n",
    "\n",
    "assert( (-7.6 <= df_loudness_100.mean()).bool() & (df_loudness_100.mean() <= -7.3).bool() ), \"The simulation is not correct!\"\n",
    "assert( (-7.6 <= df_loudness_1000.mean()).bool() & (df_loudness_1000.mean() <= -7.3).bool() ), \"The simulation is not correct!\"\n",
    "assert( (-7.6 <= df_loudness_10000.mean()).bool() & (df_loudness_10000.mean() <= -7.3).bool() ), \"The simulation is not correct!\"\n",
    "tada = \"\\N{PARTY POPPER}\"\n",
    "print(f\"{tada} All tests passed! {tada}\")"
   ]
  },
  {
   "cell_type": "markdown",
   "metadata": {
    "nbgrader": {
     "grade": false,
     "grade_id": "cell-a1d7f8322aceca77",
     "locked": true,
     "schema_version": 3,
     "solution": false,
     "task": false
    }
   },
   "source": [
    "## Puzzle 2.3: ❓ Individual Reflection ❓\n",
    "What change do you notice in the histograms of `loudness` as we increase the number of replications $r$?"
   ]
  },
  {
   "cell_type": "markdown",
   "metadata": {},
   "source": [
    "The graph becomes more normal with the curve going low to high to low"
   ]
  },
  {
   "cell_type": "markdown",
   "metadata": {
    "nbgrader": {
     "grade": false,
     "grade_id": "cell-cd7ec5f66b8c0a21",
     "locked": true,
     "schema_version": 3,
     "solution": false,
     "task": false
    }
   },
   "source": [
    "# Puzzle 3: Claim Counts\n",
    "Poisson distribution (https://en.wikipedia.org/wiki/Poisson_distribution) is a commonly used discrete probability distribution due to its simple form that only requires one parameter, which is often estimated by the mean. Suppose that an average number of claims that a ABC insurance company gets is 0.4 per day. Run the cell below to see the distribution of the number of claims per day."
   ]
  },
  {
   "cell_type": "code",
   "execution_count": 14,
   "metadata": {},
   "outputs": [
    {
     "data": {
      "text/plain": [
       "<AxesSubplot:>"
      ]
     },
     "execution_count": 14,
     "metadata": {},
     "output_type": "execute_result"
    },
    {
     "data": {
      "image/png": "[encoded data removed]",
      "text/plain": [
       "<Figure size 432x288 with 1 Axes>"
      ]
     },
     "metadata": {
      "needs_background": "light"
     },
     "output_type": "display_data"
    }
   ],
   "source": [
    "import numpy as np\n",
    "# 100000 random numbers drawn from Poisson distribution with mean 0.4\n",
    "x = pd.Series(np.random.poisson(0.4, 100000))\n",
    "x.value_counts().plot.bar()"
   ]
  },
  {
   "cell_type": "markdown",
   "metadata": {
    "nbgrader": {
     "grade": false,
     "grade_id": "cell-964639a7b8c856b1",
     "locked": true,
     "schema_version": 3,
     "solution": false,
     "task": false
    }
   },
   "source": [
    "## Puzzle 3.1: Data Wrangling\n",
    "\n",
    "Next, we will look at the number of claims per month, per quarter, and per year. The code given below gives you `df_day`, the number of claims that ABC insurance company received daily over their history of 276 years in business. From this dataframe, create `df_week`, `df_month`, and `df_quarter` for the number of claims that ABC insurance company received per week, month, and quarter, respectively.\n",
    "\n",
    "**Hint (double-click this cell to see it):** <span style=\"color:#ffffff00\">Use group_by.</span>"
   ]
  },
  {
   "cell_type": "code",
   "execution_count": 15,
   "metadata": {},
   "outputs": [],
   "source": [
    "np.random.seed(107)\n",
    "nsim = 100800\n",
    "df_day = pd.DataFrame({'claims':np.random.poisson(0.4,nsim)})\n",
    "df_day['week'] = sorted(list(range(0,int(nsim/7) ))*7)\n",
    "df_day['month'] = sorted(list(range(0,int(nsim/30) ))*30)\n",
    "df_day['quarter'] = sorted(list(range(0,int(nsim/90) ))*90)\n",
    "\n",
    "# Only need to modify the code below\n",
    "df_week = df_day.groupby(\"week\").agg(\"sum\").reset_index()\n",
    "df_month = df_day.groupby(\"month\").agg(\"sum\").reset_index()\n",
    "df_quarter = df_day.groupby(\"quarter\").agg(\"sum\").reset_index()\n"
   ]
  },
  {
   "cell_type": "code",
   "execution_count": 16,
   "metadata": {
    "nbgrader": {
     "grade": true,
     "grade_id": "cell-f850852667e6dce3",
     "locked": true,
     "points": 1,
     "schema_version": 3,
     "solution": false,
     "task": false
    }
   },
   "outputs": [
    {
     "name": "stdout",
     "output_type": "stream",
     "text": [
      "🎉 All tests passed! 🎉\n"
     ]
    }
   ],
   "source": [
    "## == TEST CASES for Puzzle 3 ==\n",
    "# - This read-only cell contains test cases for your previous cell.\n",
    "# - If this cell runs without any error our output, you PASSED all test cases!\n",
    "# - If this cell results in any errors, check you previous cell, make changes, and RE-RUN your code and then this cell.\n",
    "from math import isclose\n",
    "assert( isclose(df_week.claims.mean(), 2.800416666666)), \"Check df_week!\"\n",
    "assert( isclose(df_month.claims.mean(), 12.00178571428)), \"Check df_month!\"\n",
    "assert( isclose(df_quarter.claims.mean(), 36.00535714285714)), \"Check df_quarter!\"\n",
    "tada = \"\\N{PARTY POPPER}\"\n",
    "print(f\"{tada} All tests passed! {tada}\")"
   ]
  },
  {
   "cell_type": "markdown",
   "metadata": {},
   "source": [
    "## Puzzle 3.2: Histograms For The Dataframes\n",
    "Plot the histogram of `claims` for `df_week`, `df_month`, and `df_quarter` and compare the distributions."
   ]
  },
  {
   "cell_type": "code",
   "execution_count": 17,
   "metadata": {},
   "outputs": [
    {
     "data": {
      "text/plain": [
       "<AxesSubplot:>"
      ]
     },
     "execution_count": 17,
     "metadata": {},
     "output_type": "execute_result"
    },
    {
     "data": {
      "image/png": "[encoded data removed]",
      "text/plain": [
       "<Figure size 432x288 with 1 Axes>"
      ]
     },
     "metadata": {
      "needs_background": "light"
     },
     "output_type": "display_data"
    }
   ],
   "source": [
    "df_week[\"claims\"].hist()"
   ]
  },
  {
   "cell_type": "code",
   "execution_count": 18,
   "metadata": {},
   "outputs": [
    {
     "data": {
      "text/plain": [
       "<AxesSubplot:>"
      ]
     },
     "execution_count": 18,
     "metadata": {},
     "output_type": "execute_result"
    },
    {
     "data": {
      "image/png": "[encoded data removed]",
      "text/plain": [
       "<Figure size 432x288 with 1 Axes>"
      ]
     },
     "metadata": {
      "needs_background": "light"
     },
     "output_type": "display_data"
    }
   ],
   "source": [
    "df_month[\"claims\"].hist()"
   ]
  },
  {
   "cell_type": "code",
   "execution_count": 19,
   "metadata": {},
   "outputs": [
    {
     "data": {
      "text/plain": [
       "<AxesSubplot:>"
      ]
     },
     "execution_count": 19,
     "metadata": {},
     "output_type": "execute_result"
    },
    {
     "data": {
      "image/png": "[encoded data removed]",
      "text/plain": [
       "<Figure size 432x288 with 1 Axes>"
      ]
     },
     "metadata": {
      "needs_background": "light"
     },
     "output_type": "display_data"
    }
   ],
   "source": [
    "df_quarter[\"claims\"].hist()"
   ]
  },
  {
   "cell_type": "markdown",
   "metadata": {
    "nbgrader": {
     "grade": false,
     "grade_id": "cell-204e19063711a0d9",
     "locked": true,
     "schema_version": 3,
     "solution": false,
     "task": false
    }
   },
   "source": [
    "## Puzzle 3.3: ❓ Individual Reflection ❓\n",
    "What could be some applications of CLT in real world problems?"
   ]
  },
  {
   "cell_type": "markdown",
   "metadata": {},
   "source": [
    "It can be used for gambling/betting"
   ]
  },
  {
   "cell_type": "markdown",
   "metadata": {},
   "source": [
    "## Extra Credit: When CLT Fails\n",
    "\n",
    "In some cases, we may not be able to apply the CLT. Try to replicate one of the cases here!\n",
    "\n",
    "First, write a function called `cauchy_average` that will simulate `n` standard Cauchy random variables and return their average value."
   ]
  },
  {
   "cell_type": "code",
   "execution_count": null,
   "metadata": {},
   "outputs": [],
   "source": []
  },
  {
   "cell_type": "markdown",
   "metadata": {},
   "source": [
    "Next, using the `cauchy_average` function:\n",
    "\n",
    "1. Simulate $r=100$ sample means of size $n=1000$.  Store the results in `df_cauchy_100` and plot a historgram.\n",
    "2. Simulate $r=1000$ sample means of size $n=1000$.  Store the results in `df_cauchy_1000` and plot a historgram.\n",
    "3. Simulate $r=10000$ sample means of size $n=1000$.  Store the results in `df_cauchy_10000` and plot a historgram.\n",
    "\n",
    "Unlike Puzzle 2.2, ***we also require the answer in this part to be reproducible***, i.e., the code should generate the same graph if you run them again."
   ]
  },
  {
   "cell_type": "code",
   "execution_count": null,
   "metadata": {},
   "outputs": [],
   "source": [
    "# r = 100"
   ]
  },
  {
   "cell_type": "code",
   "execution_count": null,
   "metadata": {},
   "outputs": [],
   "source": [
    "# r = 1000"
   ]
  },
  {
   "cell_type": "code",
   "execution_count": null,
   "metadata": {},
   "outputs": [],
   "source": [
    "# r = 10000"
   ]
  },
  {
   "cell_type": "markdown",
   "metadata": {},
   "source": [
    "## ❓ Extra Credit Reflection ❓\n",
    "\n",
    "What change(S) do you notice in the histograms as we increase the number of replications $r$? Try to explain."
   ]
  },
  {
   "cell_type": "markdown",
   "metadata": {},
   "source": [
    "***Double click this cell and type your answer here.***"
   ]
  },
  {
   "cell_type": "markdown",
   "metadata": {
    "nbgrader": {
     "grade": false,
     "grade_id": "cell-3058fc9866235ced",
     "locked": true,
     "schema_version": 3,
     "solution": false,
     "task": false
    }
   },
   "source": [
    "## Submit Your Work!\n",
    "\n",
    "You're almost done -- congratulations!\n",
    "\n",
    "You need to do two more things:\n",
    "\n",
    "1.  Save your work. To do this, go to File -> Save All\n",
    "\n",
    "2.  After you have saved, exit this notebook and follow the webpage instructions to commit this lab to your Git repository!"
   ]
  }
 ],
 "metadata": {
  "celltoolbar": "Create Assignment",
  "kernelspec": {
   "display_name": "Python 3 (ipykernel)",
   "language": "python",
   "name": "python3"
  },
  "language_info": {
   "codemirror_mode": {
    "name": "ipython",
    "version": 3
   },
   "file_extension": ".py",
   "mimetype": "text/x-python",
   "name": "python",
   "nbconvert_exporter": "python",
   "pygments_lexer": "ipython3",
   "version": "3.10.2"
  }
 },
 "nbformat": 4,
 "nbformat_minor": 4
}
