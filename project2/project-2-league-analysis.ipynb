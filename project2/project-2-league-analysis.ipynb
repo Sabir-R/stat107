{
 "cells": [
  {
   "cell_type": "code",
   "execution_count": 2,
   "metadata": {},
   "outputs": [],
   "source": [
    "import pandas as pd"
   ]
  },
  {
   "cell_type": "code",
   "execution_count": 3,
   "metadata": {},
   "outputs": [
    {
     "data": {
      "text/html": [
       "<div>\n",
       "<style scoped>\n",
       "    .dataframe tbody tr th:only-of-type {\n",
       "        vertical-align: middle;\n",
       "    }\n",
       "\n",
       "    .dataframe tbody tr th {\n",
       "        vertical-align: top;\n",
       "    }\n",
       "\n",
       "    .dataframe thead th {\n",
       "        text-align: right;\n",
       "    }\n",
       "</style>\n",
       "<table border=\"1\" class=\"dataframe\">\n",
       "  <thead>\n",
       "    <tr style=\"text-align: right;\">\n",
       "      <th></th>\n",
       "      <th>gameid</th>\n",
       "      <th>datacompleteness</th>\n",
       "      <th>url</th>\n",
       "      <th>league</th>\n",
       "      <th>year</th>\n",
       "      <th>split</th>\n",
       "      <th>playoffs</th>\n",
       "      <th>date</th>\n",
       "      <th>game</th>\n",
       "      <th>patch</th>\n",
       "      <th>...</th>\n",
       "      <th>opp_csat15</th>\n",
       "      <th>golddiffat15</th>\n",
       "      <th>xpdiffat15</th>\n",
       "      <th>csdiffat15</th>\n",
       "      <th>killsat15</th>\n",
       "      <th>assistsat15</th>\n",
       "      <th>deathsat15</th>\n",
       "      <th>opp_killsat15</th>\n",
       "      <th>opp_assistsat15</th>\n",
       "      <th>opp_deathsat15</th>\n",
       "    </tr>\n",
       "  </thead>\n",
       "  <tbody>\n",
       "    <tr>\n",
       "      <th>0</th>\n",
       "      <td>ESPORTSTMNT01_2690210</td>\n",
       "      <td>complete</td>\n",
       "      <td>NaN</td>\n",
       "      <td>LCK CL</td>\n",
       "      <td>2022</td>\n",
       "      <td>Spring</td>\n",
       "      <td>0</td>\n",
       "      <td>2022-01-10 07:44:08</td>\n",
       "      <td>1</td>\n",
       "      <td>12.01</td>\n",
       "      <td>...</td>\n",
       "      <td>121.0</td>\n",
       "      <td>391.0</td>\n",
       "      <td>345.0</td>\n",
       "      <td>14.0</td>\n",
       "      <td>0.0</td>\n",
       "      <td>1.0</td>\n",
       "      <td>0.0</td>\n",
       "      <td>0.0</td>\n",
       "      <td>1.0</td>\n",
       "      <td>0.0</td>\n",
       "    </tr>\n",
       "    <tr>\n",
       "      <th>1</th>\n",
       "      <td>ESPORTSTMNT01_2690210</td>\n",
       "      <td>complete</td>\n",
       "      <td>NaN</td>\n",
       "      <td>LCK CL</td>\n",
       "      <td>2022</td>\n",
       "      <td>Spring</td>\n",
       "      <td>0</td>\n",
       "      <td>2022-01-10 07:44:08</td>\n",
       "      <td>1</td>\n",
       "      <td>12.01</td>\n",
       "      <td>...</td>\n",
       "      <td>100.0</td>\n",
       "      <td>541.0</td>\n",
       "      <td>-275.0</td>\n",
       "      <td>-11.0</td>\n",
       "      <td>2.0</td>\n",
       "      <td>3.0</td>\n",
       "      <td>2.0</td>\n",
       "      <td>0.0</td>\n",
       "      <td>5.0</td>\n",
       "      <td>1.0</td>\n",
       "    </tr>\n",
       "    <tr>\n",
       "      <th>2</th>\n",
       "      <td>ESPORTSTMNT01_2690210</td>\n",
       "      <td>complete</td>\n",
       "      <td>NaN</td>\n",
       "      <td>LCK CL</td>\n",
       "      <td>2022</td>\n",
       "      <td>Spring</td>\n",
       "      <td>0</td>\n",
       "      <td>2022-01-10 07:44:08</td>\n",
       "      <td>1</td>\n",
       "      <td>12.01</td>\n",
       "      <td>...</td>\n",
       "      <td>119.0</td>\n",
       "      <td>-475.0</td>\n",
       "      <td>153.0</td>\n",
       "      <td>1.0</td>\n",
       "      <td>0.0</td>\n",
       "      <td>3.0</td>\n",
       "      <td>0.0</td>\n",
       "      <td>3.0</td>\n",
       "      <td>3.0</td>\n",
       "      <td>2.0</td>\n",
       "    </tr>\n",
       "    <tr>\n",
       "      <th>3</th>\n",
       "      <td>ESPORTSTMNT01_2690210</td>\n",
       "      <td>complete</td>\n",
       "      <td>NaN</td>\n",
       "      <td>LCK CL</td>\n",
       "      <td>2022</td>\n",
       "      <td>Spring</td>\n",
       "      <td>0</td>\n",
       "      <td>2022-01-10 07:44:08</td>\n",
       "      <td>1</td>\n",
       "      <td>12.01</td>\n",
       "      <td>...</td>\n",
       "      <td>149.0</td>\n",
       "      <td>-793.0</td>\n",
       "      <td>-1343.0</td>\n",
       "      <td>-34.0</td>\n",
       "      <td>2.0</td>\n",
       "      <td>1.0</td>\n",
       "      <td>2.0</td>\n",
       "      <td>3.0</td>\n",
       "      <td>3.0</td>\n",
       "      <td>0.0</td>\n",
       "    </tr>\n",
       "    <tr>\n",
       "      <th>4</th>\n",
       "      <td>ESPORTSTMNT01_2690210</td>\n",
       "      <td>complete</td>\n",
       "      <td>NaN</td>\n",
       "      <td>LCK CL</td>\n",
       "      <td>2022</td>\n",
       "      <td>Spring</td>\n",
       "      <td>0</td>\n",
       "      <td>2022-01-10 07:44:08</td>\n",
       "      <td>1</td>\n",
       "      <td>12.01</td>\n",
       "      <td>...</td>\n",
       "      <td>21.0</td>\n",
       "      <td>443.0</td>\n",
       "      <td>-497.0</td>\n",
       "      <td>7.0</td>\n",
       "      <td>1.0</td>\n",
       "      <td>2.0</td>\n",
       "      <td>2.0</td>\n",
       "      <td>0.0</td>\n",
       "      <td>6.0</td>\n",
       "      <td>2.0</td>\n",
       "    </tr>\n",
       "    <tr>\n",
       "      <th>...</th>\n",
       "      <td>...</td>\n",
       "      <td>...</td>\n",
       "      <td>...</td>\n",
       "      <td>...</td>\n",
       "      <td>...</td>\n",
       "      <td>...</td>\n",
       "      <td>...</td>\n",
       "      <td>...</td>\n",
       "      <td>...</td>\n",
       "      <td>...</td>\n",
       "      <td>...</td>\n",
       "      <td>...</td>\n",
       "      <td>...</td>\n",
       "      <td>...</td>\n",
       "      <td>...</td>\n",
       "      <td>...</td>\n",
       "      <td>...</td>\n",
       "      <td>...</td>\n",
       "      <td>...</td>\n",
       "      <td>...</td>\n",
       "      <td>...</td>\n",
       "    </tr>\n",
       "    <tr>\n",
       "      <th>61543</th>\n",
       "      <td>ESPORTSTMNT02_2741315</td>\n",
       "      <td>complete</td>\n",
       "      <td>NaN</td>\n",
       "      <td>NEXO</td>\n",
       "      <td>2022</td>\n",
       "      <td>Split 1</td>\n",
       "      <td>0</td>\n",
       "      <td>2022-05-03 19:42:46</td>\n",
       "      <td>1</td>\n",
       "      <td>12.07</td>\n",
       "      <td>...</td>\n",
       "      <td>146.0</td>\n",
       "      <td>-305.0</td>\n",
       "      <td>-1186.0</td>\n",
       "      <td>-39.0</td>\n",
       "      <td>1.0</td>\n",
       "      <td>2.0</td>\n",
       "      <td>1.0</td>\n",
       "      <td>1.0</td>\n",
       "      <td>1.0</td>\n",
       "      <td>0.0</td>\n",
       "    </tr>\n",
       "    <tr>\n",
       "      <th>61544</th>\n",
       "      <td>ESPORTSTMNT02_2741315</td>\n",
       "      <td>complete</td>\n",
       "      <td>NaN</td>\n",
       "      <td>NEXO</td>\n",
       "      <td>2022</td>\n",
       "      <td>Split 1</td>\n",
       "      <td>0</td>\n",
       "      <td>2022-05-03 19:42:46</td>\n",
       "      <td>1</td>\n",
       "      <td>12.07</td>\n",
       "      <td>...</td>\n",
       "      <td>114.0</td>\n",
       "      <td>1093.0</td>\n",
       "      <td>694.0</td>\n",
       "      <td>26.0</td>\n",
       "      <td>1.0</td>\n",
       "      <td>1.0</td>\n",
       "      <td>0.0</td>\n",
       "      <td>1.0</td>\n",
       "      <td>1.0</td>\n",
       "      <td>1.0</td>\n",
       "    </tr>\n",
       "    <tr>\n",
       "      <th>61545</th>\n",
       "      <td>ESPORTSTMNT02_2741315</td>\n",
       "      <td>complete</td>\n",
       "      <td>NaN</td>\n",
       "      <td>NEXO</td>\n",
       "      <td>2022</td>\n",
       "      <td>Split 1</td>\n",
       "      <td>0</td>\n",
       "      <td>2022-05-03 19:42:46</td>\n",
       "      <td>1</td>\n",
       "      <td>12.07</td>\n",
       "      <td>...</td>\n",
       "      <td>24.0</td>\n",
       "      <td>252.0</td>\n",
       "      <td>-538.0</td>\n",
       "      <td>2.0</td>\n",
       "      <td>0.0</td>\n",
       "      <td>2.0</td>\n",
       "      <td>1.0</td>\n",
       "      <td>0.0</td>\n",
       "      <td>2.0</td>\n",
       "      <td>1.0</td>\n",
       "    </tr>\n",
       "    <tr>\n",
       "      <th>61546</th>\n",
       "      <td>ESPORTSTMNT02_2741315</td>\n",
       "      <td>complete</td>\n",
       "      <td>NaN</td>\n",
       "      <td>NEXO</td>\n",
       "      <td>2022</td>\n",
       "      <td>Split 1</td>\n",
       "      <td>0</td>\n",
       "      <td>2022-05-03 19:42:46</td>\n",
       "      <td>1</td>\n",
       "      <td>12.07</td>\n",
       "      <td>...</td>\n",
       "      <td>527.0</td>\n",
       "      <td>-4643.0</td>\n",
       "      <td>-1342.0</td>\n",
       "      <td>-67.0</td>\n",
       "      <td>2.0</td>\n",
       "      <td>6.0</td>\n",
       "      <td>3.0</td>\n",
       "      <td>3.0</td>\n",
       "      <td>6.0</td>\n",
       "      <td>2.0</td>\n",
       "    </tr>\n",
       "    <tr>\n",
       "      <th>61547</th>\n",
       "      <td>ESPORTSTMNT02_2741315</td>\n",
       "      <td>complete</td>\n",
       "      <td>NaN</td>\n",
       "      <td>NEXO</td>\n",
       "      <td>2022</td>\n",
       "      <td>Split 1</td>\n",
       "      <td>0</td>\n",
       "      <td>2022-05-03 19:42:46</td>\n",
       "      <td>1</td>\n",
       "      <td>12.07</td>\n",
       "      <td>...</td>\n",
       "      <td>460.0</td>\n",
       "      <td>4643.0</td>\n",
       "      <td>1342.0</td>\n",
       "      <td>67.0</td>\n",
       "      <td>3.0</td>\n",
       "      <td>6.0</td>\n",
       "      <td>2.0</td>\n",
       "      <td>2.0</td>\n",
       "      <td>6.0</td>\n",
       "      <td>3.0</td>\n",
       "    </tr>\n",
       "  </tbody>\n",
       "</table>\n",
       "<p>61548 rows × 123 columns</p>\n",
       "</div>"
      ],
      "text/plain": [
       "                      gameid datacompleteness  url  league  year    split  \\\n",
       "0      ESPORTSTMNT01_2690210         complete  NaN  LCK CL  2022   Spring   \n",
       "1      ESPORTSTMNT01_2690210         complete  NaN  LCK CL  2022   Spring   \n",
       "2      ESPORTSTMNT01_2690210         complete  NaN  LCK CL  2022   Spring   \n",
       "3      ESPORTSTMNT01_2690210         complete  NaN  LCK CL  2022   Spring   \n",
       "4      ESPORTSTMNT01_2690210         complete  NaN  LCK CL  2022   Spring   \n",
       "...                      ...              ...  ...     ...   ...      ...   \n",
       "61543  ESPORTSTMNT02_2741315         complete  NaN    NEXO  2022  Split 1   \n",
       "61544  ESPORTSTMNT02_2741315         complete  NaN    NEXO  2022  Split 1   \n",
       "61545  ESPORTSTMNT02_2741315         complete  NaN    NEXO  2022  Split 1   \n",
       "61546  ESPORTSTMNT02_2741315         complete  NaN    NEXO  2022  Split 1   \n",
       "61547  ESPORTSTMNT02_2741315         complete  NaN    NEXO  2022  Split 1   \n",
       "\n",
       "       playoffs                 date  game  patch  ...  opp_csat15  \\\n",
       "0             0  2022-01-10 07:44:08     1  12.01  ...       121.0   \n",
       "1             0  2022-01-10 07:44:08     1  12.01  ...       100.0   \n",
       "2             0  2022-01-10 07:44:08     1  12.01  ...       119.0   \n",
       "3             0  2022-01-10 07:44:08     1  12.01  ...       149.0   \n",
       "4             0  2022-01-10 07:44:08     1  12.01  ...        21.0   \n",
       "...         ...                  ...   ...    ...  ...         ...   \n",
       "61543         0  2022-05-03 19:42:46     1  12.07  ...       146.0   \n",
       "61544         0  2022-05-03 19:42:46     1  12.07  ...       114.0   \n",
       "61545         0  2022-05-03 19:42:46     1  12.07  ...        24.0   \n",
       "61546         0  2022-05-03 19:42:46     1  12.07  ...       527.0   \n",
       "61547         0  2022-05-03 19:42:46     1  12.07  ...       460.0   \n",
       "\n",
       "      golddiffat15 xpdiffat15 csdiffat15 killsat15 assistsat15 deathsat15  \\\n",
       "0            391.0      345.0       14.0       0.0         1.0        0.0   \n",
       "1            541.0     -275.0      -11.0       2.0         3.0        2.0   \n",
       "2           -475.0      153.0        1.0       0.0         3.0        0.0   \n",
       "3           -793.0    -1343.0      -34.0       2.0         1.0        2.0   \n",
       "4            443.0     -497.0        7.0       1.0         2.0        2.0   \n",
       "...            ...        ...        ...       ...         ...        ...   \n",
       "61543       -305.0    -1186.0      -39.0       1.0         2.0        1.0   \n",
       "61544       1093.0      694.0       26.0       1.0         1.0        0.0   \n",
       "61545        252.0     -538.0        2.0       0.0         2.0        1.0   \n",
       "61546      -4643.0    -1342.0      -67.0       2.0         6.0        3.0   \n",
       "61547       4643.0     1342.0       67.0       3.0         6.0        2.0   \n",
       "\n",
       "      opp_killsat15 opp_assistsat15 opp_deathsat15  \n",
       "0               0.0             1.0            0.0  \n",
       "1               0.0             5.0            1.0  \n",
       "2               3.0             3.0            2.0  \n",
       "3               3.0             3.0            0.0  \n",
       "4               0.0             6.0            2.0  \n",
       "...             ...             ...            ...  \n",
       "61543           1.0             1.0            0.0  \n",
       "61544           1.0             1.0            1.0  \n",
       "61545           0.0             2.0            1.0  \n",
       "61546           3.0             6.0            2.0  \n",
       "61547           2.0             6.0            3.0  \n",
       "\n",
       "[61548 rows x 123 columns]"
      ]
     },
     "execution_count": 3,
     "metadata": {},
     "output_type": "execute_result"
    }
   ],
   "source": [
    "df_stats = pd.read_csv(\"2022_LoL_esports_match_data_from_OraclesElixir_20220504.csv\")\n",
    "df_stats"
   ]
  },
  {
   "cell_type": "markdown",
   "metadata": {},
   "source": [
    "**Make different dataframes for each specific role**"
   ]
  },
  {
   "cell_type": "code",
   "execution_count": 4,
   "metadata": {},
   "outputs": [],
   "source": [
    "df_top = df_stats[df_stats[\"position\"] == \"top\"]\n",
    "df_mid = df_stats[df_stats[\"position\"] == \"mid\"]\n",
    "df_jungle = df_stats[df_stats[\"position\"] == \"jng\"]\n",
    "df_bot = df_stats[df_stats[\"position\"] == \"bot\"]\n",
    "df_sup = df_stats[df_stats[\"position\"] == \"sup\"]"
   ]
  },
  {
   "cell_type": "markdown",
   "metadata": {},
   "source": [
    "**Find average amount of kills per role**"
   ]
  },
  {
   "cell_type": "code",
   "execution_count": 5,
   "metadata": {},
   "outputs": [
    {
     "data": {
      "text/plain": [
       "2.7981087931370636"
      ]
     },
     "execution_count": 5,
     "metadata": {},
     "output_type": "execute_result"
    }
   ],
   "source": [
    "df_top_avg_kills = df_top[\"kills\"].mean()\n",
    "df_top_avg_kills"
   ]
  },
  {
   "cell_type": "code",
   "execution_count": 6,
   "metadata": {},
   "outputs": [
    {
     "data": {
      "text/plain": [
       "3.5058490933905246"
      ]
     },
     "execution_count": 6,
     "metadata": {},
     "output_type": "execute_result"
    }
   ],
   "source": [
    "df_mid_avg_kills = df_mid[\"kills\"].mean()\n",
    "df_mid_avg_kills"
   ]
  },
  {
   "cell_type": "code",
   "execution_count": 7,
   "metadata": {},
   "outputs": [
    {
     "data": {
      "text/plain": [
       "3.0125755507896277"
      ]
     },
     "execution_count": 7,
     "metadata": {},
     "output_type": "execute_result"
    }
   ],
   "source": [
    "df_jungle_avg_kills = df_jungle[\"kills\"].mean()\n",
    "df_jungle_avg_kills"
   ]
  },
  {
   "cell_type": "code",
   "execution_count": 8,
   "metadata": {},
   "outputs": [
    {
     "data": {
      "text/plain": [
       "4.264281536361864"
      ]
     },
     "execution_count": 8,
     "metadata": {},
     "output_type": "execute_result"
    }
   ],
   "source": [
    "df_bot_avg_kills = df_bot[\"kills\"].mean()\n",
    "df_bot_avg_kills"
   ]
  },
  {
   "cell_type": "code",
   "execution_count": 9,
   "metadata": {},
   "outputs": [
    {
     "data": {
      "text/plain": [
       "0.8293039578865276"
      ]
     },
     "execution_count": 9,
     "metadata": {},
     "output_type": "execute_result"
    }
   ],
   "source": [
    "df_sup_avg_kills = df_sup[\"kills\"].mean()\n",
    "df_sup_avg_kills"
   ]
  },
  {
   "cell_type": "markdown",
   "metadata": {},
   "source": [
    "**Visual graphs to compare how often players finished with x amount of kills**\n",
    "\n",
    "Larger bars with farther range at the right is better in terms of looking for kill potential"
   ]
  },
  {
   "cell_type": "code",
   "execution_count": 10,
   "metadata": {},
   "outputs": [
    {
     "data": {
      "text/plain": [
       "<AxesSubplot:>"
      ]
     },
     "execution_count": 10,
     "metadata": {},
     "output_type": "execute_result"
    },
    {
     "data": {
      "image/png": "[encoded data removed]",
      "text/plain": [
       "<Figure size 432x288 with 1 Axes>"
      ]
     },
     "metadata": {
      "needs_background": "light"
     },
     "output_type": "display_data"
    }
   ],
   "source": [
    "df_top[\"kills\"].hist()"
   ]
  },
  {
   "cell_type": "code",
   "execution_count": 11,
   "metadata": {},
   "outputs": [
    {
     "data": {
      "text/plain": [
       "<AxesSubplot:>"
      ]
     },
     "execution_count": 11,
     "metadata": {},
     "output_type": "execute_result"
    },
    {
     "data": {
      "image/png": "[encoded data removed]",
      "text/plain": [
       "<Figure size 432x288 with 1 Axes>"
      ]
     },
     "metadata": {
      "needs_background": "light"
     },
     "output_type": "display_data"
    }
   ],
   "source": [
    "df_mid[\"kills\"].hist()"
   ]
  },
  {
   "cell_type": "code",
   "execution_count": 12,
   "metadata": {},
   "outputs": [
    {
     "data": {
      "text/plain": [
       "<AxesSubplot:>"
      ]
     },
     "execution_count": 12,
     "metadata": {},
     "output_type": "execute_result"
    },
    {
     "data": {
      "image/png": "[encoded data removed]",
      "text/plain": [
       "<Figure size 432x288 with 1 Axes>"
      ]
     },
     "metadata": {
      "needs_background": "light"
     },
     "output_type": "display_data"
    }
   ],
   "source": [
    "df_jungle[\"kills\"].hist()"
   ]
  },
  {
   "cell_type": "code",
   "execution_count": 13,
   "metadata": {},
   "outputs": [
    {
     "data": {
      "text/plain": [
       "<AxesSubplot:>"
      ]
     },
     "execution_count": 13,
     "metadata": {},
     "output_type": "execute_result"
    },
    {
     "data": {
      "image/png": "[encoded data removed]",
      "text/plain": [
       "<Figure size 432x288 with 1 Axes>"
      ]
     },
     "metadata": {
      "needs_background": "light"
     },
     "output_type": "display_data"
    }
   ],
   "source": [
    "df_bot[\"kills\"].hist()"
   ]
  },
  {
   "cell_type": "code",
   "execution_count": 14,
   "metadata": {},
   "outputs": [
    {
     "data": {
      "text/plain": [
       "<AxesSubplot:>"
      ]
     },
     "execution_count": 14,
     "metadata": {},
     "output_type": "execute_result"
    },
    {
     "data": {
      "image/png": "[encoded data removed]",
      "text/plain": [
       "<Figure size 432x288 with 1 Axes>"
      ]
     },
     "metadata": {
      "needs_background": "light"
     },
     "output_type": "display_data"
    }
   ],
   "source": [
    "df_sup[\"kills\"].hist()"
   ]
  },
  {
   "cell_type": "markdown",
   "metadata": {},
   "source": [
    "**Find top 10 champions that had most amount of kills per role**"
   ]
  },
  {
   "cell_type": "code",
   "execution_count": 15,
   "metadata": {},
   "outputs": [
    {
     "data": {
      "text/html": [
       "<div>\n",
       "<style scoped>\n",
       "    .dataframe tbody tr th:only-of-type {\n",
       "        vertical-align: middle;\n",
       "    }\n",
       "\n",
       "    .dataframe tbody tr th {\n",
       "        vertical-align: top;\n",
       "    }\n",
       "\n",
       "    .dataframe thead th {\n",
       "        text-align: right;\n",
       "    }\n",
       "</style>\n",
       "<table border=\"1\" class=\"dataframe\">\n",
       "  <thead>\n",
       "    <tr style=\"text-align: right;\">\n",
       "      <th></th>\n",
       "      <th>Champion</th>\n",
       "      <th>Total Kills</th>\n",
       "      <th>Early Game Kills</th>\n",
       "    </tr>\n",
       "  </thead>\n",
       "  <tbody>\n",
       "    <tr>\n",
       "      <th>20</th>\n",
       "      <td>Gwen</td>\n",
       "      <td>3412</td>\n",
       "      <td>483.0</td>\n",
       "    </tr>\n",
       "    <tr>\n",
       "      <th>26</th>\n",
       "      <td>Jayce</td>\n",
       "      <td>2958</td>\n",
       "      <td>472.0</td>\n",
       "    </tr>\n",
       "    <tr>\n",
       "      <th>7</th>\n",
       "      <td>Camille</td>\n",
       "      <td>2387</td>\n",
       "      <td>510.0</td>\n",
       "    </tr>\n",
       "    <tr>\n",
       "      <th>17</th>\n",
       "      <td>Gnar</td>\n",
       "      <td>2345</td>\n",
       "      <td>376.0</td>\n",
       "    </tr>\n",
       "    <tr>\n",
       "      <th>19</th>\n",
       "      <td>Graves</td>\n",
       "      <td>2293</td>\n",
       "      <td>306.0</td>\n",
       "    </tr>\n",
       "    <tr>\n",
       "      <th>74</th>\n",
       "      <td>Tryndamere</td>\n",
       "      <td>1656</td>\n",
       "      <td>300.0</td>\n",
       "    </tr>\n",
       "    <tr>\n",
       "      <th>2</th>\n",
       "      <td>Akali</td>\n",
       "      <td>1420</td>\n",
       "      <td>256.0</td>\n",
       "    </tr>\n",
       "    <tr>\n",
       "      <th>56</th>\n",
       "      <td>Renekton</td>\n",
       "      <td>1284</td>\n",
       "      <td>322.0</td>\n",
       "    </tr>\n",
       "    <tr>\n",
       "      <th>0</th>\n",
       "      <td>Aatrox</td>\n",
       "      <td>1040</td>\n",
       "      <td>214.0</td>\n",
       "    </tr>\n",
       "    <tr>\n",
       "      <th>18</th>\n",
       "      <td>Gragas</td>\n",
       "      <td>978</td>\n",
       "      <td>221.0</td>\n",
       "    </tr>\n",
       "  </tbody>\n",
       "</table>\n",
       "</div>"
      ],
      "text/plain": [
       "      Champion  Total Kills  Early Game Kills\n",
       "20        Gwen         3412             483.0\n",
       "26       Jayce         2958             472.0\n",
       "7      Camille         2387             510.0\n",
       "17        Gnar         2345             376.0\n",
       "19      Graves         2293             306.0\n",
       "74  Tryndamere         1656             300.0\n",
       "2        Akali         1420             256.0\n",
       "56    Renekton         1284             322.0\n",
       "0       Aatrox         1040             214.0\n",
       "18      Gragas          978             221.0"
      ]
     },
     "execution_count": 15,
     "metadata": {},
     "output_type": "execute_result"
    }
   ],
   "source": [
    "df_top_champs = df_top.groupby(\"champion\").agg(\"sum\").reset_index()\n",
    "df_top_champs_kills = pd.DataFrame()\n",
    "df_top_champs_kills[\"Champion\"] = df_top_champs[\"champion\"]\n",
    "df_top_champs_kills[\"Total Kills\"] = df_top_champs[\"kills\"]\n",
    "df_top_champs_kills[\"Early Game Kills\"] = df_top_champs[\"killsat15\"]\n",
    "df_top_champs_kills.nlargest(10, \"Total Kills\")"
   ]
  },
  {
   "cell_type": "code",
   "execution_count": 16,
   "metadata": {},
   "outputs": [
    {
     "data": {
      "text/html": [
       "<div>\n",
       "<style scoped>\n",
       "    .dataframe tbody tr th:only-of-type {\n",
       "        vertical-align: middle;\n",
       "    }\n",
       "\n",
       "    .dataframe tbody tr th {\n",
       "        vertical-align: top;\n",
       "    }\n",
       "\n",
       "    .dataframe thead th {\n",
       "        text-align: right;\n",
       "    }\n",
       "</style>\n",
       "<table border=\"1\" class=\"dataframe\">\n",
       "  <thead>\n",
       "    <tr style=\"text-align: right;\">\n",
       "      <th></th>\n",
       "      <th>Champion</th>\n",
       "      <th>Total Kills</th>\n",
       "      <th>Early Game Kills</th>\n",
       "    </tr>\n",
       "  </thead>\n",
       "  <tbody>\n",
       "    <tr>\n",
       "      <th>1</th>\n",
       "      <td>Ahri</td>\n",
       "      <td>4359</td>\n",
       "      <td>920.0</td>\n",
       "    </tr>\n",
       "    <tr>\n",
       "      <th>82</th>\n",
       "      <td>Viktor</td>\n",
       "      <td>4216</td>\n",
       "      <td>712.0</td>\n",
       "    </tr>\n",
       "    <tr>\n",
       "      <th>58</th>\n",
       "      <td>Ryze</td>\n",
       "      <td>3782</td>\n",
       "      <td>910.0</td>\n",
       "    </tr>\n",
       "    <tr>\n",
       "      <th>38</th>\n",
       "      <td>LeBlanc</td>\n",
       "      <td>2557</td>\n",
       "      <td>571.0</td>\n",
       "    </tr>\n",
       "    <tr>\n",
       "      <th>80</th>\n",
       "      <td>Vex</td>\n",
       "      <td>2498</td>\n",
       "      <td>505.0</td>\n",
       "    </tr>\n",
       "    <tr>\n",
       "      <th>14</th>\n",
       "      <td>Corki</td>\n",
       "      <td>2406</td>\n",
       "      <td>314.0</td>\n",
       "    </tr>\n",
       "    <tr>\n",
       "      <th>68</th>\n",
       "      <td>Syndra</td>\n",
       "      <td>1932</td>\n",
       "      <td>490.0</td>\n",
       "    </tr>\n",
       "    <tr>\n",
       "      <th>50</th>\n",
       "      <td>Orianna</td>\n",
       "      <td>1860</td>\n",
       "      <td>344.0</td>\n",
       "    </tr>\n",
       "    <tr>\n",
       "      <th>2</th>\n",
       "      <td>Akali</td>\n",
       "      <td>1718</td>\n",
       "      <td>364.0</td>\n",
       "    </tr>\n",
       "    <tr>\n",
       "      <th>67</th>\n",
       "      <td>Sylas</td>\n",
       "      <td>1508</td>\n",
       "      <td>424.0</td>\n",
       "    </tr>\n",
       "  </tbody>\n",
       "</table>\n",
       "</div>"
      ],
      "text/plain": [
       "   Champion  Total Kills  Early Game Kills\n",
       "1      Ahri         4359             920.0\n",
       "82   Viktor         4216             712.0\n",
       "58     Ryze         3782             910.0\n",
       "38  LeBlanc         2557             571.0\n",
       "80      Vex         2498             505.0\n",
       "14    Corki         2406             314.0\n",
       "68   Syndra         1932             490.0\n",
       "50  Orianna         1860             344.0\n",
       "2     Akali         1718             364.0\n",
       "67    Sylas         1508             424.0"
      ]
     },
     "execution_count": 16,
     "metadata": {},
     "output_type": "execute_result"
    }
   ],
   "source": [
    "df_mid_champs = df_mid.groupby(\"champion\").agg(\"sum\").reset_index()\n",
    "df_mid_champs_kills = pd.DataFrame()\n",
    "df_mid_champs_kills[\"Champion\"] = df_mid_champs[\"champion\"]\n",
    "df_mid_champs_kills[\"Total Kills\"] = df_mid_champs[\"kills\"]\n",
    "df_mid_champs_kills[\"Early Game Kills\"] = df_mid_champs[\"killsat15\"]\n",
    "df_mid_champs_kills.nlargest(10, \"Total Kills\")"
   ]
  },
  {
   "cell_type": "code",
   "execution_count": 17,
   "metadata": {},
   "outputs": [
    {
     "data": {
      "text/html": [
       "<div>\n",
       "<style scoped>\n",
       "    .dataframe tbody tr th:only-of-type {\n",
       "        vertical-align: middle;\n",
       "    }\n",
       "\n",
       "    .dataframe tbody tr th {\n",
       "        vertical-align: top;\n",
       "    }\n",
       "\n",
       "    .dataframe thead th {\n",
       "        text-align: right;\n",
       "    }\n",
       "</style>\n",
       "<table border=\"1\" class=\"dataframe\">\n",
       "  <thead>\n",
       "    <tr style=\"text-align: right;\">\n",
       "      <th></th>\n",
       "      <th>Champion</th>\n",
       "      <th>Total Kills</th>\n",
       "      <th>Early Game Kills</th>\n",
       "    </tr>\n",
       "  </thead>\n",
       "  <tbody>\n",
       "    <tr>\n",
       "      <th>16</th>\n",
       "      <td>Lee Sin</td>\n",
       "      <td>5544</td>\n",
       "      <td>1982.0</td>\n",
       "    </tr>\n",
       "    <tr>\n",
       "      <th>47</th>\n",
       "      <td>Viego</td>\n",
       "      <td>5482</td>\n",
       "      <td>1549.0</td>\n",
       "    </tr>\n",
       "    <tr>\n",
       "      <th>50</th>\n",
       "      <td>Xin Zhao</td>\n",
       "      <td>5077</td>\n",
       "      <td>1781.0</td>\n",
       "    </tr>\n",
       "    <tr>\n",
       "      <th>8</th>\n",
       "      <td>Hecarim</td>\n",
       "      <td>3153</td>\n",
       "      <td>1049.0</td>\n",
       "    </tr>\n",
       "    <tr>\n",
       "      <th>48</th>\n",
       "      <td>Volibear</td>\n",
       "      <td>2243</td>\n",
       "      <td>756.0</td>\n",
       "    </tr>\n",
       "    <tr>\n",
       "      <th>10</th>\n",
       "      <td>Jarvan IV</td>\n",
       "      <td>1794</td>\n",
       "      <td>773.0</td>\n",
       "    </tr>\n",
       "    <tr>\n",
       "      <th>0</th>\n",
       "      <td>Diana</td>\n",
       "      <td>1386</td>\n",
       "      <td>452.0</td>\n",
       "    </tr>\n",
       "    <tr>\n",
       "      <th>41</th>\n",
       "      <td>Trundle</td>\n",
       "      <td>1102</td>\n",
       "      <td>367.0</td>\n",
       "    </tr>\n",
       "    <tr>\n",
       "      <th>6</th>\n",
       "      <td>Graves</td>\n",
       "      <td>922</td>\n",
       "      <td>279.0</td>\n",
       "    </tr>\n",
       "    <tr>\n",
       "      <th>7</th>\n",
       "      <td>Gwen</td>\n",
       "      <td>586</td>\n",
       "      <td>152.0</td>\n",
       "    </tr>\n",
       "  </tbody>\n",
       "</table>\n",
       "</div>"
      ],
      "text/plain": [
       "     Champion  Total Kills  Early Game Kills\n",
       "16    Lee Sin         5544            1982.0\n",
       "47      Viego         5482            1549.0\n",
       "50   Xin Zhao         5077            1781.0\n",
       "8     Hecarim         3153            1049.0\n",
       "48   Volibear         2243             756.0\n",
       "10  Jarvan IV         1794             773.0\n",
       "0       Diana         1386             452.0\n",
       "41    Trundle         1102             367.0\n",
       "6      Graves          922             279.0\n",
       "7        Gwen          586             152.0"
      ]
     },
     "execution_count": 17,
     "metadata": {},
     "output_type": "execute_result"
    }
   ],
   "source": [
    "df_jungle_champs = df_jungle.groupby(\"champion\").agg(\"sum\").reset_index()\n",
    "df_jungle_champs_kills = pd.DataFrame()\n",
    "df_jungle_champs_kills[\"Champion\"] = df_jungle_champs[\"champion\"]\n",
    "df_jungle_champs_kills[\"Total Kills\"] = df_jungle_champs[\"kills\"]\n",
    "df_jungle_champs_kills[\"Early Game Kills\"] = df_jungle_champs[\"killsat15\"]\n",
    "df_jungle_champs_kills.nlargest(10, \"Total Kills\")"
   ]
  },
  {
   "cell_type": "code",
   "execution_count": 18,
   "metadata": {},
   "outputs": [
    {
     "data": {
      "text/html": [
       "<div>\n",
       "<style scoped>\n",
       "    .dataframe tbody tr th:only-of-type {\n",
       "        vertical-align: middle;\n",
       "    }\n",
       "\n",
       "    .dataframe tbody tr th {\n",
       "        vertical-align: top;\n",
       "    }\n",
       "\n",
       "    .dataframe thead th {\n",
       "        text-align: right;\n",
       "    }\n",
       "</style>\n",
       "<table border=\"1\" class=\"dataframe\">\n",
       "  <thead>\n",
       "    <tr style=\"text-align: right;\">\n",
       "      <th></th>\n",
       "      <th>Champion</th>\n",
       "      <th>Total Kills</th>\n",
       "      <th>Early Game Kills</th>\n",
       "    </tr>\n",
       "  </thead>\n",
       "  <tbody>\n",
       "    <tr>\n",
       "      <th>14</th>\n",
       "      <td>Jinx</td>\n",
       "      <td>12634</td>\n",
       "      <td>2029.0</td>\n",
       "    </tr>\n",
       "    <tr>\n",
       "      <th>1</th>\n",
       "      <td>Aphelios</td>\n",
       "      <td>9573</td>\n",
       "      <td>1684.0</td>\n",
       "    </tr>\n",
       "    <tr>\n",
       "      <th>53</th>\n",
       "      <td>Zeri</td>\n",
       "      <td>4193</td>\n",
       "      <td>684.0</td>\n",
       "    </tr>\n",
       "    <tr>\n",
       "      <th>13</th>\n",
       "      <td>Jhin</td>\n",
       "      <td>3617</td>\n",
       "      <td>670.0</td>\n",
       "    </tr>\n",
       "    <tr>\n",
       "      <th>49</th>\n",
       "      <td>Xayah</td>\n",
       "      <td>2435</td>\n",
       "      <td>436.0</td>\n",
       "    </tr>\n",
       "    <tr>\n",
       "      <th>4</th>\n",
       "      <td>Caitlyn</td>\n",
       "      <td>1897</td>\n",
       "      <td>430.0</td>\n",
       "    </tr>\n",
       "    <tr>\n",
       "      <th>9</th>\n",
       "      <td>Ezreal</td>\n",
       "      <td>1816</td>\n",
       "      <td>370.0</td>\n",
       "    </tr>\n",
       "    <tr>\n",
       "      <th>15</th>\n",
       "      <td>Kai'Sa</td>\n",
       "      <td>1762</td>\n",
       "      <td>301.0</td>\n",
       "    </tr>\n",
       "    <tr>\n",
       "      <th>44</th>\n",
       "      <td>Varus</td>\n",
       "      <td>956</td>\n",
       "      <td>268.0</td>\n",
       "    </tr>\n",
       "    <tr>\n",
       "      <th>23</th>\n",
       "      <td>Lucian</td>\n",
       "      <td>620</td>\n",
       "      <td>155.0</td>\n",
       "    </tr>\n",
       "  </tbody>\n",
       "</table>\n",
       "</div>"
      ],
      "text/plain": [
       "    Champion  Total Kills  Early Game Kills\n",
       "14      Jinx        12634            2029.0\n",
       "1   Aphelios         9573            1684.0\n",
       "53      Zeri         4193             684.0\n",
       "13      Jhin         3617             670.0\n",
       "49     Xayah         2435             436.0\n",
       "4    Caitlyn         1897             430.0\n",
       "9     Ezreal         1816             370.0\n",
       "15    Kai'Sa         1762             301.0\n",
       "44     Varus          956             268.0\n",
       "23    Lucian          620             155.0"
      ]
     },
     "execution_count": 18,
     "metadata": {},
     "output_type": "execute_result"
    }
   ],
   "source": [
    "df_bot_champs = df_bot.groupby(\"champion\").agg(\"sum\").reset_index()\n",
    "df_bot_champs_kills = pd.DataFrame()\n",
    "df_bot_champs_kills[\"Champion\"] = df_bot_champs[\"champion\"]\n",
    "df_bot_champs_kills[\"Total Kills\"] = df_bot_champs[\"kills\"]\n",
    "df_bot_champs_kills[\"Early Game Kills\"] = df_bot_champs[\"killsat15\"]\n",
    "df_bot_champs_kills.nlargest(10, \"Total Kills\")"
   ]
  },
  {
   "cell_type": "code",
   "execution_count": 19,
   "metadata": {},
   "outputs": [
    {
     "data": {
      "text/html": [
       "<div>\n",
       "<style scoped>\n",
       "    .dataframe tbody tr th:only-of-type {\n",
       "        vertical-align: middle;\n",
       "    }\n",
       "\n",
       "    .dataframe tbody tr th {\n",
       "        vertical-align: top;\n",
       "    }\n",
       "\n",
       "    .dataframe thead th {\n",
       "        text-align: right;\n",
       "    }\n",
       "</style>\n",
       "<table border=\"1\" class=\"dataframe\">\n",
       "  <thead>\n",
       "    <tr style=\"text-align: right;\">\n",
       "      <th></th>\n",
       "      <th>Champion</th>\n",
       "      <th>Total Kills</th>\n",
       "      <th>Early Game Kills</th>\n",
       "    </tr>\n",
       "  </thead>\n",
       "  <tbody>\n",
       "    <tr>\n",
       "      <th>23</th>\n",
       "      <td>Nautilus</td>\n",
       "      <td>1707</td>\n",
       "      <td>621.0</td>\n",
       "    </tr>\n",
       "    <tr>\n",
       "      <th>16</th>\n",
       "      <td>Leona</td>\n",
       "      <td>1202</td>\n",
       "      <td>445.0</td>\n",
       "    </tr>\n",
       "    <tr>\n",
       "      <th>46</th>\n",
       "      <td>Thresh</td>\n",
       "      <td>774</td>\n",
       "      <td>305.0</td>\n",
       "    </tr>\n",
       "    <tr>\n",
       "      <th>28</th>\n",
       "      <td>Rakan</td>\n",
       "      <td>722</td>\n",
       "      <td>264.0</td>\n",
       "    </tr>\n",
       "    <tr>\n",
       "      <th>44</th>\n",
       "      <td>Tahm Kench</td>\n",
       "      <td>611</td>\n",
       "      <td>215.0</td>\n",
       "    </tr>\n",
       "    <tr>\n",
       "      <th>14</th>\n",
       "      <td>Karma</td>\n",
       "      <td>467</td>\n",
       "      <td>177.0</td>\n",
       "    </tr>\n",
       "    <tr>\n",
       "      <th>18</th>\n",
       "      <td>Lux</td>\n",
       "      <td>329</td>\n",
       "      <td>112.0</td>\n",
       "    </tr>\n",
       "    <tr>\n",
       "      <th>17</th>\n",
       "      <td>Lulu</td>\n",
       "      <td>295</td>\n",
       "      <td>142.0</td>\n",
       "    </tr>\n",
       "    <tr>\n",
       "      <th>30</th>\n",
       "      <td>Renata Glasc</td>\n",
       "      <td>293</td>\n",
       "      <td>81.0</td>\n",
       "    </tr>\n",
       "    <tr>\n",
       "      <th>35</th>\n",
       "      <td>Sett</td>\n",
       "      <td>265</td>\n",
       "      <td>67.0</td>\n",
       "    </tr>\n",
       "  </tbody>\n",
       "</table>\n",
       "</div>"
      ],
      "text/plain": [
       "        Champion  Total Kills  Early Game Kills\n",
       "23      Nautilus         1707             621.0\n",
       "16         Leona         1202             445.0\n",
       "46        Thresh          774             305.0\n",
       "28         Rakan          722             264.0\n",
       "44    Tahm Kench          611             215.0\n",
       "14         Karma          467             177.0\n",
       "18           Lux          329             112.0\n",
       "17          Lulu          295             142.0\n",
       "30  Renata Glasc          293              81.0\n",
       "35          Sett          265              67.0"
      ]
     },
     "execution_count": 19,
     "metadata": {},
     "output_type": "execute_result"
    }
   ],
   "source": [
    "df_sup_champs = df_sup.groupby(\"champion\").agg(\"sum\").reset_index()\n",
    "df_sup_champs_kills = pd.DataFrame()\n",
    "df_sup_champs_kills[\"Champion\"] = df_sup_champs[\"champion\"]\n",
    "df_sup_champs_kills[\"Total Kills\"] = df_sup_champs[\"kills\"]\n",
    "df_sup_champs_kills[\"Early Game Kills\"] = df_sup_champs[\"killsat15\"]\n",
    "df_sup_champs_kills.nlargest(10, \"Total Kills\")"
   ]
  },
  {
   "cell_type": "markdown",
   "metadata": {},
   "source": [
    "**Find Average CS per Minute per role**"
   ]
  },
  {
   "cell_type": "code",
   "execution_count": 20,
   "metadata": {},
   "outputs": [
    {
     "data": {
      "text/plain": [
       "7.900421865860792"
      ]
     },
     "execution_count": 20,
     "metadata": {},
     "output_type": "execute_result"
    },
    {
     "data": {
      "image/png": "[encoded data removed]",
      "text/plain": [
       "<Figure size 432x288 with 1 Axes>"
      ]
     },
     "metadata": {
      "needs_background": "light"
     },
     "output_type": "display_data"
    }
   ],
   "source": [
    "df_top[\"cspm\"].hist()\n",
    "df_top[\"cspm\"].mean()"
   ]
  },
  {
   "cell_type": "code",
   "execution_count": 21,
   "metadata": {},
   "outputs": [
    {
     "data": {
      "text/plain": [
       "8.283604347826088"
      ]
     },
     "execution_count": 21,
     "metadata": {},
     "output_type": "execute_result"
    },
    {
     "data": {
      "image/png": "[encoded data removed]",
      "text/plain": [
       "<Figure size 432x288 with 1 Axes>"
      ]
     },
     "metadata": {
      "needs_background": "light"
     },
     "output_type": "display_data"
    }
   ],
   "source": [
    "df_mid[\"cspm\"].hist()\n",
    "df_mid[\"cspm\"].mean()"
   ]
  },
  {
   "cell_type": "code",
   "execution_count": 22,
   "metadata": {},
   "outputs": [
    {
     "data": {
      "text/plain": [
       "5.659065919282511"
      ]
     },
     "execution_count": 22,
     "metadata": {},
     "output_type": "execute_result"
    },
    {
     "data": {
      "image/png": "[encoded data removed]",
      "text/plain": [
       "<Figure size 432x288 with 1 Axes>"
      ]
     },
     "metadata": {
      "needs_background": "light"
     },
     "output_type": "display_data"
    }
   ],
   "source": [
    "df_jungle[\"cspm\"].hist()\n",
    "df_jungle[\"cspm\"].mean()"
   ]
  },
  {
   "cell_type": "code",
   "execution_count": 23,
   "metadata": {},
   "outputs": [
    {
     "data": {
      "text/plain": [
       "9.035380366543185"
      ]
     },
     "execution_count": 23,
     "metadata": {},
     "output_type": "execute_result"
    },
    {
     "data": {
      "image/png": "[encoded data removed]",
      "text/plain": [
       "<Figure size 432x288 with 1 Axes>"
      ]
     },
     "metadata": {
      "needs_background": "light"
     },
     "output_type": "display_data"
    }
   ],
   "source": [
    "df_bot[\"cspm\"].hist()\n",
    "df_bot[\"cspm\"].mean()"
   ]
  },
  {
   "cell_type": "code",
   "execution_count": 24,
   "metadata": {},
   "outputs": [
    {
     "data": {
      "text/plain": [
       "1.1043373172158315"
      ]
     },
     "execution_count": 24,
     "metadata": {},
     "output_type": "execute_result"
    },
    {
     "data": {
      "image/png": "[encoded data removed]",
      "text/plain": [
       "<Figure size 432x288 with 1 Axes>"
      ]
     },
     "metadata": {
      "needs_background": "light"
     },
     "output_type": "display_data"
    }
   ],
   "source": [
    "df_sup[\"cspm\"].hist()\n",
    "df_sup[\"cspm\"].mean()"
   ]
  }
 ],
 "metadata": {
  "interpreter": {
   "hash": "aee8b7b246df8f9039afb4144a1f6fd8d2ca17a180786b69acc140d282b71a49"
  },
  "kernelspec": {
   "display_name": "Python 3.10.2 64-bit",
   "language": "python",
   "name": "python3"
  },
  "language_info": {
   "codemirror_mode": {
    "name": "ipython",
    "version": 3
   },
   "file_extension": ".py",
   "mimetype": "text/x-python",
   "name": "python",
   "nbconvert_exporter": "python",
   "pygments_lexer": "ipython3",
   "version": "3.10.2"
  },
  "orig_nbformat": 4
 },
 "nbformat": 4,
 "nbformat_minor": 2
}
