{
 "cells": [
  {
   "cell_type": "markdown",
   "metadata": {},
   "source": [
    "# Lab: GPA\n",
    "\n",
    "In this lab, you will explore Wade's famous GPA dataset and find out about the easiest, hardest, and most popular courses at Illinois!\n",
    "\n",
    "The dataset you are using is this lab is actually the same dataset that Prof Wade used to make the GPA visualizations :) Check this out here if you haven't seen it already: [https://waf.cs.illinois.edu/discovery/grade_disparity_between_sections_at_uiuc/](https://waf.cs.illinois.edu/discovery/grade_disparity_between_sections_at_uiuc/)\n",
    "\n",
    "## Group\n",
    "\n",
    "Edit the next Python cell to add information about who you're working within your lab section:"
   ]
  },
  {
   "cell_type": "code",
   "execution_count": 16,
   "metadata": {},
   "outputs": [],
   "source": [
    "# First, meet your CAs and TA if you haven't already!\n",
    "# ...first name is enough, we'll know who they are! :)\n",
    "ta_name = \"Daniel\"\n",
    "ca1_name = \"Tanvi\"\n",
    "ca2_name = \"Kaitlyn\"\n",
    "\n",
    "\n",
    "# Also, make sure to meet your team for this lab! Find out their name, what major they're in,\n",
    "# and learn something new about them that you never knew before!\n",
    "partner1_name = \"Jack\"\n",
    "partner1_netid = \"johnsm4\"\n",
    "partner1_major = \"Statistics\"\n",
    "\n",
    "partner2_name = \"Degaulle\"\n",
    "partner2_netid = \"ddai9\"\n",
    "partner2_major = \"Food Micro Biology\"\n",
    "\n",
    "partner3_name = \"Jay\"\n",
    "partner3_netid = \"jayaw2\"\n",
    "partner3_major = \"CS + Math\""
   ]
  },
  {
   "cell_type": "markdown",
   "metadata": {},
   "source": [
    "## Table of Contents <a id='toc'></a>\n",
    "\n",
    "**Use the Outline view (View > Command Palette > Type \"outline\") for navigation.**\n",
    "\n",
    "* Puzzle 1\n",
    "    * Puzzle 1.1\n",
    "    * Puzzle 1.2\n",
    "* Puzzle 2\n",
    "    * Puzzle 2.1\n",
    "    * Puzzle 2.2\n",
    "    * Puzzle 2.3 \n",
    "    * Puzzle 2.4\n",
    "* Puzzle 3\n",
    "    * Puzzle 3.1\n",
    "    * Puzzle 3.2\n",
    "    * Puzzle 3.3\n",
    "    * Puzzle 3.4\n",
    "    * Puzzle 3.5\n",
    "\n",
    "## Puzzle 1: Basic Data Manipulation\n",
    "\n",
    "### Puzzle 1.1: Loading the Dataset\n",
    "\n",
    "For the first part of our lab, we'll be using the GPA dataset, which should be automatically downloaded when you fetch this notebook. \n",
    "\n",
    "In the following cell, load the pandas library and read the dataset into `df`."
   ]
  },
  {
   "cell_type": "code",
   "execution_count": 17,
   "metadata": {
    "nbgrader": {
     "grade": false,
     "grade_id": "cell-51fef9428e349da7",
     "locked": false,
     "schema_version": 3,
     "solution": true,
     "task": false
    }
   },
   "outputs": [
    {
     "ename": "ModuleNotFoundError",
     "evalue": "No module named 'pandas'",
     "output_type": "error",
     "traceback": [
      "\u001b[0;31m---------------------------------------------------------------------------\u001b[0m",
      "\u001b[0;31mModuleNotFoundError\u001b[0m                       Traceback (most recent call last)",
      "\u001b[1;32m/Users/saber/Desktop/stat107/srahm3/lab_gpa/lab_gpa.ipynb Cell 4'\u001b[0m in \u001b[0;36m<module>\u001b[0;34m\u001b[0m\n\u001b[1;32m      <a href='vscode-notebook-cell:/Users/saber/Desktop/stat107/srahm3/lab_gpa/lab_gpa.ipynb#ch0000003?line=0'>1</a>\u001b[0m \u001b[39m#import the gpa.csv dataset below\u001b[39;00m\n\u001b[0;32m----> <a href='vscode-notebook-cell:/Users/saber/Desktop/stat107/srahm3/lab_gpa/lab_gpa.ipynb#ch0000003?line=1'>2</a>\u001b[0m \u001b[39mimport\u001b[39;00m \u001b[39mpandas\u001b[39;00m \u001b[39mas\u001b[39;00m \u001b[39mpd\u001b[39;00m\n\u001b[1;32m      <a href='vscode-notebook-cell:/Users/saber/Desktop/stat107/srahm3/lab_gpa/lab_gpa.ipynb#ch0000003?line=2'>3</a>\u001b[0m df \u001b[39m=\u001b[39m pd\u001b[39m.\u001b[39mread_csv(\u001b[39m\"\u001b[39m\u001b[39m/Users/saber/Desktop/stat107/srahm3/lab_gpa/gpa.csv\u001b[39m\u001b[39m\"\u001b[39m)\n",
      "\u001b[0;31mModuleNotFoundError\u001b[0m: No module named 'pandas'"
     ]
    }
   ],
   "source": [
    "#import the gpa.csv dataset below\n",
    "import pandas as pd\n",
    "df = pd.read_csv(\"/Users/saber/Desktop/stat107/srahm3/lab_gpa/gpa.csv\")"
   ]
  },
  {
   "cell_type": "markdown",
   "metadata": {},
   "source": [
    "### Puzzle 1.2: Adding Helper Columns\n",
    "\n",
    "Add two new columns, `\"Total Students\"` and `\"Average GPA\"`, that compute the total number of students in each course and the average GPA for each course, respectively.\n",
    "\n",
    "You should not include students with a `\"W\"` in either column. The grade point scale can be found at https://registrar.illinois.edu/courses-grades/explanation-of-grades/.\n",
    "\n",
    "Hint (double-click this cell to see it): <span style=\"color:#ffffff00\">it is not necessary but you can try the dot() function; see https://stackoverflow.com/questions/18419962/how-to-compute-weighted-sum-of-all-elements-in-a-row-in-pandas for some examples.</span>"
   ]
  },
  {
   "cell_type": "code",
   "execution_count": 18,
   "metadata": {
    "nbgrader": {
     "grade": false,
     "grade_id": "cell-1043285927ac8a85",
     "locked": false,
     "schema_version": 3,
     "solution": true,
     "task": false
    }
   },
   "outputs": [
    {
     "ename": "NameError",
     "evalue": "name 'df' is not defined",
     "output_type": "error",
     "traceback": [
      "\u001b[0;31m---------------------------------------------------------------------------\u001b[0m",
      "\u001b[0;31mNameError\u001b[0m                                 Traceback (most recent call last)",
      "\u001b[1;32m/Users/saber/Desktop/stat107/srahm3/lab_gpa/lab_gpa.ipynb Cell 6'\u001b[0m in \u001b[0;36m<module>\u001b[0;34m\u001b[0m\n\u001b[1;32m      <a href='vscode-notebook-cell:/Users/saber/Desktop/stat107/srahm3/lab_gpa/lab_gpa.ipynb#ch0000005?line=0'>1</a>\u001b[0m weight \u001b[39m=\u001b[39m [\u001b[39m4\u001b[39m, \u001b[39m4\u001b[39m, \u001b[39m3.67\u001b[39m, \u001b[39m3.33\u001b[39m, \u001b[39m3\u001b[39m, \u001b[39m2.67\u001b[39m, \u001b[39m2.33\u001b[39m, \u001b[39m2\u001b[39m, \u001b[39m1.67\u001b[39m, \u001b[39m1.33\u001b[39m, \u001b[39m1\u001b[39m, \u001b[39m0.67\u001b[39m, \u001b[39m0\u001b[39m]\n\u001b[1;32m      <a href='vscode-notebook-cell:/Users/saber/Desktop/stat107/srahm3/lab_gpa/lab_gpa.ipynb#ch0000005?line=1'>2</a>\u001b[0m grade \u001b[39m=\u001b[39m [\u001b[39m\"\u001b[39m\u001b[39mA+\u001b[39m\u001b[39m\"\u001b[39m, \u001b[39m\"\u001b[39m\u001b[39mA\u001b[39m\u001b[39m\"\u001b[39m, \u001b[39m\"\u001b[39m\u001b[39mA-\u001b[39m\u001b[39m\"\u001b[39m, \u001b[39m\"\u001b[39m\u001b[39mB+\u001b[39m\u001b[39m\"\u001b[39m, \u001b[39m\"\u001b[39m\u001b[39mB\u001b[39m\u001b[39m\"\u001b[39m, \u001b[39m\"\u001b[39m\u001b[39mB-\u001b[39m\u001b[39m\"\u001b[39m, \u001b[39m\"\u001b[39m\u001b[39mC+\u001b[39m\u001b[39m\"\u001b[39m, \u001b[39m\"\u001b[39m\u001b[39mC\u001b[39m\u001b[39m\"\u001b[39m, \u001b[39m\"\u001b[39m\u001b[39mC-\u001b[39m\u001b[39m\"\u001b[39m, \u001b[39m\"\u001b[39m\u001b[39mD+\u001b[39m\u001b[39m\"\u001b[39m, \u001b[39m\"\u001b[39m\u001b[39mD\u001b[39m\u001b[39m\"\u001b[39m, \u001b[39m\"\u001b[39m\u001b[39mD-\u001b[39m\u001b[39m\"\u001b[39m, \u001b[39m\"\u001b[39m\u001b[39mF\u001b[39m\u001b[39m\"\u001b[39m]\n\u001b[0;32m----> <a href='vscode-notebook-cell:/Users/saber/Desktop/stat107/srahm3/lab_gpa/lab_gpa.ipynb#ch0000005?line=2'>3</a>\u001b[0m df[\u001b[39m\"\u001b[39m\u001b[39mTotal Students\u001b[39m\u001b[39m\"\u001b[39m] \u001b[39m=\u001b[39m df[grade]\u001b[39m.\u001b[39msum(axis\u001b[39m=\u001b[39m\u001b[39m1\u001b[39m)\n\u001b[1;32m      <a href='vscode-notebook-cell:/Users/saber/Desktop/stat107/srahm3/lab_gpa/lab_gpa.ipynb#ch0000005?line=3'>4</a>\u001b[0m df[\u001b[39m\"\u001b[39m\u001b[39mAverage GPA\u001b[39m\u001b[39m\"\u001b[39m] \u001b[39m=\u001b[39m  df[grade]\u001b[39m.\u001b[39mdot(weight) \u001b[39m/\u001b[39m df[\u001b[39m\"\u001b[39m\u001b[39mTotal Students\u001b[39m\u001b[39m\"\u001b[39m]\n\u001b[1;32m      <a href='vscode-notebook-cell:/Users/saber/Desktop/stat107/srahm3/lab_gpa/lab_gpa.ipynb#ch0000005?line=4'>5</a>\u001b[0m df\n",
      "\u001b[0;31mNameError\u001b[0m: name 'df' is not defined"
     ]
    }
   ],
   "source": [
    "weight = [4, 4, 3.67, 3.33, 3, 2.67, 2.33, 2, 1.67, 1.33, 1, 0.67, 0]\n",
    "grade = [\"A+\", \"A\", \"A-\", \"B+\", \"B\", \"B-\", \"C+\", \"C\", \"C-\", \"D+\", \"D\", \"D-\", \"F\"]\n",
    "df[\"Total Students\"] = df[grade].sum(axis=1)\n",
    "df[\"Average GPA\"] =  df[grade].dot(weight) / df[\"Total Students\"]\n",
    "df"
   ]
  },
  {
   "cell_type": "code",
   "execution_count": 19,
   "metadata": {
    "nbgrader": {
     "grade": true,
     "grade_id": "cell-46729cc74c213e52",
     "locked": true,
     "points": 1,
     "schema_version": 3,
     "solution": false,
     "task": false
    }
   },
   "outputs": [
    {
     "ename": "NameError",
     "evalue": "name 'df' is not defined",
     "output_type": "error",
     "traceback": [
      "\u001b[0;31m---------------------------------------------------------------------------\u001b[0m",
      "\u001b[0;31mNameError\u001b[0m                                 Traceback (most recent call last)",
      "\u001b[1;32m/Users/saber/Desktop/stat107/srahm3/lab_gpa/lab_gpa.ipynb Cell 7'\u001b[0m in \u001b[0;36m<module>\u001b[0;34m\u001b[0m\n\u001b[1;32m      <a href='vscode-notebook-cell:/Users/saber/Desktop/stat107/srahm3/lab_gpa/lab_gpa.ipynb#ch0000006?line=0'>1</a>\u001b[0m \u001b[39m## == TEST CASES for Puzzle 1.2 ==\u001b[39;00m\n\u001b[1;32m      <a href='vscode-notebook-cell:/Users/saber/Desktop/stat107/srahm3/lab_gpa/lab_gpa.ipynb#ch0000006?line=1'>2</a>\u001b[0m \u001b[39m# - This read-only cell contains test cases for your previous cell.\u001b[39;00m\n\u001b[1;32m      <a href='vscode-notebook-cell:/Users/saber/Desktop/stat107/srahm3/lab_gpa/lab_gpa.ipynb#ch0000006?line=2'>3</a>\u001b[0m \u001b[39m# - If this cell runs without any error our output, you PASSED all test cases!\u001b[39;00m\n\u001b[1;32m      <a href='vscode-notebook-cell:/Users/saber/Desktop/stat107/srahm3/lab_gpa/lab_gpa.ipynb#ch0000006?line=3'>4</a>\u001b[0m \u001b[39m# - If this cell results in any errors, check your previous cell, make changes, and RE-RUN your code and then this cell.\u001b[39;00m\n\u001b[0;32m----> <a href='vscode-notebook-cell:/Users/saber/Desktop/stat107/srahm3/lab_gpa/lab_gpa.ipynb#ch0000006?line=4'>5</a>\u001b[0m \u001b[39massert\u001b[39;00m(df[\n\u001b[1;32m      <a href='vscode-notebook-cell:/Users/saber/Desktop/stat107/srahm3/lab_gpa/lab_gpa.ipynb#ch0000006?line=5'>6</a>\u001b[0m   (df[\u001b[39m\"\u001b[39m\u001b[39mYearTerm\u001b[39m\u001b[39m\"\u001b[39m] \u001b[39m==\u001b[39m \u001b[39m\"\u001b[39m\u001b[39m2010-su\u001b[39m\u001b[39m\"\u001b[39m) \u001b[39m&\u001b[39m \\\n\u001b[1;32m      <a href='vscode-notebook-cell:/Users/saber/Desktop/stat107/srahm3/lab_gpa/lab_gpa.ipynb#ch0000006?line=6'>7</a>\u001b[0m   (df[\u001b[39m\"\u001b[39m\u001b[39mSubject\u001b[39m\u001b[39m\"\u001b[39m] \u001b[39m==\u001b[39m \u001b[39m\"\u001b[39m\u001b[39mSTAT\u001b[39m\u001b[39m\"\u001b[39m) \u001b[39m&\u001b[39m \\\n\u001b[1;32m      <a href='vscode-notebook-cell:/Users/saber/Desktop/stat107/srahm3/lab_gpa/lab_gpa.ipynb#ch0000006?line=7'>8</a>\u001b[0m   (df[\u001b[39m\"\u001b[39m\u001b[39mNumber\u001b[39m\u001b[39m\"\u001b[39m] \u001b[39m==\u001b[39m \u001b[39m410\u001b[39m) \\\n\u001b[1;32m      <a href='vscode-notebook-cell:/Users/saber/Desktop/stat107/srahm3/lab_gpa/lab_gpa.ipynb#ch0000006?line=8'>9</a>\u001b[0m ][\u001b[39m\"\u001b[39m\u001b[39mTotal Students\u001b[39m\u001b[39m\"\u001b[39m]\u001b[39m.\u001b[39msum() \u001b[39m==\u001b[39m \u001b[39m31\u001b[39m), \u001b[39m\"\u001b[39m\u001b[39mIt appears that your \u001b[39m\u001b[39m\\\"\u001b[39;00m\u001b[39mTotal Students\u001b[39m\u001b[39m\\\"\u001b[39;00m\u001b[39m column is incorrect.\u001b[39m\u001b[39m\"\u001b[39m\n\u001b[1;32m     <a href='vscode-notebook-cell:/Users/saber/Desktop/stat107/srahm3/lab_gpa/lab_gpa.ipynb#ch0000006?line=9'>10</a>\u001b[0m \u001b[39massert\u001b[39;00m(df[\n\u001b[1;32m     <a href='vscode-notebook-cell:/Users/saber/Desktop/stat107/srahm3/lab_gpa/lab_gpa.ipynb#ch0000006?line=10'>11</a>\u001b[0m   (df[\u001b[39m\"\u001b[39m\u001b[39mYearTerm\u001b[39m\u001b[39m\"\u001b[39m] \u001b[39m==\u001b[39m \u001b[39m\"\u001b[39m\u001b[39m2018-fa\u001b[39m\u001b[39m\"\u001b[39m) \u001b[39m&\u001b[39m \\\n\u001b[1;32m     <a href='vscode-notebook-cell:/Users/saber/Desktop/stat107/srahm3/lab_gpa/lab_gpa.ipynb#ch0000006?line=11'>12</a>\u001b[0m   (df[\u001b[39m\"\u001b[39m\u001b[39mSubject\u001b[39m\u001b[39m\"\u001b[39m] \u001b[39m==\u001b[39m \u001b[39m\"\u001b[39m\u001b[39mCS\u001b[39m\u001b[39m\"\u001b[39m) \u001b[39m&\u001b[39m \\\n\u001b[1;32m     <a href='vscode-notebook-cell:/Users/saber/Desktop/stat107/srahm3/lab_gpa/lab_gpa.ipynb#ch0000006?line=12'>13</a>\u001b[0m   (df[\u001b[39m\"\u001b[39m\u001b[39mNumber\u001b[39m\u001b[39m\"\u001b[39m] \u001b[39m==\u001b[39m \u001b[39m225\u001b[39m) \\\n\u001b[1;32m     <a href='vscode-notebook-cell:/Users/saber/Desktop/stat107/srahm3/lab_gpa/lab_gpa.ipynb#ch0000006?line=13'>14</a>\u001b[0m ][\u001b[39m\"\u001b[39m\u001b[39mTotal Students\u001b[39m\u001b[39m\"\u001b[39m]\u001b[39m.\u001b[39msum() \u001b[39m==\u001b[39m \u001b[39m697\u001b[39m), \u001b[39m\"\u001b[39m\u001b[39mIt appears that your \u001b[39m\u001b[39m\\\"\u001b[39;00m\u001b[39mTotal Students\u001b[39m\u001b[39m\\\"\u001b[39;00m\u001b[39m column is incorrect.\u001b[39m\u001b[39m\"\u001b[39m\n\u001b[1;32m     <a href='vscode-notebook-cell:/Users/saber/Desktop/stat107/srahm3/lab_gpa/lab_gpa.ipynb#ch0000006?line=14'>15</a>\u001b[0m \u001b[39massert\u001b[39;00m( \u001b[39mabs\u001b[39m(df[\n\u001b[1;32m     <a href='vscode-notebook-cell:/Users/saber/Desktop/stat107/srahm3/lab_gpa/lab_gpa.ipynb#ch0000006?line=15'>16</a>\u001b[0m   (df[\u001b[39m\"\u001b[39m\u001b[39mYearTerm\u001b[39m\u001b[39m\"\u001b[39m] \u001b[39m==\u001b[39m \u001b[39m\"\u001b[39m\u001b[39m2018-fa\u001b[39m\u001b[39m\"\u001b[39m) \u001b[39m&\u001b[39m \\\n\u001b[1;32m     <a href='vscode-notebook-cell:/Users/saber/Desktop/stat107/srahm3/lab_gpa/lab_gpa.ipynb#ch0000006?line=16'>17</a>\u001b[0m   (df[\u001b[39m\"\u001b[39m\u001b[39mSubject\u001b[39m\u001b[39m\"\u001b[39m] \u001b[39m==\u001b[39m \u001b[39m\"\u001b[39m\u001b[39mSTAT\u001b[39m\u001b[39m\"\u001b[39m) \u001b[39m&\u001b[39m \\\n\u001b[1;32m     <a href='vscode-notebook-cell:/Users/saber/Desktop/stat107/srahm3/lab_gpa/lab_gpa.ipynb#ch0000006?line=17'>18</a>\u001b[0m   (df[\u001b[39m\"\u001b[39m\u001b[39mNumber\u001b[39m\u001b[39m\"\u001b[39m] \u001b[39m==\u001b[39m \u001b[39m100\u001b[39m) \\\n\u001b[1;32m     <a href='vscode-notebook-cell:/Users/saber/Desktop/stat107/srahm3/lab_gpa/lab_gpa.ipynb#ch0000006?line=18'>19</a>\u001b[0m ][\u001b[39m\"\u001b[39m\u001b[39mAverage GPA\u001b[39m\u001b[39m\"\u001b[39m]\u001b[39m.\u001b[39mmean() \u001b[39m-\u001b[39m \u001b[39m3.247\u001b[39m) \u001b[39m<\u001b[39m \u001b[39m0.01\u001b[39m), \u001b[39m\"\u001b[39m\u001b[39mIt appears that your \u001b[39m\u001b[39m\\\"\u001b[39;00m\u001b[39mAverage GPA\u001b[39m\u001b[39m\\\"\u001b[39;00m\u001b[39m column is incorrect.\u001b[39m\u001b[39m\"\u001b[39m\n",
      "\u001b[0;31mNameError\u001b[0m: name 'df' is not defined"
     ]
    }
   ],
   "source": [
    "## == TEST CASES for Puzzle 1.2 ==\n",
    "# - This read-only cell contains test cases for your previous cell.\n",
    "# - If this cell runs without any error our output, you PASSED all test cases!\n",
    "# - If this cell results in any errors, check your previous cell, make changes, and RE-RUN your code and then this cell.\n",
    "assert(df[\n",
    "  (df[\"YearTerm\"] == \"2010-su\") & \\\n",
    "  (df[\"Subject\"] == \"STAT\") & \\\n",
    "  (df[\"Number\"] == 410) \\\n",
    "][\"Total Students\"].sum() == 31), \"It appears that your \\\"Total Students\\\" column is incorrect.\"\n",
    "assert(df[\n",
    "  (df[\"YearTerm\"] == \"2018-fa\") & \\\n",
    "  (df[\"Subject\"] == \"CS\") & \\\n",
    "  (df[\"Number\"] == 225) \\\n",
    "][\"Total Students\"].sum() == 697), \"It appears that your \\\"Total Students\\\" column is incorrect.\"\n",
    "assert( abs(df[\n",
    "  (df[\"YearTerm\"] == \"2018-fa\") & \\\n",
    "  (df[\"Subject\"] == \"STAT\") & \\\n",
    "  (df[\"Number\"] == 100) \\\n",
    "][\"Average GPA\"].mean() - 3.247) < 0.01), \"It appears that your \\\"Average GPA\\\" column is incorrect.\"\n",
    "## == SUCCESS MESSAGE ==\n",
    "# You will only see this message (with the emoji showing) if you passed all test cases:\n",
    "tada = \"\\N{PARTY POPPER}\"\n",
    "print(f\"{tada} All tests passed! {tada}\")"
   ]
  },
  {
   "cell_type": "markdown",
   "metadata": {
    "nbgrader": {
     "grade": false,
     "grade_id": "cell-7cf39ab5f78a3f48",
     "locked": false,
     "schema_version": 3,
     "solution": false,
     "task": false
    }
   },
   "source": [
    "## Puzzle 2: Finding the Easiest and Hardest Courses\n",
    "\n",
    "### Puzzle 2.1: Hardest Courses in the Dataset\n",
    "\n",
    "Based on the `\"Average GPA\"` column, find the **30 hardest courses** at Illinois, i.e., the 30 courses with the lowest \"Average GPA\". Store the results in `df_hard`.\n",
    "\n",
    "Hint (double-click this cell to see it): <span style=\"color:#ffffff00\">use the nsmallest() function</span>"
   ]
  },
  {
   "cell_type": "code",
   "execution_count": 20,
   "metadata": {
    "nbgrader": {
     "grade": false,
     "grade_id": "cell-13f6d92b7a658526",
     "locked": false,
     "schema_version": 3,
     "solution": true,
     "task": false
    }
   },
   "outputs": [
    {
     "ename": "NameError",
     "evalue": "name 'df' is not defined",
     "output_type": "error",
     "traceback": [
      "\u001b[0;31m---------------------------------------------------------------------------\u001b[0m",
      "\u001b[0;31mNameError\u001b[0m                                 Traceback (most recent call last)",
      "\u001b[1;32m/Users/saber/Desktop/stat107/srahm3/lab_gpa/lab_gpa.ipynb Cell 9'\u001b[0m in \u001b[0;36m<module>\u001b[0;34m\u001b[0m\n\u001b[0;32m----> <a href='vscode-notebook-cell:/Users/saber/Desktop/stat107/srahm3/lab_gpa/lab_gpa.ipynb#ch0000008?line=0'>1</a>\u001b[0m df_hard \u001b[39m=\u001b[39m df\u001b[39m.\u001b[39mnsmallest(\u001b[39m30\u001b[39m, \u001b[39m\"\u001b[39m\u001b[39mAverage GPA\u001b[39m\u001b[39m\"\u001b[39m)\n\u001b[1;32m      <a href='vscode-notebook-cell:/Users/saber/Desktop/stat107/srahm3/lab_gpa/lab_gpa.ipynb#ch0000008?line=1'>2</a>\u001b[0m df_hard\n",
      "\u001b[0;31mNameError\u001b[0m: name 'df' is not defined"
     ]
    }
   ],
   "source": [
    "df_hard = df.nsmallest(30, \"Average GPA\")\n",
    "df_hard"
   ]
  },
  {
   "cell_type": "markdown",
   "metadata": {
    "nbgrader": {
     "grade": false,
     "grade_id": "cell-02a6a9a1be700b2e",
     "locked": false,
     "schema_version": 3,
     "solution": false,
     "task": false
    }
   },
   "source": [
    "### Puzzle 2.2: \"Level\" of Hardest Courses\n",
    "\n",
    "Find the average `\"Number\"` of the **30 hardest courses** at Illinois. Store the result as `df_hard_avg`."
   ]
  },
  {
   "cell_type": "code",
   "execution_count": 21,
   "metadata": {
    "nbgrader": {
     "grade": false,
     "grade_id": "cell-a7106dca7694711c",
     "locked": false,
     "schema_version": 3,
     "solution": true,
     "task": false
    }
   },
   "outputs": [
    {
     "ename": "NameError",
     "evalue": "name 'df_hard' is not defined",
     "output_type": "error",
     "traceback": [
      "\u001b[0;31m---------------------------------------------------------------------------\u001b[0m",
      "\u001b[0;31mNameError\u001b[0m                                 Traceback (most recent call last)",
      "\u001b[1;32m/Users/saber/Desktop/stat107/srahm3/lab_gpa/lab_gpa.ipynb Cell 11'\u001b[0m in \u001b[0;36m<module>\u001b[0;34m\u001b[0m\n\u001b[0;32m----> <a href='vscode-notebook-cell:/Users/saber/Desktop/stat107/srahm3/lab_gpa/lab_gpa.ipynb#ch0000010?line=0'>1</a>\u001b[0m df_hard_avg \u001b[39m=\u001b[39m df_hard[\u001b[39m\"\u001b[39m\u001b[39mNumber\u001b[39m\u001b[39m\"\u001b[39m]\u001b[39m.\u001b[39mmean()\n\u001b[1;32m      <a href='vscode-notebook-cell:/Users/saber/Desktop/stat107/srahm3/lab_gpa/lab_gpa.ipynb#ch0000010?line=1'>2</a>\u001b[0m df_hard_avg\n",
      "\u001b[0;31mNameError\u001b[0m: name 'df_hard' is not defined"
     ]
    }
   ],
   "source": [
    "df_hard_avg = df_hard[\"Number\"].mean()\n",
    "df_hard_avg"
   ]
  },
  {
   "cell_type": "code",
   "execution_count": 22,
   "metadata": {
    "nbgrader": {
     "grade": true,
     "grade_id": "cell-46729cc74c213e52",
     "locked": true,
     "points": 1,
     "schema_version": 3,
     "solution": false,
     "task": false
    }
   },
   "outputs": [
    {
     "ename": "NameError",
     "evalue": "name 'df_hard_avg' is not defined",
     "output_type": "error",
     "traceback": [
      "\u001b[0;31m---------------------------------------------------------------------------\u001b[0m",
      "\u001b[0;31mNameError\u001b[0m                                 Traceback (most recent call last)",
      "\u001b[1;32m/Users/saber/Desktop/stat107/srahm3/lab_gpa/lab_gpa.ipynb Cell 12'\u001b[0m in \u001b[0;36m<module>\u001b[0;34m\u001b[0m\n\u001b[1;32m      <a href='vscode-notebook-cell:/Users/saber/Desktop/stat107/srahm3/lab_gpa/lab_gpa.ipynb#ch0000011?line=0'>1</a>\u001b[0m \u001b[39m## == TEST CASES for Puzzle 2.1 and 2.2 ==\u001b[39;00m\n\u001b[1;32m      <a href='vscode-notebook-cell:/Users/saber/Desktop/stat107/srahm3/lab_gpa/lab_gpa.ipynb#ch0000011?line=1'>2</a>\u001b[0m \u001b[39m# - This read-only cell contains test cases for your previous cell.\u001b[39;00m\n\u001b[1;32m      <a href='vscode-notebook-cell:/Users/saber/Desktop/stat107/srahm3/lab_gpa/lab_gpa.ipynb#ch0000011?line=2'>3</a>\u001b[0m \u001b[39m# - If this cell runs without any error our output, you PASSED all test cases!\u001b[39;00m\n\u001b[1;32m      <a href='vscode-notebook-cell:/Users/saber/Desktop/stat107/srahm3/lab_gpa/lab_gpa.ipynb#ch0000011?line=3'>4</a>\u001b[0m \u001b[39m# - If this cell results in any errors, check your previous cell(s), make changes, and RE-RUN your code and then this cell.\u001b[39;00m\n\u001b[1;32m      <a href='vscode-notebook-cell:/Users/saber/Desktop/stat107/srahm3/lab_gpa/lab_gpa.ipynb#ch0000011?line=4'>5</a>\u001b[0m \u001b[39mimport\u001b[39;00m \u001b[39mmath\u001b[39;00m\n\u001b[0;32m----> <a href='vscode-notebook-cell:/Users/saber/Desktop/stat107/srahm3/lab_gpa/lab_gpa.ipynb#ch0000011?line=5'>6</a>\u001b[0m \u001b[39massert\u001b[39;00m( math\u001b[39m.\u001b[39misclose(df_hard_avg, \u001b[39m4988\u001b[39m\u001b[39m/\u001b[39m\u001b[39m30\u001b[39m) ), \u001b[39m\"\u001b[39m\u001b[39mIt appears that your average \u001b[39m\u001b[39m\\\"\u001b[39;00m\u001b[39mNumber\u001b[39m\u001b[39m\\\"\u001b[39;00m\u001b[39m is incorrect. Please check both Puzzle 2.1 and Puzzle 2.2.\u001b[39m\u001b[39m\"\u001b[39m\n\u001b[1;32m      <a href='vscode-notebook-cell:/Users/saber/Desktop/stat107/srahm3/lab_gpa/lab_gpa.ipynb#ch0000011?line=6'>7</a>\u001b[0m \u001b[39m## == SUCCESS MESSAGE ==\u001b[39;00m\n\u001b[1;32m      <a href='vscode-notebook-cell:/Users/saber/Desktop/stat107/srahm3/lab_gpa/lab_gpa.ipynb#ch0000011?line=7'>8</a>\u001b[0m \u001b[39m# You will only see this message (with the emoji showing) if you passed all test cases:\u001b[39;00m\n\u001b[1;32m      <a href='vscode-notebook-cell:/Users/saber/Desktop/stat107/srahm3/lab_gpa/lab_gpa.ipynb#ch0000011?line=8'>9</a>\u001b[0m tada \u001b[39m=\u001b[39m \u001b[39m\"\u001b[39m\u001b[39m\\N{PARTY POPPER}\u001b[39;00m\u001b[39m\"\u001b[39m\n",
      "\u001b[0;31mNameError\u001b[0m: name 'df_hard_avg' is not defined"
     ]
    }
   ],
   "source": [
    "## == TEST CASES for Puzzle 2.1 and 2.2 ==\n",
    "# - This read-only cell contains test cases for your previous cell.\n",
    "# - If this cell runs without any error our output, you PASSED all test cases!\n",
    "# - If this cell results in any errors, check your previous cell(s), make changes, and RE-RUN your code and then this cell.\n",
    "import math\n",
    "assert( math.isclose(df_hard_avg, 4988/30) ), \"It appears that your average \\\"Number\\\" is incorrect. Please check both Puzzle 2.1 and Puzzle 2.2.\"\n",
    "## == SUCCESS MESSAGE ==\n",
    "# You will only see this message (with the emoji showing) if you passed all test cases:\n",
    "tada = \"\\N{PARTY POPPER}\"\n",
    "print(f\"{tada} All tests passed! {tada}\")"
   ]
  },
  {
   "cell_type": "markdown",
   "metadata": {},
   "source": [
    "### Puzzle 2.3: ❓ Individual Reflection Question ❓ Are the Hardest Courses Really \"Hard\"?\n",
    "\n",
    "After solving Puzzle 2.1 and 2.2, Joe has the following claim:\n",
    "\n",
    "\"We know that the undergraduate courses are coded from 1 to 499, where a larger number (in the hundreds place) usually implies more advanced materials. Based on Puzzle 2.2, the results in Puzzle 2.1 clearly do not represent the hardest courses at Illinois.\"\n",
    "\n",
    "Comment on Joe's claim below."
   ]
  },
  {
   "cell_type": "markdown",
   "metadata": {},
   "source": [
    "I think that 2.1 shows that people that try classes in subjects they are interested in but have no experience do have lower gpas, so it lower than it should be, like Joe said. That also likely means that people in the upper level classes have a good foundation of what they should know so they can pass that class."
   ]
  },
  {
   "cell_type": "markdown",
   "metadata": {},
   "source": [
    "### Puzzle 2.4: Easiest Courses in 2020\n",
    "\n",
    "Based on the `\"Average GPA\"` column, find the **30 easiest courses in 2020** at Illinois. Store the results in `df_easy_2020`.\n",
    "\n",
    "Hint (double-click this cell to see it): <span style=\"color:#ffffff00\">use the nlargest() function</span>"
   ]
  },
  {
   "cell_type": "code",
   "execution_count": 23,
   "metadata": {
    "nbgrader": {
     "grade": false,
     "grade_id": "cell-44d17a2ef57b1a19",
     "locked": false,
     "schema_version": 3,
     "solution": true,
     "task": false
    }
   },
   "outputs": [
    {
     "ename": "NameError",
     "evalue": "name 'df' is not defined",
     "output_type": "error",
     "traceback": [
      "\u001b[0;31m---------------------------------------------------------------------------\u001b[0m",
      "\u001b[0;31mNameError\u001b[0m                                 Traceback (most recent call last)",
      "\u001b[1;32m/Users/saber/Desktop/stat107/srahm3/lab_gpa/lab_gpa.ipynb Cell 16'\u001b[0m in \u001b[0;36m<module>\u001b[0;34m\u001b[0m\n\u001b[0;32m----> <a href='vscode-notebook-cell:/Users/saber/Desktop/stat107/srahm3/lab_gpa/lab_gpa.ipynb#ch0000015?line=0'>1</a>\u001b[0m df_easy_2020 \u001b[39m=\u001b[39m df[df[\u001b[39m\"\u001b[39m\u001b[39mYear\u001b[39m\u001b[39m\"\u001b[39m] \u001b[39m==\u001b[39m \u001b[39m2020\u001b[39m]\u001b[39m.\u001b[39mnlargest(\u001b[39m30\u001b[39m, \u001b[39m\"\u001b[39m\u001b[39mAverage GPA\u001b[39m\u001b[39m\"\u001b[39m)\n\u001b[1;32m      <a href='vscode-notebook-cell:/Users/saber/Desktop/stat107/srahm3/lab_gpa/lab_gpa.ipynb#ch0000015?line=1'>2</a>\u001b[0m df_easy_2020\n",
      "\u001b[0;31mNameError\u001b[0m: name 'df' is not defined"
     ]
    }
   ],
   "source": [
    "df_easy_2020 = df[df[\"Year\"] == 2020].nlargest(30, \"Average GPA\")\n",
    "df_easy_2020"
   ]
  },
  {
   "cell_type": "code",
   "execution_count": 24,
   "metadata": {
    "nbgrader": {
     "grade": true,
     "grade_id": "cell-af77ae707b9fa776",
     "locked": true,
     "points": 1,
     "schema_version": 3,
     "solution": false,
     "task": false
    }
   },
   "outputs": [
    {
     "ename": "NameError",
     "evalue": "name 'df_easy_2020' is not defined",
     "output_type": "error",
     "traceback": [
      "\u001b[0;31m---------------------------------------------------------------------------\u001b[0m",
      "\u001b[0;31mNameError\u001b[0m                                 Traceback (most recent call last)",
      "\u001b[1;32m/Users/saber/Desktop/stat107/srahm3/lab_gpa/lab_gpa.ipynb Cell 17'\u001b[0m in \u001b[0;36m<module>\u001b[0;34m\u001b[0m\n\u001b[1;32m      <a href='vscode-notebook-cell:/Users/saber/Desktop/stat107/srahm3/lab_gpa/lab_gpa.ipynb#ch0000016?line=0'>1</a>\u001b[0m \u001b[39m## == TEST CASES for Puzzle 2.4 ==\u001b[39;00m\n\u001b[1;32m      <a href='vscode-notebook-cell:/Users/saber/Desktop/stat107/srahm3/lab_gpa/lab_gpa.ipynb#ch0000016?line=1'>2</a>\u001b[0m \u001b[39m# - This read-only cell contains test cases for your previous cell.\u001b[39;00m\n\u001b[1;32m      <a href='vscode-notebook-cell:/Users/saber/Desktop/stat107/srahm3/lab_gpa/lab_gpa.ipynb#ch0000016?line=2'>3</a>\u001b[0m \u001b[39m# - If this cell runs without any error or output, you PASSED all test cases!\u001b[39;00m\n\u001b[1;32m      <a href='vscode-notebook-cell:/Users/saber/Desktop/stat107/srahm3/lab_gpa/lab_gpa.ipynb#ch0000016?line=3'>4</a>\u001b[0m \u001b[39m# - If this cell results in any errors, check your previous cell, make changes, RE-RUN your code, and then RE-RUN this cell.\u001b[39;00m\n\u001b[1;32m      <a href='vscode-notebook-cell:/Users/saber/Desktop/stat107/srahm3/lab_gpa/lab_gpa.ipynb#ch0000016?line=4'>5</a>\u001b[0m \u001b[39mimport\u001b[39;00m \u001b[39mmath\u001b[39;00m\n\u001b[0;32m----> <a href='vscode-notebook-cell:/Users/saber/Desktop/stat107/srahm3/lab_gpa/lab_gpa.ipynb#ch0000016?line=5'>6</a>\u001b[0m \u001b[39massert\u001b[39;00m( \u001b[39mlen\u001b[39m(df_easy_2020) \u001b[39m==\u001b[39m \u001b[39m30\u001b[39m ), \u001b[39m\"\u001b[39m\u001b[39mYou should only have the 30 easiest courses in 2020.\u001b[39m\u001b[39m\"\u001b[39m\n\u001b[1;32m      <a href='vscode-notebook-cell:/Users/saber/Desktop/stat107/srahm3/lab_gpa/lab_gpa.ipynb#ch0000016?line=6'>7</a>\u001b[0m \u001b[39massert\u001b[39;00m( math\u001b[39m.\u001b[39misclose(df_easy_2020[\u001b[39m\"\u001b[39m\u001b[39mAverage GPA\u001b[39m\u001b[39m\"\u001b[39m]\u001b[39m.\u001b[39mmean(), \u001b[39m3.9730388348773817\u001b[39m) ), \u001b[39m\"\u001b[39m\u001b[39mAre you sure you have the 30 easiest courses in 2020?\u001b[39m\u001b[39m\"\u001b[39m\n\u001b[1;32m      <a href='vscode-notebook-cell:/Users/saber/Desktop/stat107/srahm3/lab_gpa/lab_gpa.ipynb#ch0000016?line=7'>8</a>\u001b[0m \u001b[39m## == SUCCESS MESSAGE ==\u001b[39;00m\n\u001b[1;32m      <a href='vscode-notebook-cell:/Users/saber/Desktop/stat107/srahm3/lab_gpa/lab_gpa.ipynb#ch0000016?line=8'>9</a>\u001b[0m \u001b[39m# You will only see this message (with the emoji showing) if you passed all test cases:\u001b[39;00m\n",
      "\u001b[0;31mNameError\u001b[0m: name 'df_easy_2020' is not defined"
     ]
    }
   ],
   "source": [
    "## == TEST CASES for Puzzle 2.4 ==\n",
    "# - This read-only cell contains test cases for your previous cell.\n",
    "# - If this cell runs without any error or output, you PASSED all test cases!\n",
    "# - If this cell results in any errors, check your previous cell, make changes, RE-RUN your code, and then RE-RUN this cell.\n",
    "import math\n",
    "assert( len(df_easy_2020) == 30 ), \"You should only have the 30 easiest courses in 2020.\"\n",
    "assert( math.isclose(df_easy_2020[\"Average GPA\"].mean(), 3.9730388348773817) ), \"Are you sure you have the 30 easiest courses in 2020?\"\n",
    "## == SUCCESS MESSAGE ==\n",
    "# You will only see this message (with the emoji showing) if you passed all test cases:\n",
    "tada = \"\\N{PARTY POPPER}\"\n",
    "print(f\"{tada} All tests passed! {tada}\")"
   ]
  },
  {
   "cell_type": "markdown",
   "metadata": {},
   "source": [
    "## Puzzle 3: Finding Data by Subject\n",
    "\n",
    "### Puzzle 3.1: Total Number of Grades by Subject\n",
    "\n",
    "Find the total number of each grade (eg: \"A+\"s, \"A\"s, \"A-\"s, etc.) given by different subjects. Store the results in `df_group`.\n",
    "\n",
    "Hint (double-click this cell to see it): <span style=\"color:#ffffff00\">use the groupby() and agg() function</span>"
   ]
  },
  {
   "cell_type": "code",
   "execution_count": 25,
   "metadata": {
    "nbgrader": {
     "grade": false,
     "grade_id": "cell-7d31cf501bfd8025",
     "locked": false,
     "schema_version": 3,
     "solution": true,
     "task": false
    }
   },
   "outputs": [
    {
     "ename": "NameError",
     "evalue": "name 'df' is not defined",
     "output_type": "error",
     "traceback": [
      "\u001b[0;31m---------------------------------------------------------------------------\u001b[0m",
      "\u001b[0;31mNameError\u001b[0m                                 Traceback (most recent call last)",
      "\u001b[1;32m/Users/saber/Desktop/stat107/srahm3/lab_gpa/lab_gpa.ipynb Cell 19'\u001b[0m in \u001b[0;36m<module>\u001b[0;34m\u001b[0m\n\u001b[0;32m----> <a href='vscode-notebook-cell:/Users/saber/Desktop/stat107/srahm3/lab_gpa/lab_gpa.ipynb#ch0000018?line=0'>1</a>\u001b[0m df_group \u001b[39m=\u001b[39m df\u001b[39m.\u001b[39mgroupby(\u001b[39m\"\u001b[39m\u001b[39mSubject\u001b[39m\u001b[39m\"\u001b[39m)\u001b[39m.\u001b[39magg(\u001b[39m\"\u001b[39m\u001b[39msum\u001b[39m\u001b[39m\"\u001b[39m)\u001b[39m.\u001b[39mreset_index()\n\u001b[1;32m      <a href='vscode-notebook-cell:/Users/saber/Desktop/stat107/srahm3/lab_gpa/lab_gpa.ipynb#ch0000018?line=1'>2</a>\u001b[0m df_group\n",
      "\u001b[0;31mNameError\u001b[0m: name 'df' is not defined"
     ]
    }
   ],
   "source": [
    "df_group = df.groupby(\"Subject\").agg(\"sum\").reset_index()\n",
    "df_group"
   ]
  },
  {
   "cell_type": "code",
   "execution_count": 26,
   "metadata": {
    "nbgrader": {
     "grade": true,
     "grade_id": "cell-e9ad64dffa5a1cf1",
     "locked": true,
     "points": 1,
     "schema_version": 3,
     "solution": false,
     "task": false
    }
   },
   "outputs": [
    {
     "ename": "NameError",
     "evalue": "name 'df_group' is not defined",
     "output_type": "error",
     "traceback": [
      "\u001b[0;31m---------------------------------------------------------------------------\u001b[0m",
      "\u001b[0;31mNameError\u001b[0m                                 Traceback (most recent call last)",
      "\u001b[1;32m/Users/saber/Desktop/stat107/srahm3/lab_gpa/lab_gpa.ipynb Cell 20'\u001b[0m in \u001b[0;36m<module>\u001b[0;34m\u001b[0m\n\u001b[1;32m      <a href='vscode-notebook-cell:/Users/saber/Desktop/stat107/srahm3/lab_gpa/lab_gpa.ipynb#ch0000019?line=0'>1</a>\u001b[0m \u001b[39m## == TEST CASES for Puzzle 3.1 ==\u001b[39;00m\n\u001b[1;32m      <a href='vscode-notebook-cell:/Users/saber/Desktop/stat107/srahm3/lab_gpa/lab_gpa.ipynb#ch0000019?line=1'>2</a>\u001b[0m \u001b[39m# - This read-only cell contains test cases for your previous cell.\u001b[39;00m\n\u001b[1;32m      <a href='vscode-notebook-cell:/Users/saber/Desktop/stat107/srahm3/lab_gpa/lab_gpa.ipynb#ch0000019?line=2'>3</a>\u001b[0m \u001b[39m# - If this cell runs without any error our output, you PASSED all test cases!\u001b[39;00m\n\u001b[1;32m      <a href='vscode-notebook-cell:/Users/saber/Desktop/stat107/srahm3/lab_gpa/lab_gpa.ipynb#ch0000019?line=3'>4</a>\u001b[0m \u001b[39m# - If this cell results in any errors, check your previous cell, make changes, RE-RUN your code, and then RE-RUN this cell.\u001b[39;00m\n\u001b[0;32m----> <a href='vscode-notebook-cell:/Users/saber/Desktop/stat107/srahm3/lab_gpa/lab_gpa.ipynb#ch0000019?line=4'>5</a>\u001b[0m \u001b[39massert\u001b[39;00m( \u001b[39mlen\u001b[39m(df_group) \u001b[39m==\u001b[39m \u001b[39m163\u001b[39m ), \u001b[39m\"\u001b[39m\u001b[39mAre you sure you grouped by subjects?\u001b[39m\u001b[39m\"\u001b[39m\n\u001b[1;32m      <a href='vscode-notebook-cell:/Users/saber/Desktop/stat107/srahm3/lab_gpa/lab_gpa.ipynb#ch0000019?line=5'>6</a>\u001b[0m \u001b[39massert\u001b[39;00m( df_group[ df_group[\u001b[39m\"\u001b[39m\u001b[39mSubject\u001b[39m\u001b[39m\"\u001b[39m] \u001b[39m==\u001b[39m \u001b[39m\"\u001b[39m\u001b[39mCS\u001b[39m\u001b[39m\"\u001b[39m ][\u001b[39m\"\u001b[39m\u001b[39mA\u001b[39m\u001b[39m\"\u001b[39m]\u001b[39m.\u001b[39mvalues[\u001b[39m0\u001b[39m] \u001b[39m==\u001b[39m \u001b[39m45290\u001b[39m ), \u001b[39m\"\u001b[39m\u001b[39mAre you sure you counted the right number of each subject?\u001b[39m\u001b[39m\"\u001b[39m\n\u001b[1;32m      <a href='vscode-notebook-cell:/Users/saber/Desktop/stat107/srahm3/lab_gpa/lab_gpa.ipynb#ch0000019?line=6'>7</a>\u001b[0m \u001b[39m## == SUCCESS MESSAGE ==\u001b[39;00m\n\u001b[1;32m      <a href='vscode-notebook-cell:/Users/saber/Desktop/stat107/srahm3/lab_gpa/lab_gpa.ipynb#ch0000019?line=7'>8</a>\u001b[0m \u001b[39m# You will only see this message (with the emoji showing) if you passed all test cases:\u001b[39;00m\n",
      "\u001b[0;31mNameError\u001b[0m: name 'df_group' is not defined"
     ]
    }
   ],
   "source": [
    "## == TEST CASES for Puzzle 3.1 ==\n",
    "# - This read-only cell contains test cases for your previous cell.\n",
    "# - If this cell runs without any error our output, you PASSED all test cases!\n",
    "# - If this cell results in any errors, check your previous cell, make changes, RE-RUN your code, and then RE-RUN this cell.\n",
    "assert( len(df_group) == 163 ), \"Are you sure you grouped by subjects?\"\n",
    "assert( df_group[ df_group[\"Subject\"] == \"CS\" ][\"A\"].values[0] == 45290 ), \"Are you sure you counted the right number of each subject?\"\n",
    "## == SUCCESS MESSAGE ==\n",
    "# You will only see this message (with the emoji showing) if you passed all test cases:\n",
    "tada = \"\\N{PARTY POPPER}\"\n",
    "print(f\"{tada} All tests passed! {tada}\")"
   ]
  },
  {
   "cell_type": "markdown",
   "metadata": {},
   "source": [
    "### Puzzle 3.2: Average GPA by Subject\n",
    "\n",
    "In `df_group`, add a new column called `\"Overall Average GPA\"` that computes the overall GPA of each subject at Illinois."
   ]
  },
  {
   "cell_type": "code",
   "execution_count": 27,
   "metadata": {
    "nbgrader": {
     "grade": false,
     "grade_id": "cell-7d3923eba40e1f45",
     "locked": false,
     "schema_version": 3,
     "solution": true,
     "task": false
    }
   },
   "outputs": [
    {
     "ename": "NameError",
     "evalue": "name 'df_group' is not defined",
     "output_type": "error",
     "traceback": [
      "\u001b[0;31m---------------------------------------------------------------------------\u001b[0m",
      "\u001b[0;31mNameError\u001b[0m                                 Traceback (most recent call last)",
      "\u001b[1;32m/Users/saber/Desktop/stat107/srahm3/lab_gpa/lab_gpa.ipynb Cell 22'\u001b[0m in \u001b[0;36m<module>\u001b[0;34m\u001b[0m\n\u001b[0;32m----> <a href='vscode-notebook-cell:/Users/saber/Desktop/stat107/srahm3/lab_gpa/lab_gpa.ipynb#ch0000021?line=0'>1</a>\u001b[0m df_group[\u001b[39m\"\u001b[39m\u001b[39mOverall Average GPA\u001b[39m\u001b[39m\"\u001b[39m] \u001b[39m=\u001b[39m df_group[grade]\u001b[39m.\u001b[39mdot(weight) \u001b[39m/\u001b[39m df_group[\u001b[39m\"\u001b[39m\u001b[39mTotal Students\u001b[39m\u001b[39m\"\u001b[39m]\n\u001b[1;32m      <a href='vscode-notebook-cell:/Users/saber/Desktop/stat107/srahm3/lab_gpa/lab_gpa.ipynb#ch0000021?line=1'>2</a>\u001b[0m df_group\n",
      "\u001b[0;31mNameError\u001b[0m: name 'df_group' is not defined"
     ]
    }
   ],
   "source": [
    "df_group[\"Overall Average GPA\"] = df_group[grade].dot(weight) / df_group[\"Total Students\"]\n",
    "df_group"
   ]
  },
  {
   "cell_type": "code",
   "execution_count": 28,
   "metadata": {
    "nbgrader": {
     "grade": true,
     "grade_id": "cell-81b547cf0d42b67e",
     "locked": true,
     "points": 1,
     "schema_version": 3,
     "solution": false,
     "task": false
    }
   },
   "outputs": [
    {
     "ename": "NameError",
     "evalue": "name 'df_group' is not defined",
     "output_type": "error",
     "traceback": [
      "\u001b[0;31m---------------------------------------------------------------------------\u001b[0m",
      "\u001b[0;31mNameError\u001b[0m                                 Traceback (most recent call last)",
      "\u001b[1;32m/Users/saber/Desktop/stat107/srahm3/lab_gpa/lab_gpa.ipynb Cell 23'\u001b[0m in \u001b[0;36m<module>\u001b[0;34m\u001b[0m\n\u001b[1;32m      <a href='vscode-notebook-cell:/Users/saber/Desktop/stat107/srahm3/lab_gpa/lab_gpa.ipynb#ch0000022?line=0'>1</a>\u001b[0m \u001b[39m## == TEST CASES for Puzzle 3.2 ==\u001b[39;00m\n\u001b[1;32m      <a href='vscode-notebook-cell:/Users/saber/Desktop/stat107/srahm3/lab_gpa/lab_gpa.ipynb#ch0000022?line=1'>2</a>\u001b[0m \u001b[39m# - This read-only cell contains test cases for your previous cell.\u001b[39;00m\n\u001b[1;32m      <a href='vscode-notebook-cell:/Users/saber/Desktop/stat107/srahm3/lab_gpa/lab_gpa.ipynb#ch0000022?line=2'>3</a>\u001b[0m \u001b[39m# - If this cell runs without any error or output, you PASSED all test cases!\u001b[39;00m\n\u001b[1;32m      <a href='vscode-notebook-cell:/Users/saber/Desktop/stat107/srahm3/lab_gpa/lab_gpa.ipynb#ch0000022?line=3'>4</a>\u001b[0m \u001b[39m# - If this cell results in any errors, check you previous cell, make changes, RE-RUN your code, and then RE-RUN this cell.\u001b[39;00m\n\u001b[1;32m      <a href='vscode-notebook-cell:/Users/saber/Desktop/stat107/srahm3/lab_gpa/lab_gpa.ipynb#ch0000022?line=4'>5</a>\u001b[0m \u001b[39mimport\u001b[39;00m \u001b[39mmath\u001b[39;00m\n\u001b[0;32m----> <a href='vscode-notebook-cell:/Users/saber/Desktop/stat107/srahm3/lab_gpa/lab_gpa.ipynb#ch0000022?line=5'>6</a>\u001b[0m \u001b[39massert\u001b[39;00m( math\u001b[39m.\u001b[39misclose(df_group[df_group[\u001b[39m\"\u001b[39m\u001b[39mSubject\u001b[39m\u001b[39m\"\u001b[39m] \u001b[39m==\u001b[39m \u001b[39m\"\u001b[39m\u001b[39mCS\u001b[39m\u001b[39m\"\u001b[39m][\u001b[39m\"\u001b[39m\u001b[39mOverall Average GPA\u001b[39m\u001b[39m\"\u001b[39m]\u001b[39m.\u001b[39mvalues[\u001b[39m0\u001b[39m], \u001b[39m3.2788726192300266\u001b[39m) ), \u001b[39m\"\u001b[39m\u001b[39mYour overall average GPA does not appear to be correct.\u001b[39m\u001b[39m\"\u001b[39m\n\u001b[1;32m      <a href='vscode-notebook-cell:/Users/saber/Desktop/stat107/srahm3/lab_gpa/lab_gpa.ipynb#ch0000022?line=6'>7</a>\u001b[0m \u001b[39m## == SUCCESS MESSAGE ==\u001b[39;00m\n\u001b[1;32m      <a href='vscode-notebook-cell:/Users/saber/Desktop/stat107/srahm3/lab_gpa/lab_gpa.ipynb#ch0000022?line=7'>8</a>\u001b[0m \u001b[39m# You will only see this message (with the emoji showing) if you passed all test cases:\u001b[39;00m\n\u001b[1;32m      <a href='vscode-notebook-cell:/Users/saber/Desktop/stat107/srahm3/lab_gpa/lab_gpa.ipynb#ch0000022?line=8'>9</a>\u001b[0m tada \u001b[39m=\u001b[39m \u001b[39m\"\u001b[39m\u001b[39m\\N{PARTY POPPER}\u001b[39;00m\u001b[39m\"\u001b[39m\n",
      "\u001b[0;31mNameError\u001b[0m: name 'df_group' is not defined"
     ]
    }
   ],
   "source": [
    "## == TEST CASES for Puzzle 3.2 ==\n",
    "# - This read-only cell contains test cases for your previous cell.\n",
    "# - If this cell runs without any error or output, you PASSED all test cases!\n",
    "# - If this cell results in any errors, check you previous cell, make changes, RE-RUN your code, and then RE-RUN this cell.\n",
    "import math\n",
    "assert( math.isclose(df_group[df_group[\"Subject\"] == \"CS\"][\"Overall Average GPA\"].values[0], 3.2788726192300266) ), \"Your overall average GPA does not appear to be correct.\"\n",
    "## == SUCCESS MESSAGE ==\n",
    "# You will only see this message (with the emoji showing) if you passed all test cases:\n",
    "tada = \"\\N{PARTY POPPER}\"\n",
    "print(f\"{tada} All tests passed! {tada}\")"
   ]
  },
  {
   "cell_type": "markdown",
   "metadata": {},
   "source": [
    "### Puzzle 3.3: Visualizing the Grades of Subject Equal to `\"STAT\"`\n",
    "\n",
    "Plot a density histogram of the grades (`\"A+\"` to `\"F\"`) for the subject `\"STAT\"`.\n",
    "\n",
    "Hint (double-click this cell to see it): \n",
    "<span style=\"color:#ffffff00\">\n",
    "    First, extract the row where the subject is \"STAT\".\n",
    "    Then, extract the columns \"A+\" to \"F\" and divide them by the total number of students.\n",
    "    Finally, use plot.bar().\n",
    "</span>"
   ]
  },
  {
   "cell_type": "code",
   "execution_count": 29,
   "metadata": {},
   "outputs": [
    {
     "ename": "NameError",
     "evalue": "name 'df_group' is not defined",
     "output_type": "error",
     "traceback": [
      "\u001b[0;31m---------------------------------------------------------------------------\u001b[0m",
      "\u001b[0;31mNameError\u001b[0m                                 Traceback (most recent call last)",
      "\u001b[1;32m/Users/saber/Desktop/stat107/srahm3/lab_gpa/lab_gpa.ipynb Cell 25'\u001b[0m in \u001b[0;36m<module>\u001b[0;34m\u001b[0m\n\u001b[0;32m----> <a href='vscode-notebook-cell:/Users/saber/Desktop/stat107/srahm3/lab_gpa/lab_gpa.ipynb#ch0000024?line=0'>1</a>\u001b[0m dfstat \u001b[39m=\u001b[39m df_group[df_group[\u001b[39m\"\u001b[39m\u001b[39mSubject\u001b[39m\u001b[39m\"\u001b[39m] \u001b[39m==\u001b[39m \u001b[39m\"\u001b[39m\u001b[39mSTAT\u001b[39m\u001b[39m\"\u001b[39m]\n\u001b[1;32m      <a href='vscode-notebook-cell:/Users/saber/Desktop/stat107/srahm3/lab_gpa/lab_gpa.ipynb#ch0000024?line=1'>2</a>\u001b[0m dfstat[grade]\n\u001b[1;32m      <a href='vscode-notebook-cell:/Users/saber/Desktop/stat107/srahm3/lab_gpa/lab_gpa.ipynb#ch0000024?line=2'>3</a>\u001b[0m dfc \u001b[39m=\u001b[39m dfstat[grade] \u001b[39m/\u001b[39m dfstat[\u001b[39m\"\u001b[39m\u001b[39mTotal Students\u001b[39m\u001b[39m\"\u001b[39m]\u001b[39m.\u001b[39mvalues[\u001b[39m0\u001b[39m]\n",
      "\u001b[0;31mNameError\u001b[0m: name 'df_group' is not defined"
     ]
    }
   ],
   "source": [
    "dfstat = df_group[df_group[\"Subject\"] == \"STAT\"]\n",
    "dfc = dfstat[grade] / dfstat[\"Total Students\"].values[0]\n",
    "dfc.plot.bar()"
   ]
  },
  {
   "cell_type": "markdown",
   "metadata": {},
   "source": [
    "### Puzzle 3.4: ❓ Individual Reflection Question ❓ \n",
    "\n",
    "Density Histogram vs. Frequency Histogram\n",
    "\n",
    "Why should we use density histogram in Puzzle 3.3? Is it meaningful to compare the frequency histogram between different subjects?"
   ]
  },
  {
   "cell_type": "markdown",
   "metadata": {},
   "source": [
    "The density histogram makes it easy to identify what grade was most common between all the students where as frequency would just show where grade differences spiked."
   ]
  },
  {
   "cell_type": "markdown",
   "metadata": {},
   "source": [
    "### Puzzle 3.5: Find Your Major\n",
    "\n",
    "Finally, find your major/subject in the dataset and check out how hard it is! \n",
    "\n",
    "Feel free to look around and explore! Part of being a data scientist is being creative and using Python to answer questions that you have.  Write your code below and write comments in Puzzle 3.6 to explain what your code does. For example, what are the hardest classes in your major that have had at least 50 students?"
   ]
  },
  {
   "cell_type": "code",
   "execution_count": null,
   "metadata": {
    "nbgrader": {
     "grade": false,
     "grade_id": "cell-116a2bb23ee81616",
     "locked": false,
     "schema_version": 3,
     "solution": true,
     "task": false
    }
   },
   "outputs": [
    {
     "data": {
      "text/html": [
       "<div>\n",
       "<style scoped>\n",
       "    .dataframe tbody tr th:only-of-type {\n",
       "        vertical-align: middle;\n",
       "    }\n",
       "\n",
       "    .dataframe tbody tr th {\n",
       "        vertical-align: top;\n",
       "    }\n",
       "\n",
       "    .dataframe thead th {\n",
       "        text-align: right;\n",
       "    }\n",
       "</style>\n",
       "<table border=\"1\" class=\"dataframe\">\n",
       "  <thead>\n",
       "    <tr style=\"text-align: right;\">\n",
       "      <th></th>\n",
       "      <th>Year</th>\n",
       "      <th>Term</th>\n",
       "      <th>YearTerm</th>\n",
       "      <th>Subject</th>\n",
       "      <th>Number</th>\n",
       "      <th>Course Title</th>\n",
       "      <th>A+</th>\n",
       "      <th>A</th>\n",
       "      <th>A-</th>\n",
       "      <th>B+</th>\n",
       "      <th>...</th>\n",
       "      <th>C</th>\n",
       "      <th>C-</th>\n",
       "      <th>D+</th>\n",
       "      <th>D</th>\n",
       "      <th>D-</th>\n",
       "      <th>F</th>\n",
       "      <th>W</th>\n",
       "      <th>Primary Instructor</th>\n",
       "      <th>Total Students</th>\n",
       "      <th>Average GPA</th>\n",
       "    </tr>\n",
       "  </thead>\n",
       "  <tbody>\n",
       "    <tr>\n",
       "      <th>26573</th>\n",
       "      <td>2015</td>\n",
       "      <td>Spring</td>\n",
       "      <td>2015-sp</td>\n",
       "      <td>IS</td>\n",
       "      <td>502</td>\n",
       "      <td>Libraries Info and Society</td>\n",
       "      <td>0</td>\n",
       "      <td>2</td>\n",
       "      <td>1</td>\n",
       "      <td>16</td>\n",
       "      <td>...</td>\n",
       "      <td>1</td>\n",
       "      <td>0</td>\n",
       "      <td>0</td>\n",
       "      <td>1</td>\n",
       "      <td>0</td>\n",
       "      <td>0</td>\n",
       "      <td>0</td>\n",
       "      <td>Estabrook, Leigh S</td>\n",
       "      <td>53</td>\n",
       "      <td>3.018302</td>\n",
       "    </tr>\n",
       "    <tr>\n",
       "      <th>13968</th>\n",
       "      <td>2017</td>\n",
       "      <td>Fall</td>\n",
       "      <td>2017-fa</td>\n",
       "      <td>IS</td>\n",
       "      <td>490</td>\n",
       "      <td>Introduction to Databases</td>\n",
       "      <td>1</td>\n",
       "      <td>8</td>\n",
       "      <td>4</td>\n",
       "      <td>2</td>\n",
       "      <td>...</td>\n",
       "      <td>0</td>\n",
       "      <td>0</td>\n",
       "      <td>0</td>\n",
       "      <td>0</td>\n",
       "      <td>0</td>\n",
       "      <td>3</td>\n",
       "      <td>0</td>\n",
       "      <td>Trainor, Kevin</td>\n",
       "      <td>21</td>\n",
       "      <td>3.063333</td>\n",
       "    </tr>\n",
       "    <tr>\n",
       "      <th>52900</th>\n",
       "      <td>2010</td>\n",
       "      <td>Spring</td>\n",
       "      <td>2010-sp</td>\n",
       "      <td>IS</td>\n",
       "      <td>310</td>\n",
       "      <td>Computing in the Humanities</td>\n",
       "      <td>0</td>\n",
       "      <td>4</td>\n",
       "      <td>3</td>\n",
       "      <td>5</td>\n",
       "      <td>...</td>\n",
       "      <td>0</td>\n",
       "      <td>0</td>\n",
       "      <td>0</td>\n",
       "      <td>1</td>\n",
       "      <td>0</td>\n",
       "      <td>1</td>\n",
       "      <td>0</td>\n",
       "      <td>Urban, Richard J</td>\n",
       "      <td>23</td>\n",
       "      <td>3.115652</td>\n",
       "    </tr>\n",
       "    <tr>\n",
       "      <th>32560</th>\n",
       "      <td>2014</td>\n",
       "      <td>Summer</td>\n",
       "      <td>2014-su</td>\n",
       "      <td>IS</td>\n",
       "      <td>502</td>\n",
       "      <td>Libraries Info and Society</td>\n",
       "      <td>0</td>\n",
       "      <td>0</td>\n",
       "      <td>5</td>\n",
       "      <td>11</td>\n",
       "      <td>...</td>\n",
       "      <td>0</td>\n",
       "      <td>0</td>\n",
       "      <td>0</td>\n",
       "      <td>0</td>\n",
       "      <td>0</td>\n",
       "      <td>0</td>\n",
       "      <td>0</td>\n",
       "      <td>Estabrook, Leigh S</td>\n",
       "      <td>29</td>\n",
       "      <td>3.148966</td>\n",
       "    </tr>\n",
       "    <tr>\n",
       "      <th>27530</th>\n",
       "      <td>2015</td>\n",
       "      <td>Summer</td>\n",
       "      <td>2015-su</td>\n",
       "      <td>IS</td>\n",
       "      <td>502</td>\n",
       "      <td>Libraries Info and Society</td>\n",
       "      <td>0</td>\n",
       "      <td>2</td>\n",
       "      <td>14</td>\n",
       "      <td>18</td>\n",
       "      <td>...</td>\n",
       "      <td>0</td>\n",
       "      <td>0</td>\n",
       "      <td>0</td>\n",
       "      <td>2</td>\n",
       "      <td>0</td>\n",
       "      <td>0</td>\n",
       "      <td>0</td>\n",
       "      <td>Estabrook, Leigh S</td>\n",
       "      <td>58</td>\n",
       "      <td>3.172759</td>\n",
       "    </tr>\n",
       "    <tr>\n",
       "      <th>32561</th>\n",
       "      <td>2014</td>\n",
       "      <td>Summer</td>\n",
       "      <td>2014-su</td>\n",
       "      <td>IS</td>\n",
       "      <td>502</td>\n",
       "      <td>Libraries Info and Society</td>\n",
       "      <td>0</td>\n",
       "      <td>0</td>\n",
       "      <td>5</td>\n",
       "      <td>9</td>\n",
       "      <td>...</td>\n",
       "      <td>0</td>\n",
       "      <td>0</td>\n",
       "      <td>0</td>\n",
       "      <td>0</td>\n",
       "      <td>0</td>\n",
       "      <td>0</td>\n",
       "      <td>1</td>\n",
       "      <td>Estabrook, Leigh S</td>\n",
       "      <td>23</td>\n",
       "      <td>3.202174</td>\n",
       "    </tr>\n",
       "    <tr>\n",
       "      <th>27529</th>\n",
       "      <td>2015</td>\n",
       "      <td>Summer</td>\n",
       "      <td>2015-su</td>\n",
       "      <td>IS</td>\n",
       "      <td>502</td>\n",
       "      <td>Libraries Info and Society</td>\n",
       "      <td>0</td>\n",
       "      <td>0</td>\n",
       "      <td>14</td>\n",
       "      <td>32</td>\n",
       "      <td>...</td>\n",
       "      <td>2</td>\n",
       "      <td>0</td>\n",
       "      <td>0</td>\n",
       "      <td>0</td>\n",
       "      <td>0</td>\n",
       "      <td>0</td>\n",
       "      <td>0</td>\n",
       "      <td>Estabrook, Leigh S</td>\n",
       "      <td>70</td>\n",
       "      <td>3.218571</td>\n",
       "    </tr>\n",
       "    <tr>\n",
       "      <th>8903</th>\n",
       "      <td>2018</td>\n",
       "      <td>Fall</td>\n",
       "      <td>2018-fa</td>\n",
       "      <td>IS</td>\n",
       "      <td>542</td>\n",
       "      <td>Data, Stat, Info</td>\n",
       "      <td>0</td>\n",
       "      <td>5</td>\n",
       "      <td>14</td>\n",
       "      <td>5</td>\n",
       "      <td>...</td>\n",
       "      <td>4</td>\n",
       "      <td>0</td>\n",
       "      <td>0</td>\n",
       "      <td>0</td>\n",
       "      <td>0</td>\n",
       "      <td>0</td>\n",
       "      <td>0</td>\n",
       "      <td>Dubin, David S</td>\n",
       "      <td>36</td>\n",
       "      <td>3.269444</td>\n",
       "    </tr>\n",
       "    <tr>\n",
       "      <th>17398</th>\n",
       "      <td>2017</td>\n",
       "      <td>Summer</td>\n",
       "      <td>2017-su</td>\n",
       "      <td>IS</td>\n",
       "      <td>507</td>\n",
       "      <td>Intr to Bibliographic Metadata</td>\n",
       "      <td>2</td>\n",
       "      <td>9</td>\n",
       "      <td>0</td>\n",
       "      <td>1</td>\n",
       "      <td>...</td>\n",
       "      <td>1</td>\n",
       "      <td>0</td>\n",
       "      <td>0</td>\n",
       "      <td>0</td>\n",
       "      <td>1</td>\n",
       "      <td>0</td>\n",
       "      <td>0</td>\n",
       "      <td>Shoemaker, Elizabeth A</td>\n",
       "      <td>21</td>\n",
       "      <td>3.349048</td>\n",
       "    </tr>\n",
       "    <tr>\n",
       "      <th>8904</th>\n",
       "      <td>2018</td>\n",
       "      <td>Fall</td>\n",
       "      <td>2018-fa</td>\n",
       "      <td>IS</td>\n",
       "      <td>542</td>\n",
       "      <td>Data, Stat, Info</td>\n",
       "      <td>0</td>\n",
       "      <td>5</td>\n",
       "      <td>8</td>\n",
       "      <td>2</td>\n",
       "      <td>...</td>\n",
       "      <td>3</td>\n",
       "      <td>0</td>\n",
       "      <td>0</td>\n",
       "      <td>0</td>\n",
       "      <td>0</td>\n",
       "      <td>0</td>\n",
       "      <td>0</td>\n",
       "      <td>Dubin, David S</td>\n",
       "      <td>22</td>\n",
       "      <td>3.349545</td>\n",
       "    </tr>\n",
       "  </tbody>\n",
       "</table>\n",
       "<p>10 rows × 23 columns</p>\n",
       "</div>"
      ],
      "text/plain": [
       "       Year    Term YearTerm Subject  Number                    Course Title  \\\n",
       "26573  2015  Spring  2015-sp      IS     502      Libraries Info and Society   \n",
       "13968  2017    Fall  2017-fa      IS     490       Introduction to Databases   \n",
       "52900  2010  Spring  2010-sp      IS     310     Computing in the Humanities   \n",
       "32560  2014  Summer  2014-su      IS     502      Libraries Info and Society   \n",
       "27530  2015  Summer  2015-su      IS     502      Libraries Info and Society   \n",
       "32561  2014  Summer  2014-su      IS     502      Libraries Info and Society   \n",
       "27529  2015  Summer  2015-su      IS     502      Libraries Info and Society   \n",
       "8903   2018    Fall  2018-fa      IS     542                Data, Stat, Info   \n",
       "17398  2017  Summer  2017-su      IS     507  Intr to Bibliographic Metadata   \n",
       "8904   2018    Fall  2018-fa      IS     542                Data, Stat, Info   \n",
       "\n",
       "       A+  A  A-  B+  ...  C  C-  D+  D  D-  F  W      Primary Instructor  \\\n",
       "26573   0  2   1  16  ...  1   0   0  1   0  0  0      Estabrook, Leigh S   \n",
       "13968   1  8   4   2  ...  0   0   0  0   0  3  0          Trainor, Kevin   \n",
       "52900   0  4   3   5  ...  0   0   0  1   0  1  0        Urban, Richard J   \n",
       "32560   0  0   5  11  ...  0   0   0  0   0  0  0      Estabrook, Leigh S   \n",
       "27530   0  2  14  18  ...  0   0   0  2   0  0  0      Estabrook, Leigh S   \n",
       "32561   0  0   5   9  ...  0   0   0  0   0  0  1      Estabrook, Leigh S   \n",
       "27529   0  0  14  32  ...  2   0   0  0   0  0  0      Estabrook, Leigh S   \n",
       "8903    0  5  14   5  ...  4   0   0  0   0  0  0          Dubin, David S   \n",
       "17398   2  9   0   1  ...  1   0   0  0   1  0  0  Shoemaker, Elizabeth A   \n",
       "8904    0  5   8   2  ...  3   0   0  0   0  0  0          Dubin, David S   \n",
       "\n",
       "       Total Students  Average GPA  \n",
       "26573              53     3.018302  \n",
       "13968              21     3.063333  \n",
       "52900              23     3.115652  \n",
       "32560              29     3.148966  \n",
       "27530              58     3.172759  \n",
       "32561              23     3.202174  \n",
       "27529              70     3.218571  \n",
       "8903               36     3.269444  \n",
       "17398              21     3.349048  \n",
       "8904               22     3.349545  \n",
       "\n",
       "[10 rows x 23 columns]"
      ]
     },
     "execution_count": 59,
     "metadata": {},
     "output_type": "execute_result"
    }
   ],
   "source": [
    "# Feel free to explore. Credit will be given as long as you try some new code (i.e., not directly copied from any puzzles).\n",
    "\n",
    "dis = df[df[\"Subject\"] == \"IS\"]\n",
    "dis = dis.nsmallest(10, \"Average GPA\")\n",
    "dis"
   ]
  },
  {
   "cell_type": "markdown",
   "metadata": {},
   "source": [
    "### Puzzle 3.6: ❓ Individual Reflection Question ❓ \n",
    "\n",
    "Explain what you did in Puzzle 3.5 here, as well as what you found!  This is your chance to interpret your results and teach us something that you found interesting :)"
   ]
  },
  {
   "cell_type": "markdown",
   "metadata": {},
   "source": [
    "I pulled all the courses that were under my major of Information Science and pulled out the lowest gpas from all the classes. I found it interesting that the lowest GPA was still above a 3."
   ]
  },
  {
   "cell_type": "markdown",
   "metadata": {},
   "source": [
    "# Finale!\n",
    "\n",
    "You're almost done -- congratulations!\n",
    "\n",
    "You need to do two more things:\n",
    "\n",
    "1.  Save your work. To do this, go to File -> Save All\n",
    "\n",
    "2.  After you have saved, exit this notebook and follow the webpage instructions to commit this lab to your Git repository!"
   ]
  }
 ],
 "metadata": {
  "celltoolbar": "Create Assignment",
  "interpreter": {
   "hash": "3b8139b19a42d2cc2d5868d061daa36e817f1d0defedc1ea62988e353be55fb4"
  },
  "kernelspec": {
   "display_name": "Python 3 (ipykernel)",
   "language": "python",
   "name": "python3"
  },
  "language_info": {
   "codemirror_mode": {
    "name": "ipython",
    "version": 3
   },
   "file_extension": ".py",
   "mimetype": "text/x-python",
   "name": "python",
   "nbconvert_exporter": "python",
   "pygments_lexer": "ipython3",
   "version": "3.8.9"
  }
 },
 "nbformat": 4,
 "nbformat_minor": 4
}
